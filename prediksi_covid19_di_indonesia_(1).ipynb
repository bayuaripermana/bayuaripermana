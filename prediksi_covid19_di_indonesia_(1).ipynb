{
  "metadata": {
    "kernelspec": {
      "display_name": "Python 3",
      "language": "python",
      "name": "python3"
    },
    "language_info": {
      "codemirror_mode": {
        "name": "ipython",
        "version": 3
      },
      "file_extension": ".py",
      "mimetype": "text/x-python",
      "name": "python",
      "nbconvert_exporter": "python",
      "pygments_lexer": "ipython3",
      "version": "3.7.4"
    },
    "colab": {
      "name": "prediksi-covid19-di-indonesia (1).ipynb",
      "provenance": [],
      "include_colab_link": true
    }
  },
  "nbformat_minor": 0,
  "nbformat": 4,
  "cells": [
    {
      "cell_type": "markdown",
      "metadata": {
        "id": "view-in-github",
        "colab_type": "text"
      },
      "source": [
        "<a href=\"https://colab.research.google.com/github/bayuaripermana/bayuaripermana/blob/main/prediksi_covid19_di_indonesia_(1).ipynb\" target=\"_parent\"><img src=\"https://colab.research.google.com/assets/colab-badge.svg\" alt=\"Open In Colab\"/></a>"
      ]
    },
    {
      "cell_type": "markdown",
      "source": [
        "# Prediksi Covid19 di Indonesia menggunakan Model Polynomial Regression"
      ],
      "metadata": {
        "id": "hibeB2u6eFhM"
      }
    },
    {
      "cell_type": "markdown",
      "source": [
        "Pada kesempatan ini saya akan menggunakan model Polynomial untuk memperkirakan laju penyebaran Covid19 sampai dengan akhir April 2020. Polynomial Regression membuat sekenario terburuk terhadap laju pertumbuhan Covid19, sekenario terburuk dipilih sebagai langkah agar pemerintah dan kita semua lebih serius untuk bersama sama melawan Covid19 ini."
      ],
      "metadata": {
        "id": "LF-NKx--eFhQ"
      }
    },
    {
      "cell_type": "code",
      "source": [
        "import pandas as pd\n",
        "import numpy as np\n",
        "import matplotlib.pyplot as plt\n",
        "import seaborn as sns\n",
        "from sklearn.linear_model import LinearRegression\n",
        "from sklearn.preprocessing import PolynomialFeatures\n",
        "from sklearn.metrics import r2_score, mean_squared_error\n",
        "\n",
        "import warnings\n",
        "warnings.filterwarnings('ignore')"
      ],
      "metadata": {
        "trusted": true,
        "id": "pvV1Hc0reFhR"
      },
      "execution_count": null,
      "outputs": []
    },
    {
      "cell_type": "markdown",
      "source": [
        "Kasus pertama di Indonesia dilaporkan pada 01 Maret 2020, tanggal ini akan kita jadikan sebagai hari ke-0 untuk memulai prediksi"
      ],
      "metadata": {
        "id": "04d3xsN0eFhS"
      }
    },
    {
      "cell_type": "code",
      "source": [
        "df = pd.read_csv('/content/drive/MyDrive/prediksi covid/confirmed_acc.csv', parse_dates=['date'])\n",
        "df = df.iloc[39:]\n",
        "df.reset_index(inplace=True)\n",
        "df['day'] = np.arange(df.shape[0])\n",
        "df = df[['date','day','cases']] \n",
        "df"
      ],
      "metadata": {
        "trusted": true,
        "id": "IzN6cgDAeFhT",
        "colab": {
          "base_uri": "https://localhost:8080/",
          "height": 1000
        },
        "outputId": "11f378ef-d4f5-4315-fded-6f7e0cd399fb"
      },
      "execution_count": 6,
      "outputs": [
        {
          "output_type": "execute_result",
          "data": {
            "text/plain": [
              "         date  day  cases\n",
              "0  2020-03-01    0      0\n",
              "1  2020-03-02    1      2\n",
              "2  2020-03-03    2      2\n",
              "3  2020-03-04    3      2\n",
              "4  2020-03-05    4      2\n",
              "5  2020-03-06    5      4\n",
              "6  2020-03-07    6      4\n",
              "7  2020-03-08    7      6\n",
              "8  2020-03-09    8     19\n",
              "9  2020-03-10    9     27\n",
              "10 2020-03-11   10     34\n",
              "11 2020-03-12   11     34\n",
              "12 2020-03-13   12     69\n",
              "13 2020-03-14   13     96\n",
              "14 2020-03-15   14    117\n",
              "15 2020-03-16   15    134\n",
              "16 2020-03-17   16    172\n",
              "17 2020-03-18   17    227\n",
              "18 2020-03-19   18    309\n",
              "19 2020-03-20   19    369\n",
              "20 2020-03-21   20    450\n",
              "21 2020-03-22   21    514\n",
              "22 2020-03-23   22    579\n",
              "23 2020-03-24   23    685\n",
              "24 2020-03-25   24    790\n",
              "25 2020-03-26   25    893\n",
              "26 2020-03-27   26   1046\n",
              "27 2020-03-28   27   1155\n",
              "28 2020-03-29   28   1285\n",
              "29 2020-03-30   29   1414\n",
              "30 2020-03-31   30   1528\n",
              "31 2020-04-01   31   1677\n",
              "32 2020-04-02   32   1790\n",
              "33 2020-04-03   33   1986\n",
              "34 2020-04-04   34   2092\n",
              "35 2020-04-05   35   2273\n",
              "36 2020-04-06   36   2491\n",
              "37 2020-04-07   37   2738\n",
              "38 2020-04-08   38   2956\n",
              "39 2020-04-09   39   3293\n",
              "40 2020-04-10   40   3512"
            ],
            "text/html": [
              "\n",
              "  <div id=\"df-99569f2f-7d5f-4726-b20f-67ded9c88c32\">\n",
              "    <div class=\"colab-df-container\">\n",
              "      <div>\n",
              "<style scoped>\n",
              "    .dataframe tbody tr th:only-of-type {\n",
              "        vertical-align: middle;\n",
              "    }\n",
              "\n",
              "    .dataframe tbody tr th {\n",
              "        vertical-align: top;\n",
              "    }\n",
              "\n",
              "    .dataframe thead th {\n",
              "        text-align: right;\n",
              "    }\n",
              "</style>\n",
              "<table border=\"1\" class=\"dataframe\">\n",
              "  <thead>\n",
              "    <tr style=\"text-align: right;\">\n",
              "      <th></th>\n",
              "      <th>date</th>\n",
              "      <th>day</th>\n",
              "      <th>cases</th>\n",
              "    </tr>\n",
              "  </thead>\n",
              "  <tbody>\n",
              "    <tr>\n",
              "      <th>0</th>\n",
              "      <td>2020-03-01</td>\n",
              "      <td>0</td>\n",
              "      <td>0</td>\n",
              "    </tr>\n",
              "    <tr>\n",
              "      <th>1</th>\n",
              "      <td>2020-03-02</td>\n",
              "      <td>1</td>\n",
              "      <td>2</td>\n",
              "    </tr>\n",
              "    <tr>\n",
              "      <th>2</th>\n",
              "      <td>2020-03-03</td>\n",
              "      <td>2</td>\n",
              "      <td>2</td>\n",
              "    </tr>\n",
              "    <tr>\n",
              "      <th>3</th>\n",
              "      <td>2020-03-04</td>\n",
              "      <td>3</td>\n",
              "      <td>2</td>\n",
              "    </tr>\n",
              "    <tr>\n",
              "      <th>4</th>\n",
              "      <td>2020-03-05</td>\n",
              "      <td>4</td>\n",
              "      <td>2</td>\n",
              "    </tr>\n",
              "    <tr>\n",
              "      <th>5</th>\n",
              "      <td>2020-03-06</td>\n",
              "      <td>5</td>\n",
              "      <td>4</td>\n",
              "    </tr>\n",
              "    <tr>\n",
              "      <th>6</th>\n",
              "      <td>2020-03-07</td>\n",
              "      <td>6</td>\n",
              "      <td>4</td>\n",
              "    </tr>\n",
              "    <tr>\n",
              "      <th>7</th>\n",
              "      <td>2020-03-08</td>\n",
              "      <td>7</td>\n",
              "      <td>6</td>\n",
              "    </tr>\n",
              "    <tr>\n",
              "      <th>8</th>\n",
              "      <td>2020-03-09</td>\n",
              "      <td>8</td>\n",
              "      <td>19</td>\n",
              "    </tr>\n",
              "    <tr>\n",
              "      <th>9</th>\n",
              "      <td>2020-03-10</td>\n",
              "      <td>9</td>\n",
              "      <td>27</td>\n",
              "    </tr>\n",
              "    <tr>\n",
              "      <th>10</th>\n",
              "      <td>2020-03-11</td>\n",
              "      <td>10</td>\n",
              "      <td>34</td>\n",
              "    </tr>\n",
              "    <tr>\n",
              "      <th>11</th>\n",
              "      <td>2020-03-12</td>\n",
              "      <td>11</td>\n",
              "      <td>34</td>\n",
              "    </tr>\n",
              "    <tr>\n",
              "      <th>12</th>\n",
              "      <td>2020-03-13</td>\n",
              "      <td>12</td>\n",
              "      <td>69</td>\n",
              "    </tr>\n",
              "    <tr>\n",
              "      <th>13</th>\n",
              "      <td>2020-03-14</td>\n",
              "      <td>13</td>\n",
              "      <td>96</td>\n",
              "    </tr>\n",
              "    <tr>\n",
              "      <th>14</th>\n",
              "      <td>2020-03-15</td>\n",
              "      <td>14</td>\n",
              "      <td>117</td>\n",
              "    </tr>\n",
              "    <tr>\n",
              "      <th>15</th>\n",
              "      <td>2020-03-16</td>\n",
              "      <td>15</td>\n",
              "      <td>134</td>\n",
              "    </tr>\n",
              "    <tr>\n",
              "      <th>16</th>\n",
              "      <td>2020-03-17</td>\n",
              "      <td>16</td>\n",
              "      <td>172</td>\n",
              "    </tr>\n",
              "    <tr>\n",
              "      <th>17</th>\n",
              "      <td>2020-03-18</td>\n",
              "      <td>17</td>\n",
              "      <td>227</td>\n",
              "    </tr>\n",
              "    <tr>\n",
              "      <th>18</th>\n",
              "      <td>2020-03-19</td>\n",
              "      <td>18</td>\n",
              "      <td>309</td>\n",
              "    </tr>\n",
              "    <tr>\n",
              "      <th>19</th>\n",
              "      <td>2020-03-20</td>\n",
              "      <td>19</td>\n",
              "      <td>369</td>\n",
              "    </tr>\n",
              "    <tr>\n",
              "      <th>20</th>\n",
              "      <td>2020-03-21</td>\n",
              "      <td>20</td>\n",
              "      <td>450</td>\n",
              "    </tr>\n",
              "    <tr>\n",
              "      <th>21</th>\n",
              "      <td>2020-03-22</td>\n",
              "      <td>21</td>\n",
              "      <td>514</td>\n",
              "    </tr>\n",
              "    <tr>\n",
              "      <th>22</th>\n",
              "      <td>2020-03-23</td>\n",
              "      <td>22</td>\n",
              "      <td>579</td>\n",
              "    </tr>\n",
              "    <tr>\n",
              "      <th>23</th>\n",
              "      <td>2020-03-24</td>\n",
              "      <td>23</td>\n",
              "      <td>685</td>\n",
              "    </tr>\n",
              "    <tr>\n",
              "      <th>24</th>\n",
              "      <td>2020-03-25</td>\n",
              "      <td>24</td>\n",
              "      <td>790</td>\n",
              "    </tr>\n",
              "    <tr>\n",
              "      <th>25</th>\n",
              "      <td>2020-03-26</td>\n",
              "      <td>25</td>\n",
              "      <td>893</td>\n",
              "    </tr>\n",
              "    <tr>\n",
              "      <th>26</th>\n",
              "      <td>2020-03-27</td>\n",
              "      <td>26</td>\n",
              "      <td>1046</td>\n",
              "    </tr>\n",
              "    <tr>\n",
              "      <th>27</th>\n",
              "      <td>2020-03-28</td>\n",
              "      <td>27</td>\n",
              "      <td>1155</td>\n",
              "    </tr>\n",
              "    <tr>\n",
              "      <th>28</th>\n",
              "      <td>2020-03-29</td>\n",
              "      <td>28</td>\n",
              "      <td>1285</td>\n",
              "    </tr>\n",
              "    <tr>\n",
              "      <th>29</th>\n",
              "      <td>2020-03-30</td>\n",
              "      <td>29</td>\n",
              "      <td>1414</td>\n",
              "    </tr>\n",
              "    <tr>\n",
              "      <th>30</th>\n",
              "      <td>2020-03-31</td>\n",
              "      <td>30</td>\n",
              "      <td>1528</td>\n",
              "    </tr>\n",
              "    <tr>\n",
              "      <th>31</th>\n",
              "      <td>2020-04-01</td>\n",
              "      <td>31</td>\n",
              "      <td>1677</td>\n",
              "    </tr>\n",
              "    <tr>\n",
              "      <th>32</th>\n",
              "      <td>2020-04-02</td>\n",
              "      <td>32</td>\n",
              "      <td>1790</td>\n",
              "    </tr>\n",
              "    <tr>\n",
              "      <th>33</th>\n",
              "      <td>2020-04-03</td>\n",
              "      <td>33</td>\n",
              "      <td>1986</td>\n",
              "    </tr>\n",
              "    <tr>\n",
              "      <th>34</th>\n",
              "      <td>2020-04-04</td>\n",
              "      <td>34</td>\n",
              "      <td>2092</td>\n",
              "    </tr>\n",
              "    <tr>\n",
              "      <th>35</th>\n",
              "      <td>2020-04-05</td>\n",
              "      <td>35</td>\n",
              "      <td>2273</td>\n",
              "    </tr>\n",
              "    <tr>\n",
              "      <th>36</th>\n",
              "      <td>2020-04-06</td>\n",
              "      <td>36</td>\n",
              "      <td>2491</td>\n",
              "    </tr>\n",
              "    <tr>\n",
              "      <th>37</th>\n",
              "      <td>2020-04-07</td>\n",
              "      <td>37</td>\n",
              "      <td>2738</td>\n",
              "    </tr>\n",
              "    <tr>\n",
              "      <th>38</th>\n",
              "      <td>2020-04-08</td>\n",
              "      <td>38</td>\n",
              "      <td>2956</td>\n",
              "    </tr>\n",
              "    <tr>\n",
              "      <th>39</th>\n",
              "      <td>2020-04-09</td>\n",
              "      <td>39</td>\n",
              "      <td>3293</td>\n",
              "    </tr>\n",
              "    <tr>\n",
              "      <th>40</th>\n",
              "      <td>2020-04-10</td>\n",
              "      <td>40</td>\n",
              "      <td>3512</td>\n",
              "    </tr>\n",
              "  </tbody>\n",
              "</table>\n",
              "</div>\n",
              "      <button class=\"colab-df-convert\" onclick=\"convertToInteractive('df-99569f2f-7d5f-4726-b20f-67ded9c88c32')\"\n",
              "              title=\"Convert this dataframe to an interactive table.\"\n",
              "              style=\"display:none;\">\n",
              "        \n",
              "  <svg xmlns=\"http://www.w3.org/2000/svg\" height=\"24px\"viewBox=\"0 0 24 24\"\n",
              "       width=\"24px\">\n",
              "    <path d=\"M0 0h24v24H0V0z\" fill=\"none\"/>\n",
              "    <path d=\"M18.56 5.44l.94 2.06.94-2.06 2.06-.94-2.06-.94-.94-2.06-.94 2.06-2.06.94zm-11 1L8.5 8.5l.94-2.06 2.06-.94-2.06-.94L8.5 2.5l-.94 2.06-2.06.94zm10 10l.94 2.06.94-2.06 2.06-.94-2.06-.94-.94-2.06-.94 2.06-2.06.94z\"/><path d=\"M17.41 7.96l-1.37-1.37c-.4-.4-.92-.59-1.43-.59-.52 0-1.04.2-1.43.59L10.3 9.45l-7.72 7.72c-.78.78-.78 2.05 0 2.83L4 21.41c.39.39.9.59 1.41.59.51 0 1.02-.2 1.41-.59l7.78-7.78 2.81-2.81c.8-.78.8-2.07 0-2.86zM5.41 20L4 18.59l7.72-7.72 1.47 1.35L5.41 20z\"/>\n",
              "  </svg>\n",
              "      </button>\n",
              "      \n",
              "  <style>\n",
              "    .colab-df-container {\n",
              "      display:flex;\n",
              "      flex-wrap:wrap;\n",
              "      gap: 12px;\n",
              "    }\n",
              "\n",
              "    .colab-df-convert {\n",
              "      background-color: #E8F0FE;\n",
              "      border: none;\n",
              "      border-radius: 50%;\n",
              "      cursor: pointer;\n",
              "      display: none;\n",
              "      fill: #1967D2;\n",
              "      height: 32px;\n",
              "      padding: 0 0 0 0;\n",
              "      width: 32px;\n",
              "    }\n",
              "\n",
              "    .colab-df-convert:hover {\n",
              "      background-color: #E2EBFA;\n",
              "      box-shadow: 0px 1px 2px rgba(60, 64, 67, 0.3), 0px 1px 3px 1px rgba(60, 64, 67, 0.15);\n",
              "      fill: #174EA6;\n",
              "    }\n",
              "\n",
              "    [theme=dark] .colab-df-convert {\n",
              "      background-color: #3B4455;\n",
              "      fill: #D2E3FC;\n",
              "    }\n",
              "\n",
              "    [theme=dark] .colab-df-convert:hover {\n",
              "      background-color: #434B5C;\n",
              "      box-shadow: 0px 1px 3px 1px rgba(0, 0, 0, 0.15);\n",
              "      filter: drop-shadow(0px 1px 2px rgba(0, 0, 0, 0.3));\n",
              "      fill: #FFFFFF;\n",
              "    }\n",
              "  </style>\n",
              "\n",
              "      <script>\n",
              "        const buttonEl =\n",
              "          document.querySelector('#df-99569f2f-7d5f-4726-b20f-67ded9c88c32 button.colab-df-convert');\n",
              "        buttonEl.style.display =\n",
              "          google.colab.kernel.accessAllowed ? 'block' : 'none';\n",
              "\n",
              "        async function convertToInteractive(key) {\n",
              "          const element = document.querySelector('#df-99569f2f-7d5f-4726-b20f-67ded9c88c32');\n",
              "          const dataTable =\n",
              "            await google.colab.kernel.invokeFunction('convertToInteractive',\n",
              "                                                     [key], {});\n",
              "          if (!dataTable) return;\n",
              "\n",
              "          const docLinkHtml = 'Like what you see? Visit the ' +\n",
              "            '<a target=\"_blank\" href=https://colab.research.google.com/notebooks/data_table.ipynb>data table notebook</a>'\n",
              "            + ' to learn more about interactive tables.';\n",
              "          element.innerHTML = '';\n",
              "          dataTable['output_type'] = 'display_data';\n",
              "          await google.colab.output.renderOutput(dataTable, element);\n",
              "          const docLink = document.createElement('div');\n",
              "          docLink.innerHTML = docLinkHtml;\n",
              "          element.appendChild(docLink);\n",
              "        }\n",
              "      </script>\n",
              "    </div>\n",
              "  </div>\n",
              "  "
            ]
          },
          "metadata": {},
          "execution_count": 6
        }
      ]
    },
    {
      "cell_type": "code",
      "source": [
        "from google.colab import drive\n",
        "drive.mount('/content/drive')"
      ],
      "metadata": {
        "id": "mUgaRibpeKn5"
      },
      "execution_count": null,
      "outputs": []
    },
    {
      "cell_type": "code",
      "source": [
        "plt.plot(df['day'],df['cases'],marker='o')\n",
        "plt.show()"
      ],
      "metadata": {
        "trusted": true,
        "id": "iwNycdYTeFhT",
        "colab": {
          "base_uri": "https://localhost:8080/",
          "height": 265
        },
        "outputId": "44a36f8a-10e5-4daa-96fd-9844ec32a2a6"
      },
      "execution_count": 7,
      "outputs": [
        {
          "output_type": "display_data",
          "data": {
            "text/plain": [
              "<Figure size 432x288 with 1 Axes>"
            ],
            "image/png": "[encoded data removed]"
          },
          "metadata": {
            "needs_background": "light"
          }
        }
      ]
    },
    {
      "cell_type": "markdown",
      "source": [
        "## Build model polynomial"
      ],
      "metadata": {
        "id": "Mm92qvVYeFhT"
      }
    },
    {
      "cell_type": "markdown",
      "source": [
        "Model polynomial ini menggunakan polynomial 5 degree"
      ],
      "metadata": {
        "id": "KQ29gzHYeFhU"
      }
    },
    {
      "cell_type": "code",
      "source": [
        "x = np.array(df['day']) \n",
        "\n",
        "poly = PolynomialFeatures(5, include_bias=False) ## polynomial with 5 degree\n",
        "poly.fit(x.reshape(-1,1))\n",
        "day_poly = poly.transform(x.reshape(-1,1))"
      ],
      "metadata": {
        "trusted": true,
        "id": "WNjHHwYIeFhV"
      },
      "execution_count": 8,
      "outputs": []
    },
    {
      "cell_type": "code",
      "source": [
        "model = LinearRegression()\n",
        "model.fit(day_poly, df['cases'])\n",
        "case_pred = model.predict(day_poly)\n",
        "case_pred"
      ],
      "metadata": {
        "trusted": true,
        "id": "3fDKameHeFhW",
        "colab": {
          "base_uri": "https://localhost:8080/"
        },
        "outputId": "7acaf16a-ad7a-4fb5-b9e0-42e3a1f5b647"
      },
      "execution_count": 9,
      "outputs": [
        {
          "output_type": "execute_result",
          "data": {
            "text/plain": [
              "array([-2.65186206e+01,  6.41447839e-01,  1.54509769e+01,  2.12602051e+01,\n",
              "        2.10308972e+01,  1.73583822e+01,  1.24935913e+01,  8.36509599e+00,\n",
              "        6.60114628e+00,  8.55170844e+00,  1.53105032e+01,  2.77370439e+01,\n",
              "        4.64786744e+01,  7.19926069e+01,  1.04567961e+02,  1.44347799e+02,\n",
              "        1.91351169e+02,  2.45495137e+02,  3.06616830e+02,  3.74495470e+02,\n",
              "        4.48874416e+02,  5.29483197e+02,  6.16059555e+02,  7.08371482e+02,\n",
              "        8.06239256e+02,  9.09557478e+02,  1.01831712e+03,  1.13262754e+03,\n",
              "        1.25273855e+03,  1.37906243e+03,  1.51219598e+03,  1.65294256e+03,\n",
              "        1.80233411e+03,  1.96165321e+03,  2.13245508e+03,  2.31658969e+03,\n",
              "        2.51622372e+03,  2.73386264e+03,  2.97237275e+03,  3.23500319e+03,\n",
              "        3.52540801e+03])"
            ]
          },
          "metadata": {},
          "execution_count": 9
        }
      ]
    },
    {
      "cell_type": "code",
      "source": [
        "r2 = r2_score(df['cases'],case_pred)\n",
        "rmse = np.sqrt(mean_squared_error(df['cases'],case_pred))\n",
        "print(r2)\n",
        "print(rmse)"
      ],
      "metadata": {
        "trusted": true,
        "id": "V6jK6tUweFhW"
      },
      "execution_count": null,
      "outputs": []
    },
    {
      "cell_type": "code",
      "source": [
        "plt.scatter(df['day'],df['cases'],marker='o')\n",
        "plt.plot(df['day'],case_pred, 'y-')\n",
        "plt.show()"
      ],
      "metadata": {
        "trusted": true,
        "id": "2OSVM1D7eFhX"
      },
      "execution_count": null,
      "outputs": []
    },
    {
      "cell_type": "markdown",
      "source": [
        "### Prediksi sampai akhir bulan April 2020"
      ],
      "metadata": {
        "id": "H5RSxIPzeFhX"
      }
    },
    {
      "cell_type": "code",
      "source": [
        "date_pred = pd.date_range('20200408', periods = 23)\n",
        "day_pred = np.arange(38,38+23)\n",
        "cases_pred = model.predict(poly.fit_transform(day_pred.reshape(-1,1))).round()"
      ],
      "metadata": {
        "trusted": true,
        "id": "hTWV003keFhX"
      },
      "execution_count": null,
      "outputs": []
    },
    {
      "cell_type": "code",
      "source": [
        "prediksi = pd.DataFrame({'date_pred': date_pred, 'day_pred': day_pred, 'cases_pred': cases_pred})\n",
        "prediksi['real'] = np.NaN * 23\n",
        "prediksi['real'][0:3] = [2956,3293,3512] ## evaluasi prediksi mulai 08 April\n",
        "prediksi"
      ],
      "metadata": {
        "trusted": true,
        "id": "ML_EHJaueFhY"
      },
      "execution_count": null,
      "outputs": []
    },
    {
      "cell_type": "code",
      "source": [
        "sns.set()\n",
        "plt.figure(figsize=(16,8))\n",
        "# plt.subplot(121)\n",
        "# plt.scatter(df['day'],df['cases'])\n",
        "# plt.plot(df['day'],case_pred, 'r-')\n",
        "# plt.title('Kasus COVID19 di Indonesia 01 Maret - 07 April 2020 ')\n",
        "# plt.xlabel('Hari')\n",
        "# plt.ylabel('Total Kasus')\n",
        "# plt.subplot(122)\n",
        "plt.scatter(df['day'],df['cases'])\n",
        "plt.plot(prediksi['day_pred'],prediksi['cases_pred'], 'g-')\n",
        "plt.title('Prediksi Kasus COVID19 di Indonesia s/d 30 April 2020 ')\n",
        "plt.xlabel('Hari')\n",
        "plt.ylabel('Total Kasus')\n",
        "# plt.savefig('covid19.png') ### save image\n",
        "plt.show()"
      ],
      "metadata": {
        "trusted": true,
        "id": "hMbk1Rq9eFhY"
      },
      "execution_count": null,
      "outputs": []
    },
    {
      "cell_type": "markdown",
      "source": [
        "Diperkirakan sampai akhir April 2020, kasus COVID19 di Indonesia bisa mencapai 25000 lebih kasus, tentu laju pertumbuhan kasus ini sangat dipengaruhi oleh kebijakan pemerintah dan seberapa disiplin kita untuk bersama sama menekan laju pertumbuhan covid19 ini, semoga kebijakan pemerintah dapat efektif menahan laju kasus covid19 dan laju pertumbuhan kasus covid19 bisa dibawah angka prediksi."
      ],
      "metadata": {
        "id": "I-eNM-1ZeFhY"
      }
    },
    {
      "cell_type": "code",
      "source": [
        ""
      ],
      "metadata": {
        "trusted": true,
        "id": "w1H1RLZEeFhZ"
      },
      "execution_count": null,
      "outputs": []
    }
  ]
}