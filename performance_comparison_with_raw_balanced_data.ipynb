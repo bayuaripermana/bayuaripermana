{
  "cells": [
    {
      "cell_type": "markdown",
      "metadata": {
        "id": "view-in-github",
        "colab_type": "text"
      },
      "source": [
        "<a href=\"https://colab.research.google.com/github/bayuaripermana/bayuaripermana/blob/main/performance_comparison_with_raw_balanced_data.ipynb\" target=\"_parent\"><img src=\"https://colab.research.google.com/assets/colab-badge.svg\" alt=\"Open In Colab\"/></a>"
      ]
    },
    {
      "cell_type": "code",
      "execution_count": 6,
      "id": "077fd3e7",
      "metadata": {
        "execution": {
          "iopub.execute_input": "2021-10-15T06:00:13.862892Z",
          "iopub.status.busy": "2021-10-15T06:00:13.854931Z",
          "iopub.status.idle": "2021-10-15T06:00:13.870749Z",
          "shell.execute_reply": "2021-10-15T06:00:13.871306Z",
          "shell.execute_reply.started": "2021-10-15T05:59:39.051937Z"
        },
        "id": "077fd3e7",
        "papermill": {
          "duration": 0.07453,
          "end_time": "2021-10-15T06:00:13.871612",
          "exception": false,
          "start_time": "2021-10-15T06:00:13.797082",
          "status": "completed"
        },
        "tags": []
      },
      "outputs": [],
      "source": [
        "#Downloading files\n",
        "import os\n",
        "for dirname, _, filenames in os.walk('/kaggle/input'):\n",
        "    for filename in filenames:\n",
        "        print(os.path.join(dirname, filename))\n"
      ]
    },
    {
      "cell_type": "markdown",
      "id": "445a8132",
      "metadata": {
        "id": "445a8132",
        "papermill": {
          "duration": 0.052696,
          "end_time": "2021-10-15T06:00:13.978903",
          "exception": false,
          "start_time": "2021-10-15T06:00:13.926207",
          "status": "completed"
        },
        "tags": []
      },
      "source": [
        "# Prject Title: Give ME some Credit\n",
        "\n",
        "## Description of the project from Competition\n",
        "\n",
        "Banks play a crucial role in market economies. They decide who can get finance and on what terms and can make or break investment decisions. For markets and society to function, individuals and companies need access to credit. \n",
        "\n",
        "Credit scoring algorithms, which make a guess at the probability of default, are the method banks use to determine whether or not a loan should be granted. This competition requires participants to improve on the state of the art in credit scoring, by predicting the probability that somebody will experience financial distress in the next two years.\n",
        "\n",
        "The goal of this competition is to build a model that borrowers can use to help make the best financial decisions.\n"
      ]
    },
    {
      "cell_type": "markdown",
      "id": "8e021f81",
      "metadata": {
        "id": "8e021f81",
        "papermill": {
          "duration": 0.053288,
          "end_time": "2021-10-15T06:00:14.085207",
          "exception": false,
          "start_time": "2021-10-15T06:00:14.031919",
          "status": "completed"
        },
        "tags": []
      },
      "source": [
        "## Importing Necessary Libraries and setting styles"
      ]
    },
    {
      "cell_type": "code",
      "execution_count": 7,
      "id": "02816fdc",
      "metadata": {
        "execution": {
          "iopub.execute_input": "2021-10-15T06:00:14.195281Z",
          "iopub.status.busy": "2021-10-15T06:00:14.194631Z",
          "iopub.status.idle": "2021-10-15T06:00:15.167888Z",
          "shell.execute_reply": "2021-10-15T06:00:15.167149Z",
          "shell.execute_reply.started": "2021-10-15T05:51:03.624804Z"
        },
        "id": "02816fdc",
        "papermill": {
          "duration": 1.02912,
          "end_time": "2021-10-15T06:00:15.168041",
          "exception": false,
          "start_time": "2021-10-15T06:00:14.138921",
          "status": "completed"
        },
        "tags": []
      },
      "outputs": [],
      "source": [
        "import pandas as pd\n",
        "import seaborn as sns\n",
        "import numpy as np\n",
        "import matplotlib\n",
        "import matplotlib.pyplot as plt\n",
        "%matplotlib inline\n",
        "sns.set_style('darkgrid')\n",
        "matplotlib.rcParams['font.size'] = 14\n",
        "matplotlib.rcParams['figure.figsize'] = (10, 6)\n",
        "matplotlib.rcParams['figure.facecolor'] = '#00000000'\n",
        "pd.set_option(\"display.max_columns\", 120)\n",
        "pd.set_option(\"display.max_rows\", 120)"
      ]
    },
    {
      "cell_type": "code",
      "source": [
        "from google.colab import drive\n",
        "drive.mount('/content/drive')"
      ],
      "metadata": {
        "colab": {
          "base_uri": "https://localhost:8080/"
        },
        "id": "vfuBXs9VpNf5",
        "outputId": "9ad07fe7-5760-4f51-e04d-89ec906428bd"
      },
      "id": "vfuBXs9VpNf5",
      "execution_count": 8,
      "outputs": [
        {
          "output_type": "stream",
          "name": "stdout",
          "text": [
            "Drive already mounted at /content/drive; to attempt to forcibly remount, call drive.mount(\"/content/drive\", force_remount=True).\n"
          ]
        }
      ]
    },
    {
      "cell_type": "markdown",
      "id": "581d2857",
      "metadata": {
        "id": "581d2857",
        "papermill": {
          "duration": 0.054696,
          "end_time": "2021-10-15T06:00:15.276720",
          "exception": false,
          "start_time": "2021-10-15T06:00:15.222024",
          "status": "completed"
        },
        "tags": []
      },
      "source": [
        "### Loading Data to Pandas Data Frame"
      ]
    },
    {
      "cell_type": "code",
      "execution_count": 9,
      "id": "07c4d362",
      "metadata": {
        "execution": {
          "iopub.execute_input": "2021-10-15T06:00:15.450848Z",
          "iopub.status.busy": "2021-10-15T06:00:15.449820Z",
          "iopub.status.idle": "2021-10-15T06:00:16.022721Z",
          "shell.execute_reply": "2021-10-15T06:00:16.022034Z",
          "shell.execute_reply.started": "2021-10-15T05:51:03.953444Z"
        },
        "id": "07c4d362",
        "papermill": {
          "duration": 0.63119,
          "end_time": "2021-10-15T06:00:16.022879",
          "exception": false,
          "start_time": "2021-10-15T06:00:15.391689",
          "status": "completed"
        },
        "tags": []
      },
      "outputs": [],
      "source": [
        "cs_Training_df = pd.read_csv('/content/drive/MyDrive/prediksi covid/Give me /cs-training.csv')\n",
        "cs_test_df = pd.read_csv('/content/drive/MyDrive/prediksi covid/Give me /cs-test.csv')\n",
        "sampleEntry_df = pd.read_csv('/content/drive/MyDrive/prediksi covid/Give me /sampleEntry.csv')"
      ]
    },
    {
      "cell_type": "code",
      "execution_count": 10,
      "id": "a5753096",
      "metadata": {
        "execution": {
          "iopub.execute_input": "2021-10-15T06:00:16.135872Z",
          "iopub.status.busy": "2021-10-15T06:00:16.135063Z",
          "iopub.status.idle": "2021-10-15T06:00:16.158341Z",
          "shell.execute_reply": "2021-10-15T06:00:16.157759Z",
          "shell.execute_reply.started": "2021-10-15T05:51:04.219819Z"
        },
        "id": "a5753096",
        "outputId": "a91f5352-0a9b-4efc-f5d2-9676a9f15653",
        "papermill": {
          "duration": 0.080216,
          "end_time": "2021-10-15T06:00:16.158492",
          "exception": false,
          "start_time": "2021-10-15T06:00:16.078276",
          "status": "completed"
        },
        "tags": [],
        "colab": {
          "base_uri": "https://localhost:8080/",
          "height": 287
        }
      },
      "outputs": [
        {
          "output_type": "execute_result",
          "data": {
            "text/plain": [
              "   Unnamed: 0  SeriousDlqin2yrs  RevolvingUtilizationOfUnsecuredLines  age  \\\n",
              "0           1                 1                              0.766127   45   \n",
              "1           2                 0                              0.957151   40   \n",
              "2           3                 0                              0.658180   38   \n",
              "3           4                 0                              0.233810   30   \n",
              "4           5                 0                              0.907239   49   \n",
              "\n",
              "   NumberOfTime30-59DaysPastDueNotWorse  DebtRatio  MonthlyIncome  \\\n",
              "0                                     2   0.802982         9120.0   \n",
              "1                                     0   0.121876         2600.0   \n",
              "2                                     1   0.085113         3042.0   \n",
              "3                                     0   0.036050         3300.0   \n",
              "4                                     1   0.024926        63588.0   \n",
              "\n",
              "   NumberOfOpenCreditLinesAndLoans  NumberOfTimes90DaysLate  \\\n",
              "0                               13                        0   \n",
              "1                                4                        0   \n",
              "2                                2                        1   \n",
              "3                                5                        0   \n",
              "4                                7                        0   \n",
              "\n",
              "   NumberRealEstateLoansOrLines  NumberOfTime60-89DaysPastDueNotWorse  \\\n",
              "0                             6                                     0   \n",
              "1                             0                                     0   \n",
              "2                             0                                     0   \n",
              "3                             0                                     0   \n",
              "4                             1                                     0   \n",
              "\n",
              "   NumberOfDependents  \n",
              "0                 2.0  \n",
              "1                 1.0  \n",
              "2                 0.0  \n",
              "3                 0.0  \n",
              "4                 0.0  "
            ],
            "text/html": [
              "\n",
              "  <div id=\"df-420200d3-5b71-4c34-b610-8252c5f15d67\">\n",
              "    <div class=\"colab-df-container\">\n",
              "      <div>\n",
              "<style scoped>\n",
              "    .dataframe tbody tr th:only-of-type {\n",
              "        vertical-align: middle;\n",
              "    }\n",
              "\n",
              "    .dataframe tbody tr th {\n",
              "        vertical-align: top;\n",
              "    }\n",
              "\n",
              "    .dataframe thead th {\n",
              "        text-align: right;\n",
              "    }\n",
              "</style>\n",
              "<table border=\"1\" class=\"dataframe\">\n",
              "  <thead>\n",
              "    <tr style=\"text-align: right;\">\n",
              "      <th></th>\n",
              "      <th>Unnamed: 0</th>\n",
              "      <th>SeriousDlqin2yrs</th>\n",
              "      <th>RevolvingUtilizationOfUnsecuredLines</th>\n",
              "      <th>age</th>\n",
              "      <th>NumberOfTime30-59DaysPastDueNotWorse</th>\n",
              "      <th>DebtRatio</th>\n",
              "      <th>MonthlyIncome</th>\n",
              "      <th>NumberOfOpenCreditLinesAndLoans</th>\n",
              "      <th>NumberOfTimes90DaysLate</th>\n",
              "      <th>NumberRealEstateLoansOrLines</th>\n",
              "      <th>NumberOfTime60-89DaysPastDueNotWorse</th>\n",
              "      <th>NumberOfDependents</th>\n",
              "    </tr>\n",
              "  </thead>\n",
              "  <tbody>\n",
              "    <tr>\n",
              "      <th>0</th>\n",
              "      <td>1</td>\n",
              "      <td>1</td>\n",
              "      <td>0.766127</td>\n",
              "      <td>45</td>\n",
              "      <td>2</td>\n",
              "      <td>0.802982</td>\n",
              "      <td>9120.0</td>\n",
              "      <td>13</td>\n",
              "      <td>0</td>\n",
              "      <td>6</td>\n",
              "      <td>0</td>\n",
              "      <td>2.0</td>\n",
              "    </tr>\n",
              "    <tr>\n",
              "      <th>1</th>\n",
              "      <td>2</td>\n",
              "      <td>0</td>\n",
              "      <td>0.957151</td>\n",
              "      <td>40</td>\n",
              "      <td>0</td>\n",
              "      <td>0.121876</td>\n",
              "      <td>2600.0</td>\n",
              "      <td>4</td>\n",
              "      <td>0</td>\n",
              "      <td>0</td>\n",
              "      <td>0</td>\n",
              "      <td>1.0</td>\n",
              "    </tr>\n",
              "    <tr>\n",
              "      <th>2</th>\n",
              "      <td>3</td>\n",
              "      <td>0</td>\n",
              "      <td>0.658180</td>\n",
              "      <td>38</td>\n",
              "      <td>1</td>\n",
              "      <td>0.085113</td>\n",
              "      <td>3042.0</td>\n",
              "      <td>2</td>\n",
              "      <td>1</td>\n",
              "      <td>0</td>\n",
              "      <td>0</td>\n",
              "      <td>0.0</td>\n",
              "    </tr>\n",
              "    <tr>\n",
              "      <th>3</th>\n",
              "      <td>4</td>\n",
              "      <td>0</td>\n",
              "      <td>0.233810</td>\n",
              "      <td>30</td>\n",
              "      <td>0</td>\n",
              "      <td>0.036050</td>\n",
              "      <td>3300.0</td>\n",
              "      <td>5</td>\n",
              "      <td>0</td>\n",
              "      <td>0</td>\n",
              "      <td>0</td>\n",
              "      <td>0.0</td>\n",
              "    </tr>\n",
              "    <tr>\n",
              "      <th>4</th>\n",
              "      <td>5</td>\n",
              "      <td>0</td>\n",
              "      <td>0.907239</td>\n",
              "      <td>49</td>\n",
              "      <td>1</td>\n",
              "      <td>0.024926</td>\n",
              "      <td>63588.0</td>\n",
              "      <td>7</td>\n",
              "      <td>0</td>\n",
              "      <td>1</td>\n",
              "      <td>0</td>\n",
              "      <td>0.0</td>\n",
              "    </tr>\n",
              "  </tbody>\n",
              "</table>\n",
              "</div>\n",
              "      <button class=\"colab-df-convert\" onclick=\"convertToInteractive('df-420200d3-5b71-4c34-b610-8252c5f15d67')\"\n",
              "              title=\"Convert this dataframe to an interactive table.\"\n",
              "              style=\"display:none;\">\n",
              "        \n",
              "  <svg xmlns=\"http://www.w3.org/2000/svg\" height=\"24px\"viewBox=\"0 0 24 24\"\n",
              "       width=\"24px\">\n",
              "    <path d=\"M0 0h24v24H0V0z\" fill=\"none\"/>\n",
              "    <path d=\"M18.56 5.44l.94 2.06.94-2.06 2.06-.94-2.06-.94-.94-2.06-.94 2.06-2.06.94zm-11 1L8.5 8.5l.94-2.06 2.06-.94-2.06-.94L8.5 2.5l-.94 2.06-2.06.94zm10 10l.94 2.06.94-2.06 2.06-.94-2.06-.94-.94-2.06-.94 2.06-2.06.94z\"/><path d=\"M17.41 7.96l-1.37-1.37c-.4-.4-.92-.59-1.43-.59-.52 0-1.04.2-1.43.59L10.3 9.45l-7.72 7.72c-.78.78-.78 2.05 0 2.83L4 21.41c.39.39.9.59 1.41.59.51 0 1.02-.2 1.41-.59l7.78-7.78 2.81-2.81c.8-.78.8-2.07 0-2.86zM5.41 20L4 18.59l7.72-7.72 1.47 1.35L5.41 20z\"/>\n",
              "  </svg>\n",
              "      </button>\n",
              "      \n",
              "  <style>\n",
              "    .colab-df-container {\n",
              "      display:flex;\n",
              "      flex-wrap:wrap;\n",
              "      gap: 12px;\n",
              "    }\n",
              "\n",
              "    .colab-df-convert {\n",
              "      background-color: #E8F0FE;\n",
              "      border: none;\n",
              "      border-radius: 50%;\n",
              "      cursor: pointer;\n",
              "      display: none;\n",
              "      fill: #1967D2;\n",
              "      height: 32px;\n",
              "      padding: 0 0 0 0;\n",
              "      width: 32px;\n",
              "    }\n",
              "\n",
              "    .colab-df-convert:hover {\n",
              "      background-color: #E2EBFA;\n",
              "      box-shadow: 0px 1px 2px rgba(60, 64, 67, 0.3), 0px 1px 3px 1px rgba(60, 64, 67, 0.15);\n",
              "      fill: #174EA6;\n",
              "    }\n",
              "\n",
              "    [theme=dark] .colab-df-convert {\n",
              "      background-color: #3B4455;\n",
              "      fill: #D2E3FC;\n",
              "    }\n",
              "\n",
              "    [theme=dark] .colab-df-convert:hover {\n",
              "      background-color: #434B5C;\n",
              "      box-shadow: 0px 1px 3px 1px rgba(0, 0, 0, 0.15);\n",
              "      filter: drop-shadow(0px 1px 2px rgba(0, 0, 0, 0.3));\n",
              "      fill: #FFFFFF;\n",
              "    }\n",
              "  </style>\n",
              "\n",
              "      <script>\n",
              "        const buttonEl =\n",
              "          document.querySelector('#df-420200d3-5b71-4c34-b610-8252c5f15d67 button.colab-df-convert');\n",
              "        buttonEl.style.display =\n",
              "          google.colab.kernel.accessAllowed ? 'block' : 'none';\n",
              "\n",
              "        async function convertToInteractive(key) {\n",
              "          const element = document.querySelector('#df-420200d3-5b71-4c34-b610-8252c5f15d67');\n",
              "          const dataTable =\n",
              "            await google.colab.kernel.invokeFunction('convertToInteractive',\n",
              "                                                     [key], {});\n",
              "          if (!dataTable) return;\n",
              "\n",
              "          const docLinkHtml = 'Like what you see? Visit the ' +\n",
              "            '<a target=\"_blank\" href=https://colab.research.google.com/notebooks/data_table.ipynb>data table notebook</a>'\n",
              "            + ' to learn more about interactive tables.';\n",
              "          element.innerHTML = '';\n",
              "          dataTable['output_type'] = 'display_data';\n",
              "          await google.colab.output.renderOutput(dataTable, element);\n",
              "          const docLink = document.createElement('div');\n",
              "          docLink.innerHTML = docLinkHtml;\n",
              "          element.appendChild(docLink);\n",
              "        }\n",
              "      </script>\n",
              "    </div>\n",
              "  </div>\n",
              "  "
            ]
          },
          "metadata": {},
          "execution_count": 10
        }
      ],
      "source": [
        "cs_Training_df.head()"
      ]
    },
    {
      "cell_type": "code",
      "execution_count": 11,
      "id": "42349de6",
      "metadata": {
        "execution": {
          "iopub.execute_input": "2021-10-15T06:00:16.271805Z",
          "iopub.status.busy": "2021-10-15T06:00:16.271061Z",
          "iopub.status.idle": "2021-10-15T06:00:16.275575Z",
          "shell.execute_reply": "2021-10-15T06:00:16.276115Z",
          "shell.execute_reply.started": "2021-10-15T05:51:04.241736Z"
        },
        "id": "42349de6",
        "outputId": "11ae496d-83a3-4edb-a38b-9a302eb901ea",
        "papermill": {
          "duration": 0.063309,
          "end_time": "2021-10-15T06:00:16.276292",
          "exception": false,
          "start_time": "2021-10-15T06:00:16.212983",
          "status": "completed"
        },
        "tags": [],
        "colab": {
          "base_uri": "https://localhost:8080/"
        }
      },
      "outputs": [
        {
          "output_type": "execute_result",
          "data": {
            "text/plain": [
              "(150000, 12)"
            ]
          },
          "metadata": {},
          "execution_count": 11
        }
      ],
      "source": [
        "cs_Training_df.shape"
      ]
    },
    {
      "cell_type": "code",
      "execution_count": 12,
      "id": "66c9c322",
      "metadata": {
        "execution": {
          "iopub.execute_input": "2021-10-15T06:00:16.389615Z",
          "iopub.status.busy": "2021-10-15T06:00:16.388920Z",
          "iopub.status.idle": "2021-10-15T06:00:16.394322Z",
          "shell.execute_reply": "2021-10-15T06:00:16.393804Z",
          "shell.execute_reply.started": "2021-10-15T05:51:04.249712Z"
        },
        "id": "66c9c322",
        "outputId": "4a4d66c5-169a-4670-91ef-d5e5814b5c40",
        "papermill": {
          "duration": 0.06314,
          "end_time": "2021-10-15T06:00:16.394466",
          "exception": false,
          "start_time": "2021-10-15T06:00:16.331326",
          "status": "completed"
        },
        "tags": [],
        "colab": {
          "base_uri": "https://localhost:8080/"
        }
      },
      "outputs": [
        {
          "output_type": "execute_result",
          "data": {
            "text/plain": [
              "(101503, 12)"
            ]
          },
          "metadata": {},
          "execution_count": 12
        }
      ],
      "source": [
        "cs_test_df.shape"
      ]
    },
    {
      "cell_type": "markdown",
      "id": "55d904ad",
      "metadata": {
        "id": "55d904ad",
        "papermill": {
          "duration": 0.055459,
          "end_time": "2021-10-15T06:00:16.506649",
          "exception": false,
          "start_time": "2021-10-15T06:00:16.451190",
          "status": "completed"
        },
        "tags": []
      },
      "source": [
        "# Exploratory Data Analysis & Data Cleaning"
      ]
    },
    {
      "cell_type": "code",
      "execution_count": 13,
      "id": "2d3a579d",
      "metadata": {
        "execution": {
          "iopub.execute_input": "2021-10-15T06:00:16.619550Z",
          "iopub.status.busy": "2021-10-15T06:00:16.618888Z",
          "iopub.status.idle": "2021-10-15T06:00:16.645954Z",
          "shell.execute_reply": "2021-10-15T06:00:16.646544Z",
          "shell.execute_reply.started": "2021-10-15T05:51:04.262805Z"
        },
        "id": "2d3a579d",
        "outputId": "ef70db9e-a9e1-466f-8f54-7cc81413a529",
        "papermill": {
          "duration": 0.085667,
          "end_time": "2021-10-15T06:00:16.646728",
          "exception": false,
          "start_time": "2021-10-15T06:00:16.561061",
          "status": "completed"
        },
        "tags": [],
        "colab": {
          "base_uri": "https://localhost:8080/"
        }
      },
      "outputs": [
        {
          "output_type": "stream",
          "name": "stdout",
          "text": [
            "<class 'pandas.core.frame.DataFrame'>\n",
            "RangeIndex: 150000 entries, 0 to 149999\n",
            "Data columns (total 12 columns):\n",
            " #   Column                                Non-Null Count   Dtype  \n",
            "---  ------                                --------------   -----  \n",
            " 0   Unnamed: 0                            150000 non-null  int64  \n",
            " 1   SeriousDlqin2yrs                      150000 non-null  int64  \n",
            " 2   RevolvingUtilizationOfUnsecuredLines  150000 non-null  float64\n",
            " 3   age                                   150000 non-null  int64  \n",
            " 4   NumberOfTime30-59DaysPastDueNotWorse  150000 non-null  int64  \n",
            " 5   DebtRatio                             150000 non-null  float64\n",
            " 6   MonthlyIncome                         120269 non-null  float64\n",
            " 7   NumberOfOpenCreditLinesAndLoans       150000 non-null  int64  \n",
            " 8   NumberOfTimes90DaysLate               150000 non-null  int64  \n",
            " 9   NumberRealEstateLoansOrLines          150000 non-null  int64  \n",
            " 10  NumberOfTime60-89DaysPastDueNotWorse  150000 non-null  int64  \n",
            " 11  NumberOfDependents                    146076 non-null  float64\n",
            "dtypes: float64(4), int64(8)\n",
            "memory usage: 13.7 MB\n"
          ]
        }
      ],
      "source": [
        "cs_Training_df.info()"
      ]
    },
    {
      "cell_type": "markdown",
      "id": "89942f2a",
      "metadata": {
        "id": "89942f2a",
        "papermill": {
          "duration": 0.054828,
          "end_time": "2021-10-15T06:00:16.758162",
          "exception": false,
          "start_time": "2021-10-15T06:00:16.703334",
          "status": "completed"
        },
        "tags": []
      },
      "source": [
        "We see that there are no object datatype in this training dataset.  so there is no need for encoding. Also there are missing values in two columns which we will deal with later."
      ]
    },
    {
      "cell_type": "markdown",
      "id": "571d9295",
      "metadata": {
        "id": "571d9295",
        "papermill": {
          "duration": 0.055641,
          "end_time": "2021-10-15T06:00:16.869923",
          "exception": false,
          "start_time": "2021-10-15T06:00:16.814282",
          "status": "completed"
        },
        "tags": []
      },
      "source": [
        "The first column is unnecessary. So just drop this column."
      ]
    },
    {
      "cell_type": "code",
      "execution_count": 14,
      "id": "016e4ec2",
      "metadata": {
        "execution": {
          "iopub.execute_input": "2021-10-15T06:00:16.989183Z",
          "iopub.status.busy": "2021-10-15T06:00:16.987820Z",
          "iopub.status.idle": "2021-10-15T06:00:16.998049Z",
          "shell.execute_reply": "2021-10-15T06:00:16.997459Z",
          "shell.execute_reply.started": "2021-10-15T05:51:04.288153Z"
        },
        "id": "016e4ec2",
        "papermill": {
          "duration": 0.072573,
          "end_time": "2021-10-15T06:00:16.998269",
          "exception": false,
          "start_time": "2021-10-15T06:00:16.925696",
          "status": "completed"
        },
        "tags": []
      },
      "outputs": [],
      "source": [
        "train_df = cs_Training_df.drop(columns = ['Unnamed: 0'])\n",
        "train_df.head()\n",
        "test_df = cs_test_df.drop(columns = ['Unnamed: 0', 'SeriousDlqin2yrs'])"
      ]
    },
    {
      "cell_type": "code",
      "execution_count": 15,
      "id": "c8dcccbb",
      "metadata": {
        "execution": {
          "iopub.execute_input": "2021-10-15T06:00:17.124803Z",
          "iopub.status.busy": "2021-10-15T06:00:17.123613Z",
          "iopub.status.idle": "2021-10-15T06:00:17.211224Z",
          "shell.execute_reply": "2021-10-15T06:00:17.211767Z",
          "shell.execute_reply.started": "2021-10-15T05:51:04.302854Z"
        },
        "id": "c8dcccbb",
        "outputId": "57cba54d-8fcb-4f19-ca2b-9d7d6f95c22c",
        "papermill": {
          "duration": 0.157588,
          "end_time": "2021-10-15T06:00:17.211947",
          "exception": false,
          "start_time": "2021-10-15T06:00:17.054359",
          "status": "completed"
        },
        "tags": [],
        "colab": {
          "base_uri": "https://localhost:8080/",
          "height": 381
        }
      },
      "outputs": [
        {
          "output_type": "execute_result",
          "data": {
            "text/plain": [
              "       SeriousDlqin2yrs  RevolvingUtilizationOfUnsecuredLines            age  \\\n",
              "count     150000.000000                         150000.000000  150000.000000   \n",
              "mean           0.066840                              6.048438      52.295207   \n",
              "std            0.249746                            249.755371      14.771866   \n",
              "min            0.000000                              0.000000       0.000000   \n",
              "25%            0.000000                              0.029867      41.000000   \n",
              "50%            0.000000                              0.154181      52.000000   \n",
              "75%            0.000000                              0.559046      63.000000   \n",
              "max            1.000000                          50708.000000     109.000000   \n",
              "\n",
              "       NumberOfTime30-59DaysPastDueNotWorse      DebtRatio  MonthlyIncome  \\\n",
              "count                         150000.000000  150000.000000   1.202690e+05   \n",
              "mean                               0.421033     353.005076   6.670221e+03   \n",
              "std                                4.192781    2037.818523   1.438467e+04   \n",
              "min                                0.000000       0.000000   0.000000e+00   \n",
              "25%                                0.000000       0.175074   3.400000e+03   \n",
              "50%                                0.000000       0.366508   5.400000e+03   \n",
              "75%                                0.000000       0.868254   8.249000e+03   \n",
              "max                               98.000000  329664.000000   3.008750e+06   \n",
              "\n",
              "       NumberOfOpenCreditLinesAndLoans  NumberOfTimes90DaysLate  \\\n",
              "count                    150000.000000            150000.000000   \n",
              "mean                          8.452760                 0.265973   \n",
              "std                           5.145951                 4.169304   \n",
              "min                           0.000000                 0.000000   \n",
              "25%                           5.000000                 0.000000   \n",
              "50%                           8.000000                 0.000000   \n",
              "75%                          11.000000                 0.000000   \n",
              "max                          58.000000                98.000000   \n",
              "\n",
              "       NumberRealEstateLoansOrLines  NumberOfTime60-89DaysPastDueNotWorse  \\\n",
              "count                 150000.000000                         150000.000000   \n",
              "mean                       1.018240                              0.240387   \n",
              "std                        1.129771                              4.155179   \n",
              "min                        0.000000                              0.000000   \n",
              "25%                        0.000000                              0.000000   \n",
              "50%                        1.000000                              0.000000   \n",
              "75%                        2.000000                              0.000000   \n",
              "max                       54.000000                             98.000000   \n",
              "\n",
              "       NumberOfDependents  \n",
              "count       146076.000000  \n",
              "mean             0.757222  \n",
              "std              1.115086  \n",
              "min              0.000000  \n",
              "25%              0.000000  \n",
              "50%              0.000000  \n",
              "75%              1.000000  \n",
              "max             20.000000  "
            ],
            "text/html": [
              "\n",
              "  <div id=\"df-83cf5550-28cc-41cf-94a5-676dc7d61ad1\">\n",
              "    <div class=\"colab-df-container\">\n",
              "      <div>\n",
              "<style scoped>\n",
              "    .dataframe tbody tr th:only-of-type {\n",
              "        vertical-align: middle;\n",
              "    }\n",
              "\n",
              "    .dataframe tbody tr th {\n",
              "        vertical-align: top;\n",
              "    }\n",
              "\n",
              "    .dataframe thead th {\n",
              "        text-align: right;\n",
              "    }\n",
              "</style>\n",
              "<table border=\"1\" class=\"dataframe\">\n",
              "  <thead>\n",
              "    <tr style=\"text-align: right;\">\n",
              "      <th></th>\n",
              "      <th>SeriousDlqin2yrs</th>\n",
              "      <th>RevolvingUtilizationOfUnsecuredLines</th>\n",
              "      <th>age</th>\n",
              "      <th>NumberOfTime30-59DaysPastDueNotWorse</th>\n",
              "      <th>DebtRatio</th>\n",
              "      <th>MonthlyIncome</th>\n",
              "      <th>NumberOfOpenCreditLinesAndLoans</th>\n",
              "      <th>NumberOfTimes90DaysLate</th>\n",
              "      <th>NumberRealEstateLoansOrLines</th>\n",
              "      <th>NumberOfTime60-89DaysPastDueNotWorse</th>\n",
              "      <th>NumberOfDependents</th>\n",
              "    </tr>\n",
              "  </thead>\n",
              "  <tbody>\n",
              "    <tr>\n",
              "      <th>count</th>\n",
              "      <td>150000.000000</td>\n",
              "      <td>150000.000000</td>\n",
              "      <td>150000.000000</td>\n",
              "      <td>150000.000000</td>\n",
              "      <td>150000.000000</td>\n",
              "      <td>1.202690e+05</td>\n",
              "      <td>150000.000000</td>\n",
              "      <td>150000.000000</td>\n",
              "      <td>150000.000000</td>\n",
              "      <td>150000.000000</td>\n",
              "      <td>146076.000000</td>\n",
              "    </tr>\n",
              "    <tr>\n",
              "      <th>mean</th>\n",
              "      <td>0.066840</td>\n",
              "      <td>6.048438</td>\n",
              "      <td>52.295207</td>\n",
              "      <td>0.421033</td>\n",
              "      <td>353.005076</td>\n",
              "      <td>6.670221e+03</td>\n",
              "      <td>8.452760</td>\n",
              "      <td>0.265973</td>\n",
              "      <td>1.018240</td>\n",
              "      <td>0.240387</td>\n",
              "      <td>0.757222</td>\n",
              "    </tr>\n",
              "    <tr>\n",
              "      <th>std</th>\n",
              "      <td>0.249746</td>\n",
              "      <td>249.755371</td>\n",
              "      <td>14.771866</td>\n",
              "      <td>4.192781</td>\n",
              "      <td>2037.818523</td>\n",
              "      <td>1.438467e+04</td>\n",
              "      <td>5.145951</td>\n",
              "      <td>4.169304</td>\n",
              "      <td>1.129771</td>\n",
              "      <td>4.155179</td>\n",
              "      <td>1.115086</td>\n",
              "    </tr>\n",
              "    <tr>\n",
              "      <th>min</th>\n",
              "      <td>0.000000</td>\n",
              "      <td>0.000000</td>\n",
              "      <td>0.000000</td>\n",
              "      <td>0.000000</td>\n",
              "      <td>0.000000</td>\n",
              "      <td>0.000000e+00</td>\n",
              "      <td>0.000000</td>\n",
              "      <td>0.000000</td>\n",
              "      <td>0.000000</td>\n",
              "      <td>0.000000</td>\n",
              "      <td>0.000000</td>\n",
              "    </tr>\n",
              "    <tr>\n",
              "      <th>25%</th>\n",
              "      <td>0.000000</td>\n",
              "      <td>0.029867</td>\n",
              "      <td>41.000000</td>\n",
              "      <td>0.000000</td>\n",
              "      <td>0.175074</td>\n",
              "      <td>3.400000e+03</td>\n",
              "      <td>5.000000</td>\n",
              "      <td>0.000000</td>\n",
              "      <td>0.000000</td>\n",
              "      <td>0.000000</td>\n",
              "      <td>0.000000</td>\n",
              "    </tr>\n",
              "    <tr>\n",
              "      <th>50%</th>\n",
              "      <td>0.000000</td>\n",
              "      <td>0.154181</td>\n",
              "      <td>52.000000</td>\n",
              "      <td>0.000000</td>\n",
              "      <td>0.366508</td>\n",
              "      <td>5.400000e+03</td>\n",
              "      <td>8.000000</td>\n",
              "      <td>0.000000</td>\n",
              "      <td>1.000000</td>\n",
              "      <td>0.000000</td>\n",
              "      <td>0.000000</td>\n",
              "    </tr>\n",
              "    <tr>\n",
              "      <th>75%</th>\n",
              "      <td>0.000000</td>\n",
              "      <td>0.559046</td>\n",
              "      <td>63.000000</td>\n",
              "      <td>0.000000</td>\n",
              "      <td>0.868254</td>\n",
              "      <td>8.249000e+03</td>\n",
              "      <td>11.000000</td>\n",
              "      <td>0.000000</td>\n",
              "      <td>2.000000</td>\n",
              "      <td>0.000000</td>\n",
              "      <td>1.000000</td>\n",
              "    </tr>\n",
              "    <tr>\n",
              "      <th>max</th>\n",
              "      <td>1.000000</td>\n",
              "      <td>50708.000000</td>\n",
              "      <td>109.000000</td>\n",
              "      <td>98.000000</td>\n",
              "      <td>329664.000000</td>\n",
              "      <td>3.008750e+06</td>\n",
              "      <td>58.000000</td>\n",
              "      <td>98.000000</td>\n",
              "      <td>54.000000</td>\n",
              "      <td>98.000000</td>\n",
              "      <td>20.000000</td>\n",
              "    </tr>\n",
              "  </tbody>\n",
              "</table>\n",
              "</div>\n",
              "      <button class=\"colab-df-convert\" onclick=\"convertToInteractive('df-83cf5550-28cc-41cf-94a5-676dc7d61ad1')\"\n",
              "              title=\"Convert this dataframe to an interactive table.\"\n",
              "              style=\"display:none;\">\n",
              "        \n",
              "  <svg xmlns=\"http://www.w3.org/2000/svg\" height=\"24px\"viewBox=\"0 0 24 24\"\n",
              "       width=\"24px\">\n",
              "    <path d=\"M0 0h24v24H0V0z\" fill=\"none\"/>\n",
              "    <path d=\"M18.56 5.44l.94 2.06.94-2.06 2.06-.94-2.06-.94-.94-2.06-.94 2.06-2.06.94zm-11 1L8.5 8.5l.94-2.06 2.06-.94-2.06-.94L8.5 2.5l-.94 2.06-2.06.94zm10 10l.94 2.06.94-2.06 2.06-.94-2.06-.94-.94-2.06-.94 2.06-2.06.94z\"/><path d=\"M17.41 7.96l-1.37-1.37c-.4-.4-.92-.59-1.43-.59-.52 0-1.04.2-1.43.59L10.3 9.45l-7.72 7.72c-.78.78-.78 2.05 0 2.83L4 21.41c.39.39.9.59 1.41.59.51 0 1.02-.2 1.41-.59l7.78-7.78 2.81-2.81c.8-.78.8-2.07 0-2.86zM5.41 20L4 18.59l7.72-7.72 1.47 1.35L5.41 20z\"/>\n",
              "  </svg>\n",
              "      </button>\n",
              "      \n",
              "  <style>\n",
              "    .colab-df-container {\n",
              "      display:flex;\n",
              "      flex-wrap:wrap;\n",
              "      gap: 12px;\n",
              "    }\n",
              "\n",
              "    .colab-df-convert {\n",
              "      background-color: #E8F0FE;\n",
              "      border: none;\n",
              "      border-radius: 50%;\n",
              "      cursor: pointer;\n",
              "      display: none;\n",
              "      fill: #1967D2;\n",
              "      height: 32px;\n",
              "      padding: 0 0 0 0;\n",
              "      width: 32px;\n",
              "    }\n",
              "\n",
              "    .colab-df-convert:hover {\n",
              "      background-color: #E2EBFA;\n",
              "      box-shadow: 0px 1px 2px rgba(60, 64, 67, 0.3), 0px 1px 3px 1px rgba(60, 64, 67, 0.15);\n",
              "      fill: #174EA6;\n",
              "    }\n",
              "\n",
              "    [theme=dark] .colab-df-convert {\n",
              "      background-color: #3B4455;\n",
              "      fill: #D2E3FC;\n",
              "    }\n",
              "\n",
              "    [theme=dark] .colab-df-convert:hover {\n",
              "      background-color: #434B5C;\n",
              "      box-shadow: 0px 1px 3px 1px rgba(0, 0, 0, 0.15);\n",
              "      filter: drop-shadow(0px 1px 2px rgba(0, 0, 0, 0.3));\n",
              "      fill: #FFFFFF;\n",
              "    }\n",
              "  </style>\n",
              "\n",
              "      <script>\n",
              "        const buttonEl =\n",
              "          document.querySelector('#df-83cf5550-28cc-41cf-94a5-676dc7d61ad1 button.colab-df-convert');\n",
              "        buttonEl.style.display =\n",
              "          google.colab.kernel.accessAllowed ? 'block' : 'none';\n",
              "\n",
              "        async function convertToInteractive(key) {\n",
              "          const element = document.querySelector('#df-83cf5550-28cc-41cf-94a5-676dc7d61ad1');\n",
              "          const dataTable =\n",
              "            await google.colab.kernel.invokeFunction('convertToInteractive',\n",
              "                                                     [key], {});\n",
              "          if (!dataTable) return;\n",
              "\n",
              "          const docLinkHtml = 'Like what you see? Visit the ' +\n",
              "            '<a target=\"_blank\" href=https://colab.research.google.com/notebooks/data_table.ipynb>data table notebook</a>'\n",
              "            + ' to learn more about interactive tables.';\n",
              "          element.innerHTML = '';\n",
              "          dataTable['output_type'] = 'display_data';\n",
              "          await google.colab.output.renderOutput(dataTable, element);\n",
              "          const docLink = document.createElement('div');\n",
              "          docLink.innerHTML = docLinkHtml;\n",
              "          element.appendChild(docLink);\n",
              "        }\n",
              "      </script>\n",
              "    </div>\n",
              "  </div>\n",
              "  "
            ]
          },
          "metadata": {},
          "execution_count": 15
        }
      ],
      "source": [
        "train_df.describe()"
      ]
    },
    {
      "cell_type": "markdown",
      "id": "1586f135",
      "metadata": {
        "id": "1586f135",
        "papermill": {
          "duration": 0.056159,
          "end_time": "2021-10-15T06:00:17.324733",
          "exception": false,
          "start_time": "2021-10-15T06:00:17.268574",
          "status": "completed"
        },
        "tags": []
      },
      "source": [
        "Lets draw a plot to understand the distribution of yes and no values in the target column. "
      ]
    },
    {
      "cell_type": "code",
      "execution_count": 16,
      "id": "73a56107",
      "metadata": {
        "execution": {
          "iopub.execute_input": "2021-10-15T06:00:17.443147Z",
          "iopub.status.busy": "2021-10-15T06:00:17.442452Z",
          "iopub.status.idle": "2021-10-15T06:00:17.662210Z",
          "shell.execute_reply": "2021-10-15T06:00:17.661629Z",
          "shell.execute_reply.started": "2021-10-15T05:51:04.397932Z"
        },
        "id": "73a56107",
        "outputId": "999162ad-ac2a-4b4b-b752-b30d794bd1fb",
        "papermill": {
          "duration": 0.281016,
          "end_time": "2021-10-15T06:00:17.662360",
          "exception": false,
          "start_time": "2021-10-15T06:00:17.381344",
          "status": "completed"
        },
        "tags": [],
        "colab": {
          "base_uri": "https://localhost:8080/",
          "height": 433
        }
      },
      "outputs": [
        {
          "output_type": "execute_result",
          "data": {
            "text/plain": [
              "Text(0.5, 1.0, 'Binary Class Comparison')"
            ]
          },
          "metadata": {},
          "execution_count": 16
        },
        {
          "output_type": "display_data",
          "data": {
            "text/plain": [
              "<Figure size 720x432 with 1 Axes>"
            ],
            "image/png": "[encoded data removed]"
          },
          "metadata": {
            "needs_background": "light"
          }
        }
      ],
      "source": [
        "sns.countplot(x='SeriousDlqin2yrs',data=train_df,palette='RdBu_r')\n",
        "plt.title('Binary Class Comparison')"
      ]
    },
    {
      "cell_type": "markdown",
      "id": "6efb7fa5",
      "metadata": {
        "id": "6efb7fa5",
        "papermill": {
          "duration": 0.056886,
          "end_time": "2021-10-15T06:00:17.776381",
          "exception": false,
          "start_time": "2021-10-15T06:00:17.719495",
          "status": "completed"
        },
        "tags": []
      },
      "source": [
        "It is clear that Target Data is highly imbalanced. So, there is a possibility that ROC_AUC score might be low even though accuracy is high. So, we may try balancing the data later and see what happens."
      ]
    },
    {
      "cell_type": "code",
      "execution_count": 17,
      "id": "128498b7",
      "metadata": {
        "execution": {
          "iopub.execute_input": "2021-10-15T06:00:17.896474Z",
          "iopub.status.busy": "2021-10-15T06:00:17.895786Z",
          "iopub.status.idle": "2021-10-15T06:00:17.905862Z",
          "shell.execute_reply": "2021-10-15T06:00:17.905170Z",
          "shell.execute_reply.started": "2021-10-15T05:51:04.630396Z"
        },
        "id": "128498b7",
        "outputId": "885407dc-64d9-430e-ba76-fcdc57a915ba",
        "papermill": {
          "duration": 0.072462,
          "end_time": "2021-10-15T06:00:17.906006",
          "exception": false,
          "start_time": "2021-10-15T06:00:17.833544",
          "status": "completed"
        },
        "tags": [],
        "colab": {
          "base_uri": "https://localhost:8080/"
        }
      },
      "outputs": [
        {
          "output_type": "execute_result",
          "data": {
            "text/plain": [
              "SeriousDlqin2yrs                            0\n",
              "RevolvingUtilizationOfUnsecuredLines        0\n",
              "age                                         0\n",
              "NumberOfTime30-59DaysPastDueNotWorse        0\n",
              "DebtRatio                                   0\n",
              "MonthlyIncome                           29731\n",
              "NumberOfOpenCreditLinesAndLoans             0\n",
              "NumberOfTimes90DaysLate                     0\n",
              "NumberRealEstateLoansOrLines                0\n",
              "NumberOfTime60-89DaysPastDueNotWorse        0\n",
              "NumberOfDependents                       3924\n",
              "dtype: int64"
            ]
          },
          "metadata": {},
          "execution_count": 17
        }
      ],
      "source": [
        "train_df.isnull().sum()"
      ]
    },
    {
      "cell_type": "markdown",
      "id": "5f8966ac",
      "metadata": {
        "id": "5f8966ac",
        "papermill": {
          "duration": 0.057079,
          "end_time": "2021-10-15T06:00:18.020981",
          "exception": false,
          "start_time": "2021-10-15T06:00:17.963902",
          "status": "completed"
        },
        "tags": []
      },
      "source": [
        "There are some missing values in Monthly Income and NumberOfDependents column. We can check out the distribution of Monthly Income and Number of Dependents Column and replace the missing values with appropriate values.  "
      ]
    },
    {
      "cell_type": "code",
      "execution_count": 18,
      "id": "6537d1e9",
      "metadata": {
        "execution": {
          "iopub.execute_input": "2021-10-15T06:00:18.144447Z",
          "iopub.status.busy": "2021-10-15T06:00:18.143627Z",
          "iopub.status.idle": "2021-10-15T06:00:18.615655Z",
          "shell.execute_reply": "2021-10-15T06:00:18.614987Z",
          "shell.execute_reply.started": "2021-10-15T05:51:04.642807Z"
        },
        "id": "6537d1e9",
        "outputId": "8678feae-598b-4c1b-f775-e6689a2dc318",
        "papermill": {
          "duration": 0.536184,
          "end_time": "2021-10-15T06:00:18.615807",
          "exception": false,
          "start_time": "2021-10-15T06:00:18.079623",
          "status": "completed"
        },
        "tags": [],
        "colab": {
          "base_uri": "https://localhost:8080/",
          "height": 413
        }
      },
      "outputs": [
        {
          "output_type": "execute_result",
          "data": {
            "text/plain": [
              "<matplotlib.axes._subplots.AxesSubplot at 0x7f34e0187d50>"
            ]
          },
          "metadata": {},
          "execution_count": 18
        },
        {
          "output_type": "display_data",
          "data": {
            "text/plain": [
              "<Figure size 720x432 with 1 Axes>"
            ],
            "image/png": "[encoded data removed]"
          },
          "metadata": {
            "needs_background": "light"
          }
        }
      ],
      "source": [
        "sns.histplot(data=train_df, x= 'MonthlyIncome', bins = 10)"
      ]
    },
    {
      "cell_type": "code",
      "execution_count": 19,
      "id": "a1383886",
      "metadata": {
        "execution": {
          "iopub.execute_input": "2021-10-15T06:00:18.738920Z",
          "iopub.status.busy": "2021-10-15T06:00:18.738216Z",
          "iopub.status.idle": "2021-10-15T06:00:18.744330Z",
          "shell.execute_reply": "2021-10-15T06:00:18.744807Z",
          "shell.execute_reply.started": "2021-10-15T05:51:05.079905Z"
        },
        "id": "a1383886",
        "outputId": "0a9813d7-0e67-4fcc-d8fd-33d5edc7d819",
        "papermill": {
          "duration": 0.070082,
          "end_time": "2021-10-15T06:00:18.744990",
          "exception": false,
          "start_time": "2021-10-15T06:00:18.674908",
          "status": "completed"
        },
        "tags": [],
        "colab": {
          "base_uri": "https://localhost:8080/"
        }
      },
      "outputs": [
        {
          "output_type": "execute_result",
          "data": {
            "text/plain": [
              "5400.0"
            ]
          },
          "metadata": {},
          "execution_count": 19
        }
      ],
      "source": [
        "train_df.MonthlyIncome.median()"
      ]
    },
    {
      "cell_type": "code",
      "execution_count": 20,
      "id": "2799891c",
      "metadata": {
        "execution": {
          "iopub.execute_input": "2021-10-15T06:00:18.868601Z",
          "iopub.status.busy": "2021-10-15T06:00:18.867863Z",
          "iopub.status.idle": "2021-10-15T06:00:18.873088Z",
          "shell.execute_reply": "2021-10-15T06:00:18.872417Z",
          "shell.execute_reply.started": "2021-10-15T05:51:05.090348Z"
        },
        "id": "2799891c",
        "outputId": "a7d9066d-618e-47d0-c1dd-7f32e4737ad4",
        "papermill": {
          "duration": 0.069309,
          "end_time": "2021-10-15T06:00:18.873238",
          "exception": false,
          "start_time": "2021-10-15T06:00:18.803929",
          "status": "completed"
        },
        "tags": [],
        "colab": {
          "base_uri": "https://localhost:8080/"
        }
      },
      "outputs": [
        {
          "output_type": "execute_result",
          "data": {
            "text/plain": [
              "6670.221237392844"
            ]
          },
          "metadata": {},
          "execution_count": 20
        }
      ],
      "source": [
        "train_df.MonthlyIncome.mean()"
      ]
    },
    {
      "cell_type": "code",
      "execution_count": 21,
      "id": "e7b7ccd8",
      "metadata": {
        "execution": {
          "iopub.execute_input": "2021-10-15T06:00:19.000525Z",
          "iopub.status.busy": "2021-10-15T06:00:18.999808Z",
          "iopub.status.idle": "2021-10-15T06:00:19.003432Z",
          "shell.execute_reply": "2021-10-15T06:00:19.002727Z",
          "shell.execute_reply.started": "2021-10-15T05:51:05.101458Z"
        },
        "id": "e7b7ccd8",
        "outputId": "d79a6ec4-ea93-4094-92ab-8e54a3429830",
        "papermill": {
          "duration": 0.068313,
          "end_time": "2021-10-15T06:00:19.003608",
          "exception": false,
          "start_time": "2021-10-15T06:00:18.935295",
          "status": "completed"
        },
        "tags": [],
        "colab": {
          "base_uri": "https://localhost:8080/"
        }
      },
      "outputs": [
        {
          "output_type": "execute_result",
          "data": {
            "text/plain": [
              "3008750.0"
            ]
          },
          "metadata": {},
          "execution_count": 21
        }
      ],
      "source": [
        "train_df.MonthlyIncome.max()"
      ]
    },
    {
      "cell_type": "markdown",
      "id": "c0436828",
      "metadata": {
        "id": "c0436828",
        "papermill": {
          "duration": 0.060512,
          "end_time": "2021-10-15T06:00:19.125068",
          "exception": false,
          "start_time": "2021-10-15T06:00:19.064556",
          "status": "completed"
        },
        "tags": []
      },
      "source": [
        "Though the maximum income is very large than median it doesnt pull the mean from the median greatly. We can impute the missing Monthly Income values with both the median and the mean. "
      ]
    },
    {
      "cell_type": "markdown",
      "id": "fad6dcb7",
      "metadata": {
        "id": "fad6dcb7",
        "papermill": {
          "duration": 0.058555,
          "end_time": "2021-10-15T06:00:19.243091",
          "exception": false,
          "start_time": "2021-10-15T06:00:19.184536",
          "status": "completed"
        },
        "tags": []
      },
      "source": [
        "Now, lets analyze the columns where information about late pay is given. "
      ]
    },
    {
      "cell_type": "code",
      "execution_count": 22,
      "id": "b6466477",
      "metadata": {
        "execution": {
          "iopub.execute_input": "2021-10-15T06:00:19.378893Z",
          "iopub.status.busy": "2021-10-15T06:00:19.378172Z",
          "iopub.status.idle": "2021-10-15T06:00:19.381337Z",
          "shell.execute_reply": "2021-10-15T06:00:19.380731Z",
          "shell.execute_reply.started": "2021-10-15T05:51:05.114029Z"
        },
        "id": "b6466477",
        "outputId": "01708919-0363-4be2-e141-30a700f784e3",
        "papermill": {
          "duration": 0.079162,
          "end_time": "2021-10-15T06:00:19.381478",
          "exception": false,
          "start_time": "2021-10-15T06:00:19.302316",
          "status": "completed"
        },
        "tags": [],
        "colab": {
          "base_uri": "https://localhost:8080/"
        }
      },
      "outputs": [
        {
          "output_type": "execute_result",
          "data": {
            "text/plain": [
              "0     141662\n",
              "1       5243\n",
              "2       1555\n",
              "3        667\n",
              "4        291\n",
              "5        131\n",
              "6         80\n",
              "7         38\n",
              "8         21\n",
              "9         19\n",
              "10         8\n",
              "11         5\n",
              "12         2\n",
              "13         4\n",
              "14         2\n",
              "15         2\n",
              "17         1\n",
              "96         5\n",
              "98       264\n",
              "Name: NumberOfTimes90DaysLate, dtype: int64"
            ]
          },
          "metadata": {},
          "execution_count": 22
        }
      ],
      "source": [
        "train_df[\"NumberOfTimes90DaysLate\"].value_counts().sort_index()"
      ]
    },
    {
      "cell_type": "code",
      "execution_count": 23,
      "id": "e1bab605",
      "metadata": {
        "execution": {
          "iopub.execute_input": "2021-10-15T06:00:19.505532Z",
          "iopub.status.busy": "2021-10-15T06:00:19.504872Z",
          "iopub.status.idle": "2021-10-15T06:00:19.512870Z",
          "shell.execute_reply": "2021-10-15T06:00:19.513431Z",
          "shell.execute_reply.started": "2021-10-15T05:51:05.132819Z"
        },
        "id": "e1bab605",
        "outputId": "cd963212-f5c4-4417-a522-38f63bb61220",
        "papermill": {
          "duration": 0.071905,
          "end_time": "2021-10-15T06:00:19.513625",
          "exception": false,
          "start_time": "2021-10-15T06:00:19.441720",
          "status": "completed"
        },
        "tags": [],
        "colab": {
          "base_uri": "https://localhost:8080/"
        }
      },
      "outputs": [
        {
          "output_type": "execute_result",
          "data": {
            "text/plain": [
              "0     142396\n",
              "1       5731\n",
              "2       1118\n",
              "3        318\n",
              "4        105\n",
              "5         34\n",
              "6         16\n",
              "7          9\n",
              "8          2\n",
              "9          1\n",
              "11         1\n",
              "96         5\n",
              "98       264\n",
              "Name: NumberOfTime60-89DaysPastDueNotWorse, dtype: int64"
            ]
          },
          "metadata": {},
          "execution_count": 23
        }
      ],
      "source": [
        "train_df[\"NumberOfTime60-89DaysPastDueNotWorse\"].value_counts().sort_index()"
      ]
    },
    {
      "cell_type": "code",
      "execution_count": 24,
      "id": "ecd0eca4",
      "metadata": {
        "execution": {
          "iopub.execute_input": "2021-10-15T06:00:19.645330Z",
          "iopub.status.busy": "2021-10-15T06:00:19.644576Z",
          "iopub.status.idle": "2021-10-15T06:00:19.649072Z",
          "shell.execute_reply": "2021-10-15T06:00:19.648471Z",
          "shell.execute_reply.started": "2021-10-15T05:51:05.148235Z"
        },
        "id": "ecd0eca4",
        "outputId": "c180a177-678e-492c-fbdb-df1cce2a9edd",
        "papermill": {
          "duration": 0.072889,
          "end_time": "2021-10-15T06:00:19.649291",
          "exception": false,
          "start_time": "2021-10-15T06:00:19.576402",
          "status": "completed"
        },
        "tags": [],
        "colab": {
          "base_uri": "https://localhost:8080/"
        }
      },
      "outputs": [
        {
          "output_type": "execute_result",
          "data": {
            "text/plain": [
              "0     126018\n",
              "1      16033\n",
              "2       4598\n",
              "3       1754\n",
              "4        747\n",
              "5        342\n",
              "6        140\n",
              "7         54\n",
              "8         25\n",
              "9         12\n",
              "10         4\n",
              "11         1\n",
              "12         2\n",
              "13         1\n",
              "96         5\n",
              "98       264\n",
              "Name: NumberOfTime30-59DaysPastDueNotWorse, dtype: int64"
            ]
          },
          "metadata": {},
          "execution_count": 24
        }
      ],
      "source": [
        "train_df[\"NumberOfTime30-59DaysPastDueNotWorse\"].value_counts().sort_index()"
      ]
    },
    {
      "cell_type": "markdown",
      "id": "74e86109",
      "metadata": {
        "id": "74e86109",
        "papermill": {
          "duration": 0.062228,
          "end_time": "2021-10-15T06:00:19.774094",
          "exception": false,
          "start_time": "2021-10-15T06:00:19.711866",
          "status": "completed"
        },
        "tags": []
      },
      "source": [
        "Look at the three columns value counts. It is clear that there is a sudden absense of values from 17 to 96 in \"NumberOfTimes90DaysLate\" column.For the other two columns there is also absence of values. It is bit unusual. Lets delete the rows with values greater than 17 to remove this ambiguity."
      ]
    },
    {
      "cell_type": "code",
      "execution_count": 25,
      "id": "d266a180",
      "metadata": {
        "execution": {
          "iopub.execute_input": "2021-10-15T06:00:19.902874Z",
          "iopub.status.busy": "2021-10-15T06:00:19.901953Z",
          "iopub.status.idle": "2021-10-15T06:00:19.915433Z",
          "shell.execute_reply": "2021-10-15T06:00:19.916023Z",
          "shell.execute_reply.started": "2021-10-15T05:51:05.162668Z"
        },
        "id": "d266a180",
        "papermill": {
          "duration": 0.081289,
          "end_time": "2021-10-15T06:00:19.916284",
          "exception": false,
          "start_time": "2021-10-15T06:00:19.834995",
          "status": "completed"
        },
        "tags": []
      },
      "outputs": [],
      "source": [
        "train_df = train_df.drop(train_df[train_df.NumberOfTimes90DaysLate > 17].index)"
      ]
    },
    {
      "cell_type": "markdown",
      "id": "6810ba2b",
      "metadata": {
        "id": "6810ba2b",
        "papermill": {
          "duration": 0.06038,
          "end_time": "2021-10-15T06:00:20.038969",
          "exception": false,
          "start_time": "2021-10-15T06:00:19.978589",
          "status": "completed"
        },
        "tags": []
      },
      "source": [
        "## Setting Feature and Target Column"
      ]
    },
    {
      "cell_type": "code",
      "execution_count": 26,
      "id": "c27db4c9",
      "metadata": {
        "execution": {
          "iopub.execute_input": "2021-10-15T06:00:20.169838Z",
          "iopub.status.busy": "2021-10-15T06:00:20.169021Z",
          "iopub.status.idle": "2021-10-15T06:00:20.172351Z",
          "shell.execute_reply": "2021-10-15T06:00:20.171775Z",
          "shell.execute_reply.started": "2021-10-15T05:51:05.184946Z"
        },
        "id": "c27db4c9",
        "papermill": {
          "duration": 0.07267,
          "end_time": "2021-10-15T06:00:20.172526",
          "exception": false,
          "start_time": "2021-10-15T06:00:20.099856",
          "status": "completed"
        },
        "tags": []
      },
      "outputs": [],
      "source": [
        "X = train_df.drop(columns = ['SeriousDlqin2yrs'])\n",
        "y = train_df['SeriousDlqin2yrs']"
      ]
    },
    {
      "cell_type": "markdown",
      "id": "edcfac46",
      "metadata": {
        "id": "edcfac46",
        "papermill": {
          "duration": 0.060818,
          "end_time": "2021-10-15T06:00:20.294208",
          "exception": false,
          "start_time": "2021-10-15T06:00:20.233390",
          "status": "completed"
        },
        "tags": []
      },
      "source": [
        "## Filling missing values"
      ]
    },
    {
      "cell_type": "code",
      "execution_count": 27,
      "id": "e7a21d64",
      "metadata": {
        "execution": {
          "iopub.execute_input": "2021-10-15T06:00:20.422585Z",
          "iopub.status.busy": "2021-10-15T06:00:20.421862Z",
          "iopub.status.idle": "2021-10-15T06:00:20.430009Z",
          "shell.execute_reply": "2021-10-15T06:00:20.429427Z",
          "shell.execute_reply.started": "2021-10-15T05:51:05.193830Z"
        },
        "id": "e7a21d64",
        "papermill": {
          "duration": 0.07439,
          "end_time": "2021-10-15T06:00:20.430149",
          "exception": false,
          "start_time": "2021-10-15T06:00:20.355759",
          "status": "completed"
        },
        "tags": []
      },
      "outputs": [],
      "source": [
        "X['MonthlyIncome'].fillna(X['MonthlyIncome'].mean(),inplace=True)\n",
        "X['NumberOfDependents'].fillna(test_df['NumberOfDependents'].mode()[0], inplace=True)"
      ]
    },
    {
      "cell_type": "code",
      "execution_count": 28,
      "id": "4f5b85c0",
      "metadata": {
        "execution": {
          "iopub.execute_input": "2021-10-15T06:00:20.556941Z",
          "iopub.status.busy": "2021-10-15T06:00:20.555893Z",
          "iopub.status.idle": "2021-10-15T06:00:20.566811Z",
          "shell.execute_reply": "2021-10-15T06:00:20.566213Z",
          "shell.execute_reply.started": "2021-10-15T05:51:05.210913Z"
        },
        "id": "4f5b85c0",
        "outputId": "f57f679e-0426-4027-a00a-a72ee8737c3f",
        "papermill": {
          "duration": 0.076218,
          "end_time": "2021-10-15T06:00:20.566973",
          "exception": false,
          "start_time": "2021-10-15T06:00:20.490755",
          "status": "completed"
        },
        "tags": [],
        "colab": {
          "base_uri": "https://localhost:8080/"
        }
      },
      "outputs": [
        {
          "output_type": "execute_result",
          "data": {
            "text/plain": [
              "RevolvingUtilizationOfUnsecuredLines    0\n",
              "age                                     0\n",
              "NumberOfTime30-59DaysPastDueNotWorse    0\n",
              "DebtRatio                               0\n",
              "MonthlyIncome                           0\n",
              "NumberOfOpenCreditLinesAndLoans         0\n",
              "NumberOfTimes90DaysLate                 0\n",
              "NumberRealEstateLoansOrLines            0\n",
              "NumberOfTime60-89DaysPastDueNotWorse    0\n",
              "NumberOfDependents                      0\n",
              "dtype: int64"
            ]
          },
          "metadata": {},
          "execution_count": 28
        }
      ],
      "source": [
        "X.isna().sum()"
      ]
    },
    {
      "cell_type": "markdown",
      "id": "f8ddaf6e",
      "metadata": {
        "id": "f8ddaf6e",
        "papermill": {
          "duration": 0.060651,
          "end_time": "2021-10-15T06:00:20.688758",
          "exception": false,
          "start_time": "2021-10-15T06:00:20.628107",
          "status": "completed"
        },
        "tags": []
      },
      "source": [
        "Now there is no missing values in training data. "
      ]
    },
    {
      "cell_type": "markdown",
      "id": "a1dd028c",
      "metadata": {
        "id": "a1dd028c",
        "papermill": {
          "duration": 0.060416,
          "end_time": "2021-10-15T06:00:20.810586",
          "exception": false,
          "start_time": "2021-10-15T06:00:20.750170",
          "status": "completed"
        },
        "tags": []
      },
      "source": [
        "# Model Type 1: Logistic Regression Model"
      ]
    },
    {
      "cell_type": "markdown",
      "id": "4bc73240",
      "metadata": {
        "id": "4bc73240",
        "papermill": {
          "duration": 0.063452,
          "end_time": "2021-10-15T06:00:20.934828",
          "exception": false,
          "start_time": "2021-10-15T06:00:20.871376",
          "status": "completed"
        },
        "tags": []
      },
      "source": [
        "## Import, split,scaling, fitting, training"
      ]
    },
    {
      "cell_type": "code",
      "execution_count": 49,
      "id": "0f9da954",
      "metadata": {
        "execution": {
          "iopub.execute_input": "2021-10-15T06:00:21.073757Z",
          "iopub.status.busy": "2021-10-15T06:00:21.073006Z",
          "iopub.status.idle": "2021-10-15T06:00:21.968721Z",
          "shell.execute_reply": "2021-10-15T06:00:21.969804Z",
          "shell.execute_reply.started": "2021-10-15T05:51:05.226410Z"
        },
        "id": "0f9da954",
        "outputId": "5ba3944c-940f-47ac-ac1f-0fabd5a85f6f",
        "papermill": {
          "duration": 0.969676,
          "end_time": "2021-10-15T06:00:21.970090",
          "exception": false,
          "start_time": "2021-10-15T06:00:21.000414",
          "status": "completed"
        },
        "tags": [],
        "colab": {
          "base_uri": "https://localhost:8080/"
        }
      },
      "outputs": [
        {
          "output_type": "stream",
          "name": "stdout",
          "text": [
            "              precision    recall  f1-score   support\n",
            "\n",
            "           0       0.94      0.99      0.97     27974\n",
            "           1       0.59      0.15      0.25      1973\n",
            "\n",
            "    accuracy                           0.94     29947\n",
            "   macro avg       0.77      0.57      0.61     29947\n",
            "weighted avg       0.92      0.94      0.92     29947\n",
            "\n",
            "Accuracy: 0.9373559955922129\n"
          ]
        }
      ],
      "source": [
        "#Import scikit learn and necessary metrics\n",
        "from sklearn.model_selection import train_test_split\n",
        "from sklearn.linear_model import LogisticRegression\n",
        "from sklearn.metrics import classification_report\n",
        "from sklearn.metrics import confusion_matrix,accuracy_score\n",
        "from sklearn.metrics import classification_report\n",
        "from sklearn.preprocessing import StandardScaler\n",
        "from sklearn.feature_selection import SelectFromModel\n",
        "import sklearn.metrics as metrics\n",
        "\n",
        "\n",
        "X_train, X_valid, y_train, y_valid = train_test_split(X, y, train_size=0.8, test_size=0.2,random_state=1)\n",
        "scaler = StandardScaler().fit(X_train)\n",
        "X_train = scaler.transform(X_train)\n",
        "X_valid = scaler.transform(X_valid)\n",
        "\n",
        "\n",
        "LRmodel = LogisticRegression(max_iter= 300, solver= 'lbfgs')\n",
        "LRmodel.fit(X_train, y_train)\n",
        "\n",
        "# implementing model and scoring\n",
        "predictions = LRmodel.predict(X_valid)\n",
        "print(classification_report(y_valid, predictions))\n",
        "print(\"Accuracy:\",metrics.accuracy_score(y_valid, predictions))"
      ]
    },
    {
      "cell_type": "code",
      "execution_count": 50,
      "id": "64a049f5",
      "metadata": {
        "execution": {
          "iopub.execute_input": "2021-10-15T06:00:22.115241Z",
          "iopub.status.busy": "2021-10-15T06:00:22.114604Z",
          "iopub.status.idle": "2021-10-15T06:00:22.117101Z",
          "shell.execute_reply": "2021-10-15T06:00:22.117620Z",
          "shell.execute_reply.started": "2021-10-15T05:51:05.835603Z"
        },
        "id": "64a049f5",
        "papermill": {
          "duration": 0.068363,
          "end_time": "2021-10-15T06:00:22.117795",
          "exception": false,
          "start_time": "2021-10-15T06:00:22.049432",
          "status": "completed"
        },
        "tags": []
      },
      "outputs": [],
      "source": [
        "from sklearn.metrics import confusion_matrix"
      ]
    },
    {
      "cell_type": "code",
      "execution_count": 51,
      "id": "b52c4f3d",
      "metadata": {
        "execution": {
          "iopub.execute_input": "2021-10-15T06:00:22.243560Z",
          "iopub.status.busy": "2021-10-15T06:00:22.242904Z",
          "iopub.status.idle": "2021-10-15T06:00:22.248766Z",
          "shell.execute_reply": "2021-10-15T06:00:22.249265Z",
          "shell.execute_reply.started": "2021-10-15T05:51:05.843383Z"
        },
        "id": "b52c4f3d",
        "papermill": {
          "duration": 0.070509,
          "end_time": "2021-10-15T06:00:22.249452",
          "exception": false,
          "start_time": "2021-10-15T06:00:22.178943",
          "status": "completed"
        },
        "tags": []
      },
      "outputs": [],
      "source": [
        "def predict_and_plot(inputs,targets,model, name=''):\n",
        "    preds = model.predict(inputs)\n",
        "    \n",
        "    accuracy = accuracy_score(targets, preds)\n",
        "    print(\"Accuracy: {:.2f}%\".format(accuracy * 100))\n",
        "    \n",
        "    cf = confusion_matrix(targets, preds, normalize='true')\n",
        "    plt.figure()\n",
        "    sns.heatmap(cf, annot=True)\n",
        "    plt.xlabel('Prediction')\n",
        "    plt.ylabel('Target')\n",
        "    plt.title('{} Confusion Matrix'.format(name));\n",
        "    \n",
        "    return preds"
      ]
    },
    {
      "cell_type": "code",
      "execution_count": 52,
      "id": "65cfaf20",
      "metadata": {
        "execution": {
          "iopub.execute_input": "2021-10-15T06:00:22.376960Z",
          "iopub.status.busy": "2021-10-15T06:00:22.374229Z",
          "iopub.status.idle": "2021-10-15T06:00:22.761333Z",
          "shell.execute_reply": "2021-10-15T06:00:22.760794Z",
          "shell.execute_reply.started": "2021-10-15T05:51:05.858296Z"
        },
        "id": "65cfaf20",
        "outputId": "54c4d89d-8c7f-427c-ca9f-037f21fe308a",
        "papermill": {
          "duration": 0.450939,
          "end_time": "2021-10-15T06:00:22.761484",
          "exception": false,
          "start_time": "2021-10-15T06:00:22.310545",
          "status": "completed"
        },
        "tags": [],
        "colab": {
          "base_uri": "https://localhost:8080/",
          "height": 0
        }
      },
      "outputs": [
        {
          "output_type": "stream",
          "name": "stdout",
          "text": [
            "Accuracy: 93.74%\n"
          ]
        },
        {
          "output_type": "display_data",
          "data": {
            "text/plain": [
              "<Figure size 720x432 with 2 Axes>"
            ],
            "image/png": "[encoded data removed]"
          },
          "metadata": {
            "needs_background": "light"
          }
        }
      ],
      "source": [
        "val_preds = predict_and_plot(X_valid, y_valid, LRmodel, 'Validatiaon')"
      ]
    },
    {
      "cell_type": "markdown",
      "id": "58ab2d5b",
      "metadata": {
        "id": "58ab2d5b",
        "papermill": {
          "duration": 0.061687,
          "end_time": "2021-10-15T06:00:22.885760",
          "exception": false,
          "start_time": "2021-10-15T06:00:22.824073",
          "status": "completed"
        },
        "tags": []
      },
      "source": [
        "Though the accuracy score is high, we see bad results in F1 score and cofusion metrics. We will now use another metric called ROC AUC score which is used in the kaggle competition. "
      ]
    },
    {
      "cell_type": "markdown",
      "id": "436008fa",
      "metadata": {
        "id": "436008fa",
        "papermill": {
          "duration": 0.064487,
          "end_time": "2021-10-15T06:00:23.013741",
          "exception": false,
          "start_time": "2021-10-15T06:00:22.949254",
          "status": "completed"
        },
        "tags": []
      },
      "source": [
        "## Logistic Regression ROC AUC with Untouched Data"
      ]
    },
    {
      "cell_type": "code",
      "execution_count": 53,
      "id": "c8b9b4cf",
      "metadata": {
        "execution": {
          "iopub.execute_input": "2021-10-15T06:00:23.147353Z",
          "iopub.status.busy": "2021-10-15T06:00:23.146597Z",
          "iopub.status.idle": "2021-10-15T06:00:23.558094Z",
          "shell.execute_reply": "2021-10-15T06:00:23.557540Z",
          "shell.execute_reply.started": "2021-10-15T05:51:06.174027Z"
        },
        "id": "c8b9b4cf",
        "outputId": "55994587-4572-4b0c-bdeb-a3cbd4a98e54",
        "papermill": {
          "duration": 0.482233,
          "end_time": "2021-10-15T06:00:23.558231",
          "exception": false,
          "start_time": "2021-10-15T06:00:23.075998",
          "status": "completed"
        },
        "tags": [],
        "colab": {
          "base_uri": "https://localhost:8080/",
          "height": 0
        }
      },
      "outputs": [
        {
          "output_type": "stream",
          "name": "stdout",
          "text": [
            "Logistic: ROC AUC=0.807\n"
          ]
        },
        {
          "output_type": "display_data",
          "data": {
            "text/plain": [
              "<Figure size 720x432 with 1 Axes>"
            ],
            "image/png": "[encoded data removed]"
          },
          "metadata": {
            "needs_background": "light"
          }
        }
      ],
      "source": [
        "# roc curve and auc\n",
        "from sklearn.datasets import make_classification\n",
        "from sklearn.metrics import roc_curve\n",
        "from sklearn.metrics import roc_auc_score\n",
        "from matplotlib import pyplot\n",
        "\n",
        "# predict probabilities\n",
        "yhat = LRmodel.predict_proba(X_valid)\n",
        "# keep probabilities for the positive outcome only\n",
        "yhat = yhat[:, 1]\n",
        "# calculate scores\n",
        "lr_auc = roc_auc_score(y_valid, yhat)\n",
        "# summarize scores\n",
        "print('Logistic: ROC AUC=%.3f' % (lr_auc))\n",
        "# calculate roc curves\n",
        "fpr, tpr, thresholds = roc_curve(y_valid, yhat)\n",
        "# plot the roc curve for the model\n",
        "pyplot.plot([0,1], [0,1], linestyle='--', label='No Skill')\n",
        "pyplot.plot(fpr, tpr, marker='.', label='Logistic with Untouched data')\n",
        "# axis labels\n",
        "pyplot.xlabel('False Positive Rate')\n",
        "pyplot.ylabel('True Positive Rate')\n",
        "pyplot.legend()\n",
        "# show the plot\n",
        "pyplot.show()"
      ]
    },
    {
      "cell_type": "markdown",
      "id": "c1cb69f6",
      "metadata": {
        "id": "c1cb69f6",
        "papermill": {
          "duration": 0.067752,
          "end_time": "2021-10-15T06:00:23.691414",
          "exception": false,
          "start_time": "2021-10-15T06:00:23.623662",
          "status": "completed"
        },
        "tags": []
      },
      "source": [
        "# Under & Oversampling Skewed Data\n",
        "\n",
        "Imbalance is a common phenomenon in Binary Classification Problem. Not surprisingly, there is a skewness in the target data in this problem also.This bias can influence many machine learning algorithm. And, it can cause ignoring minority class entirely. The problem can be reduced by wither undersampling majority class or oversampling minority class or finding a sweet spot between the two. So, we would use the last approach to improve performance of some of the models. Lets see what happens when we deliberately balance the imbalanced data and how it affects the ROC AUC score in validation and test data.\n",
        "\n",
        "To know more: https://machinelearningmastery.com/random-oversampling-and-undersampling-for-imbalanced-classification/"
      ]
    },
    {
      "cell_type": "code",
      "execution_count": 34,
      "id": "c474b0d7",
      "metadata": {
        "execution": {
          "iopub.execute_input": "2021-10-15T06:00:23.839247Z",
          "iopub.status.busy": "2021-10-15T06:00:23.824748Z",
          "iopub.status.idle": "2021-10-15T06:00:57.285202Z",
          "shell.execute_reply": "2021-10-15T06:00:57.284204Z",
          "shell.execute_reply.started": "2021-10-15T05:51:06.523779Z"
        },
        "id": "c474b0d7",
        "papermill": {
          "duration": 33.530411,
          "end_time": "2021-10-15T06:00:57.285368",
          "exception": false,
          "start_time": "2021-10-15T06:00:23.754957",
          "status": "completed"
        },
        "tags": [],
        "colab": {
          "base_uri": "https://localhost:8080/"
        },
        "outputId": "ce875994-4572-4a30-cfa8-2cc95bc1554d"
      },
      "outputs": [
        {
          "output_type": "stream",
          "name": "stdout",
          "text": [
            "Collecting delayed\n",
            "  Downloading delayed-0.11.0b1-py2.py3-none-any.whl (19 kB)\n",
            "Collecting hiredis\n",
            "  Downloading hiredis-2.0.0-cp37-cp37m-manylinux2010_x86_64.whl (85 kB)\n",
            "\u001b[K     |████████████████████████████████| 85 kB 4.8 MB/s \n",
            "\u001b[?25hCollecting redis\n",
            "  Downloading redis-4.2.2-py3-none-any.whl (226 kB)\n",
            "\u001b[K     |████████████████████████████████| 226 kB 54.0 MB/s \n",
            "\u001b[?25hRequirement already satisfied: typing-extensions in /usr/local/lib/python3.7/dist-packages (from redis->delayed) (4.2.0)\n",
            "Collecting deprecated>=1.2.3\n",
            "  Downloading Deprecated-1.2.13-py2.py3-none-any.whl (9.6 kB)\n",
            "Collecting async-timeout>=4.0.2\n",
            "  Downloading async_timeout-4.0.2-py3-none-any.whl (5.8 kB)\n",
            "Requirement already satisfied: packaging>=20.4 in /usr/local/lib/python3.7/dist-packages (from redis->delayed) (21.3)\n",
            "Requirement already satisfied: importlib-metadata>=1.0 in /usr/local/lib/python3.7/dist-packages (from redis->delayed) (4.11.3)\n",
            "Requirement already satisfied: wrapt<2,>=1.10 in /usr/local/lib/python3.7/dist-packages (from deprecated>=1.2.3->redis->delayed) (1.14.0)\n",
            "Requirement already satisfied: zipp>=0.5 in /usr/local/lib/python3.7/dist-packages (from importlib-metadata>=1.0->redis->delayed) (3.8.0)\n",
            "Requirement already satisfied: pyparsing!=3.0.5,>=2.0.2 in /usr/local/lib/python3.7/dist-packages (from packaging>=20.4->redis->delayed) (3.0.8)\n",
            "Installing collected packages: deprecated, async-timeout, redis, hiredis, delayed\n",
            "Successfully installed async-timeout-4.0.2 delayed-0.11.0b1 deprecated-1.2.13 hiredis-2.0.0 redis-4.2.2\n"
          ]
        }
      ],
      "source": [
        "!pip install delayed\n",
        "from imblearn.combine import SMOTEENN\n",
        "\n",
        "# define sampling strategy\n",
        "sample = SMOTEENN(sampling_strategy=0.5)\n",
        "# fit and apply the transform\n",
        "X_over, y_over = sample.fit_resample(X, y)\n",
        "\n"
      ]
    },
    {
      "cell_type": "code",
      "execution_count": 35,
      "id": "316ad46d",
      "metadata": {
        "execution": {
          "iopub.execute_input": "2021-10-15T06:00:57.434657Z",
          "iopub.status.busy": "2021-10-15T06:00:57.433862Z",
          "iopub.status.idle": "2021-10-15T06:00:57.881230Z",
          "shell.execute_reply": "2021-10-15T06:00:57.882274Z",
          "shell.execute_reply.started": "2021-10-15T05:51:33.163587Z"
        },
        "id": "316ad46d",
        "outputId": "7bf36a30-85a0-4047-98b5-5f05f0530f13",
        "papermill": {
          "duration": 0.528123,
          "end_time": "2021-10-15T06:00:57.882596",
          "exception": false,
          "start_time": "2021-10-15T06:00:57.354473",
          "status": "completed"
        },
        "tags": [],
        "colab": {
          "base_uri": "https://localhost:8080/"
        }
      },
      "outputs": [
        {
          "output_type": "stream",
          "name": "stdout",
          "text": [
            "              precision    recall  f1-score   support\n",
            "\n",
            "           0       0.78      0.92      0.85     20415\n",
            "           1       0.76      0.49      0.60     10230\n",
            "\n",
            "    accuracy                           0.78     30645\n",
            "   macro avg       0.77      0.71      0.72     30645\n",
            "weighted avg       0.78      0.78      0.76     30645\n",
            "\n",
            "Accuracy: 0.7791156795562082\n"
          ]
        }
      ],
      "source": [
        "X_train_new, X_valid_new, y_train_new, y_valid_new = train_test_split(X_over, y_over, train_size=0.8, test_size=0.2,random_state=2)\n",
        "scaler1 = StandardScaler().fit(X_train_new)\n",
        "X_train_new = scaler1.transform(X_train_new)\n",
        "X_valid_new = scaler1.transform(X_valid_new)\n",
        "\n",
        "LRmodelBalanced = LogisticRegression(max_iter= 300, solver= 'lbfgs')\n",
        "\n",
        "LRmodelBalanced.fit(X_train_new, y_train_new)\n",
        "\n",
        "# implementing model and scoring\n",
        "predictions = LRmodelBalanced.predict(X_valid_new)\n",
        "print(classification_report(y_valid_new, predictions))\n",
        "print(\"Accuracy:\",metrics.accuracy_score(y_valid_new, predictions))"
      ]
    },
    {
      "cell_type": "markdown",
      "id": "95dc24e2",
      "metadata": {
        "id": "95dc24e2",
        "papermill": {
          "duration": 0.068092,
          "end_time": "2021-10-15T06:00:58.029497",
          "exception": false,
          "start_time": "2021-10-15T06:00:57.961405",
          "status": "completed"
        },
        "tags": []
      },
      "source": [
        "Here you can see, with a reduced accuracy score, the models precision, recall and f1 score has improved greatly with the balacned data. "
      ]
    },
    {
      "cell_type": "markdown",
      "id": "6f954640",
      "metadata": {
        "id": "6f954640",
        "papermill": {
          "duration": 0.068376,
          "end_time": "2021-10-15T06:00:58.165636",
          "exception": false,
          "start_time": "2021-10-15T06:00:58.097260",
          "status": "completed"
        },
        "tags": []
      },
      "source": [
        "We can also look at the confusion metrics for balanced data to have a good visualization of what is happenning. "
      ]
    },
    {
      "cell_type": "code",
      "execution_count": 36,
      "id": "84b070dd",
      "metadata": {
        "execution": {
          "iopub.execute_input": "2021-10-15T06:00:58.306556Z",
          "iopub.status.busy": "2021-10-15T06:00:58.305319Z",
          "iopub.status.idle": "2021-10-15T06:00:58.721262Z",
          "shell.execute_reply": "2021-10-15T06:00:58.721834Z",
          "shell.execute_reply.started": "2021-10-15T05:51:33.708578Z"
        },
        "id": "84b070dd",
        "outputId": "4ebc298d-48d2-44b4-a87f-b15cdbb9528a",
        "papermill": {
          "duration": 0.489132,
          "end_time": "2021-10-15T06:00:58.722008",
          "exception": false,
          "start_time": "2021-10-15T06:00:58.232876",
          "status": "completed"
        },
        "tags": [],
        "colab": {
          "base_uri": "https://localhost:8080/",
          "height": 433
        }
      },
      "outputs": [
        {
          "output_type": "stream",
          "name": "stdout",
          "text": [
            "Accuracy: 77.91%\n"
          ]
        },
        {
          "output_type": "display_data",
          "data": {
            "text/plain": [
              "<Figure size 720x432 with 2 Axes>"
            ],
            "image/png": "[encoded data removed]"
          },
          "metadata": {
            "needs_background": "light"
          }
        }
      ],
      "source": [
        "val_preds = predict_and_plot(X_valid_new, y_valid_new, LRmodelBalanced, 'Validatiaon')"
      ]
    },
    {
      "cell_type": "markdown",
      "id": "53c33f4c",
      "metadata": {
        "id": "53c33f4c",
        "papermill": {
          "duration": 0.069512,
          "end_time": "2021-10-15T06:00:58.861167",
          "exception": false,
          "start_time": "2021-10-15T06:00:58.791655",
          "status": "completed"
        },
        "tags": []
      },
      "source": [
        "In the above plot we see though the accuracy score is reduced, confusion metrics has improved greatly."
      ]
    },
    {
      "cell_type": "markdown",
      "id": "f1ce675a",
      "metadata": {
        "id": "f1ce675a",
        "papermill": {
          "duration": 0.068942,
          "end_time": "2021-10-15T06:00:59.000003",
          "exception": false,
          "start_time": "2021-10-15T06:00:58.931061",
          "status": "completed"
        },
        "tags": []
      },
      "source": [
        "## Logistic Regression ROC AUC with Balanced Data"
      ]
    },
    {
      "cell_type": "code",
      "execution_count": 37,
      "id": "60d622bc",
      "metadata": {
        "execution": {
          "iopub.execute_input": "2021-10-15T06:00:59.140382Z",
          "iopub.status.busy": "2021-10-15T06:00:59.139344Z",
          "iopub.status.idle": "2021-10-15T06:00:59.510139Z",
          "shell.execute_reply": "2021-10-15T06:00:59.510679Z",
          "shell.execute_reply.started": "2021-10-15T05:51:34.052278Z"
        },
        "id": "60d622bc",
        "outputId": "4a14571f-9642-46cd-c8e1-f2f966b3f6c9",
        "papermill": {
          "duration": 0.442768,
          "end_time": "2021-10-15T06:00:59.510869",
          "exception": false,
          "start_time": "2021-10-15T06:00:59.068101",
          "status": "completed"
        },
        "tags": [],
        "colab": {
          "base_uri": "https://localhost:8080/",
          "height": 413
        }
      },
      "outputs": [
        {
          "output_type": "stream",
          "name": "stdout",
          "text": [
            "Logistic: ROC AUC=0.825\n"
          ]
        },
        {
          "output_type": "display_data",
          "data": {
            "text/plain": [
              "<Figure size 720x432 with 1 Axes>"
            ],
            "image/png": "[encoded data removed]"
          },
          "metadata": {
            "needs_background": "light"
          }
        }
      ],
      "source": [
        "# predict probabilities\n",
        "yhat = LRmodelBalanced.predict_proba(X_valid_new)\n",
        "# keep probabilities for the positive outcome only\n",
        "yhat = yhat[:, 1]\n",
        "# calculate scores\n",
        "lr_auc = roc_auc_score(y_valid_new, yhat)\n",
        "# summarize scores\n",
        "print('Logistic: ROC AUC=%.3f' % (lr_auc))\n",
        "# calculate roc curves\n",
        "fpr, tpr, thresholds = roc_curve(y_valid_new, yhat)\n",
        "# plot the roc curve for the model\n",
        "pyplot.plot([0,1], [0,1], linestyle='--', label='No Skill')\n",
        "pyplot.plot(fpr, tpr, marker='.', label='Logistic with Balanced data')\n",
        "# axis labels\n",
        "pyplot.xlabel('False Positive Rate')\n",
        "pyplot.ylabel('True Positive Rate')\n",
        "pyplot.legend()\n",
        "# show the plot\n",
        "pyplot.show()"
      ]
    },
    {
      "cell_type": "markdown",
      "id": "6af7ddd7",
      "metadata": {
        "id": "6af7ddd7",
        "papermill": {
          "duration": 0.070262,
          "end_time": "2021-10-15T06:00:59.651869",
          "exception": false,
          "start_time": "2021-10-15T06:00:59.581607",
          "status": "completed"
        },
        "tags": []
      },
      "source": [
        "Clearly ROC AUC score is slightly greater in the Balanced Data than the raw data.  "
      ]
    },
    {
      "cell_type": "markdown",
      "id": "4b46f2e4",
      "metadata": {
        "id": "4b46f2e4",
        "papermill": {
          "duration": 0.07051,
          "end_time": "2021-10-15T06:00:59.793525",
          "exception": false,
          "start_time": "2021-10-15T06:00:59.723015",
          "status": "completed"
        },
        "tags": []
      },
      "source": [
        "## Now, we will try other models to improve our ROC AUC score"
      ]
    },
    {
      "cell_type": "markdown",
      "id": "2f681bd1",
      "metadata": {
        "id": "2f681bd1",
        "papermill": {
          "duration": 0.070629,
          "end_time": "2021-10-15T06:00:59.934184",
          "exception": false,
          "start_time": "2021-10-15T06:00:59.863555",
          "status": "completed"
        },
        "tags": []
      },
      "source": [
        "# Model type 2: Random Forest Classifier"
      ]
    },
    {
      "cell_type": "code",
      "execution_count": 38,
      "id": "ab034875",
      "metadata": {
        "execution": {
          "iopub.execute_input": "2021-10-15T06:01:00.087461Z",
          "iopub.status.busy": "2021-10-15T06:01:00.086210Z",
          "iopub.status.idle": "2021-10-15T06:01:53.092395Z",
          "shell.execute_reply": "2021-10-15T06:01:53.091747Z",
          "shell.execute_reply.started": "2021-10-15T05:51:34.391104Z"
        },
        "id": "ab034875",
        "outputId": "bbd11036-2377-4334-9aca-1da874dff417",
        "papermill": {
          "duration": 53.086184,
          "end_time": "2021-10-15T06:01:53.092557",
          "exception": false,
          "start_time": "2021-10-15T06:01:00.006373",
          "status": "completed"
        },
        "tags": [],
        "colab": {
          "base_uri": "https://localhost:8080/",
          "height": 413
        }
      },
      "outputs": [
        {
          "output_type": "stream",
          "name": "stdout",
          "text": [
            "Random Forest: ROC AUC=0.840\n"
          ]
        },
        {
          "output_type": "display_data",
          "data": {
            "text/plain": [
              "<Figure size 720x432 with 1 Axes>"
            ],
            "image/png": "[encoded data removed]"
          },
          "metadata": {
            "needs_background": "light"
          }
        }
      ],
      "source": [
        "from sklearn.ensemble import RandomForestClassifier\n",
        "rfc_model = RandomForestClassifier(n_estimators=220)\n",
        "rfc_model.fit(X_train, y_train)\n",
        "# predict probabilities\n",
        "yhat = rfc_model.predict_proba(X_valid)\n",
        "# keep probabilities for the positive outcome only\n",
        "yhat = yhat[:, 1]\n",
        "# calculate scores\n",
        "rfc_auc = roc_auc_score(y_valid, yhat)\n",
        "# summarize scores\n",
        "print('Random Forest: ROC AUC=%.3f' % (rfc_auc))\n",
        "# calculate roc curves\n",
        "fpr, tpr, thresholds = roc_curve(y_valid, yhat)\n",
        "# plot the roc curve for the model\n",
        "pyplot.plot([0,1], [0,1], linestyle='--', label='No Skill')\n",
        "pyplot.plot(fpr, tpr, marker='.', label='Random Forest with untouched data')\n",
        "# axis labels\n",
        "pyplot.xlabel('False Positive Rate')\n",
        "pyplot.ylabel('True Positive Rate')\n",
        "pyplot.legend()\n",
        "# show the plot\n",
        "pyplot.show()"
      ]
    },
    {
      "cell_type": "code",
      "execution_count": 39,
      "id": "9d8bec41",
      "metadata": {
        "execution": {
          "iopub.execute_input": "2021-10-15T06:01:53.244213Z",
          "iopub.status.busy": "2021-10-15T06:01:53.243469Z",
          "iopub.status.idle": "2021-10-15T06:02:45.127369Z",
          "shell.execute_reply": "2021-10-15T06:02:45.126746Z",
          "shell.execute_reply.started": "2021-10-15T05:52:25.648155Z"
        },
        "id": "9d8bec41",
        "outputId": "45cbfacf-4afa-4bd4-9e32-4211016d2c53",
        "papermill": {
          "duration": 51.963143,
          "end_time": "2021-10-15T06:02:45.127525",
          "exception": false,
          "start_time": "2021-10-15T06:01:53.164382",
          "status": "completed"
        },
        "tags": [],
        "colab": {
          "base_uri": "https://localhost:8080/",
          "height": 413
        }
      },
      "outputs": [
        {
          "output_type": "stream",
          "name": "stdout",
          "text": [
            "Random Forest: ROC AUC=0.973\n"
          ]
        },
        {
          "output_type": "display_data",
          "data": {
            "text/plain": [
              "<Figure size 720x432 with 1 Axes>"
            ],
            "image/png": "[encoded data removed]"
          },
          "metadata": {
            "needs_background": "light"
          }
        }
      ],
      "source": [
        "rfc_model_balanced = RandomForestClassifier(n_estimators=220)\n",
        "rfc_model_balanced.fit(X_train_new, y_train_new)\n",
        "# predict probabilities\n",
        "yhat = rfc_model_balanced.predict_proba(X_valid_new)\n",
        "# keep probabilities for the positive outcome only\n",
        "yhat = yhat[:, 1]\n",
        "# calculate scores\n",
        "rfc_auc = roc_auc_score(y_valid_new, yhat)\n",
        "# summarize scores\n",
        "print('Random Forest: ROC AUC=%.3f' % (rfc_auc))\n",
        "# calculate roc curves\n",
        "fpr, tpr, thresholds = roc_curve(y_valid_new, yhat)\n",
        "# plot the roc curve for the model\n",
        "pyplot.plot([0,1], [0,1], linestyle='--', label='No Skill')\n",
        "pyplot.plot(fpr, tpr, marker='.', label='Random Forest with Balanced data')\n",
        "# axis labels\n",
        "pyplot.xlabel('False Positive Rate')\n",
        "pyplot.ylabel('True Positive Rate')\n",
        "pyplot.legend()\n",
        "# show the plot\n",
        "pyplot.show()"
      ]
    },
    {
      "cell_type": "markdown",
      "id": "b3f850aa",
      "metadata": {
        "id": "b3f850aa",
        "papermill": {
          "duration": 0.073186,
          "end_time": "2021-10-15T06:02:45.274769",
          "exception": false,
          "start_time": "2021-10-15T06:02:45.201583",
          "status": "completed"
        },
        "tags": []
      },
      "source": [
        "ROC AUC score is higher for balanced data. "
      ]
    },
    {
      "cell_type": "markdown",
      "id": "e799296c",
      "metadata": {
        "id": "e799296c",
        "papermill": {
          "duration": 0.073586,
          "end_time": "2021-10-15T06:02:45.422713",
          "exception": false,
          "start_time": "2021-10-15T06:02:45.349127",
          "status": "completed"
        },
        "tags": []
      },
      "source": [
        "# Model Type 3: XGBoost"
      ]
    },
    {
      "cell_type": "code",
      "execution_count": 40,
      "id": "e86ef244",
      "metadata": {
        "execution": {
          "iopub.execute_input": "2021-10-15T06:02:45.578436Z",
          "iopub.status.busy": "2021-10-15T06:02:45.577771Z",
          "iopub.status.idle": "2021-10-15T06:02:59.416240Z",
          "shell.execute_reply": "2021-10-15T06:02:59.415694Z",
          "shell.execute_reply.started": "2021-10-15T05:53:15.923595Z"
        },
        "id": "e86ef244",
        "outputId": "8737bbaa-cfab-4e9c-af4b-6e85d3eef421",
        "papermill": {
          "duration": 13.920051,
          "end_time": "2021-10-15T06:02:59.416396",
          "exception": false,
          "start_time": "2021-10-15T06:02:45.496345",
          "status": "completed"
        },
        "tags": [],
        "colab": {
          "base_uri": "https://localhost:8080/",
          "height": 413
        }
      },
      "outputs": [
        {
          "output_type": "stream",
          "name": "stdout",
          "text": [
            "XGboost: ROC AUC=0.858\n"
          ]
        },
        {
          "output_type": "display_data",
          "data": {
            "text/plain": [
              "<Figure size 720x432 with 1 Axes>"
            ],
            "image/png": "[encoded data removed]"
          },
          "metadata": {
            "needs_background": "light"
          }
        }
      ],
      "source": [
        "import xgboost as xgb\n",
        "xgb_model = xgb.XGBClassifier(n_jobs = -1, n_estimators = 220, random_state= 2)\n",
        "xgb_model.fit(X_train, y_train)\n",
        "# predict probabilities\n",
        "yhat = xgb_model.predict_proba(X_valid)\n",
        "# keep probabilities for the positive outcome only\n",
        "yhat = yhat[:, 1]\n",
        "# calculate scores\n",
        "rfc_auc = roc_auc_score(y_valid, yhat)\n",
        "# summarize scores\n",
        "print('XGboost: ROC AUC=%.3f' % (rfc_auc))\n",
        "# calculate roc curves\n",
        "fpr, tpr, thresholds = roc_curve(y_valid, yhat)\n",
        "# plot the roc curve for the model\n",
        "pyplot.plot([0,1], [0,1], linestyle='--', label='No Skill')\n",
        "pyplot.plot(fpr, tpr, marker='.', label='XGboost with Untouched data')\n",
        "# axis labels\n",
        "pyplot.xlabel('False Positive Rate')\n",
        "pyplot.ylabel('True Positive Rate')\n",
        "pyplot.legend()\n",
        "# show the plot\n",
        "pyplot.show()"
      ]
    },
    {
      "cell_type": "code",
      "execution_count": 41,
      "id": "c9b17d5c",
      "metadata": {
        "execution": {
          "iopub.execute_input": "2021-10-15T06:02:59.572570Z",
          "iopub.status.busy": "2021-10-15T06:02:59.571887Z",
          "iopub.status.idle": "2021-10-15T06:03:15.039962Z",
          "shell.execute_reply": "2021-10-15T06:03:15.040471Z",
          "shell.execute_reply.started": "2021-10-15T05:53:30.607484Z"
        },
        "id": "c9b17d5c",
        "outputId": "5401d18c-c843-4551-cc7d-7c754f1b85de",
        "papermill": {
          "duration": 15.54803,
          "end_time": "2021-10-15T06:03:15.040675",
          "exception": false,
          "start_time": "2021-10-15T06:02:59.492645",
          "status": "completed"
        },
        "tags": [],
        "colab": {
          "base_uri": "https://localhost:8080/",
          "height": 413
        }
      },
      "outputs": [
        {
          "output_type": "stream",
          "name": "stdout",
          "text": [
            "XGboost: ROC AUC=0.954\n"
          ]
        },
        {
          "output_type": "display_data",
          "data": {
            "text/plain": [
              "<Figure size 720x432 with 1 Axes>"
            ],
            "image/png": "[encoded data removed]"
          },
          "metadata": {
            "needs_background": "light"
          }
        }
      ],
      "source": [
        "import xgboost as xgb\n",
        "xgb_model_balanced = xgb.XGBClassifier(n_jobs = -1, n_estimators = 220, random_state=3)\n",
        "xgb_model_balanced.fit(X_train_new, y_train_new)\n",
        "# predict probabilities\n",
        "yhat = xgb_model_balanced.predict_proba(X_valid_new)\n",
        "# keep probabilities for the positive outcome only\n",
        "yhat = yhat[:, 1]\n",
        "# calculate scores\n",
        "rfc_auc = roc_auc_score(y_valid_new, yhat)\n",
        "# summarize scores\n",
        "print('XGboost: ROC AUC=%.3f' % (rfc_auc))\n",
        "# calculate roc curves\n",
        "fpr, tpr, thresholds = roc_curve(y_valid_new, yhat)\n",
        "# plot the roc curve for the model\n",
        "pyplot.plot([0,1], [0,1], linestyle='--', label='No Skill')\n",
        "pyplot.plot(fpr, tpr, marker='.', label='XGboost with Balanced data')\n",
        "# axis labels\n",
        "pyplot.xlabel('False Positive Rate')\n",
        "pyplot.ylabel('True Positive Rate')\n",
        "pyplot.legend()\n",
        "# show the plot\n",
        "pyplot.show()"
      ]
    },
    {
      "cell_type": "markdown",
      "id": "d8325248",
      "metadata": {
        "id": "d8325248",
        "papermill": {
          "duration": 0.077751,
          "end_time": "2021-10-15T06:03:15.199733",
          "exception": false,
          "start_time": "2021-10-15T06:03:15.121982",
          "status": "completed"
        },
        "tags": []
      },
      "source": [
        "# Score Summary\n",
        "\n",
        "Now, we will present a summary of our models in a pandas dataframe."
      ]
    },
    {
      "cell_type": "code",
      "execution_count": 42,
      "id": "30c15351",
      "metadata": {
        "execution": {
          "iopub.execute_input": "2021-10-15T06:03:15.365107Z",
          "iopub.status.busy": "2021-10-15T06:03:15.364361Z",
          "iopub.status.idle": "2021-10-15T06:03:15.372749Z",
          "shell.execute_reply": "2021-10-15T06:03:15.372091Z",
          "shell.execute_reply.started": "2021-10-15T05:56:15.752645Z"
        },
        "id": "30c15351",
        "outputId": "0ed2c54d-3e77-483c-c3de-523bf5f60b18",
        "papermill": {
          "duration": 0.094676,
          "end_time": "2021-10-15T06:03:15.372887",
          "exception": false,
          "start_time": "2021-10-15T06:03:15.278211",
          "status": "completed"
        },
        "tags": [],
        "colab": {
          "base_uri": "https://localhost:8080/",
          "height": 0
        }
      },
      "outputs": [
        {
          "output_type": "execute_result",
          "data": {
            "text/plain": [
              "                  Name  ROC_AUC  ROC_AUC_Balanced\n",
              "0  Logistic Regression    0.807             0.827\n",
              "1        Rabdom Forest    0.842             0.974\n",
              "2              XGboost    0.845             0.956"
            ],
            "text/html": [
              "\n",
              "  <div id=\"df-084d1710-3a45-4bc8-ae11-0eac9be4f883\">\n",
              "    <div class=\"colab-df-container\">\n",
              "      <div>\n",
              "<style scoped>\n",
              "    .dataframe tbody tr th:only-of-type {\n",
              "        vertical-align: middle;\n",
              "    }\n",
              "\n",
              "    .dataframe tbody tr th {\n",
              "        vertical-align: top;\n",
              "    }\n",
              "\n",
              "    .dataframe thead th {\n",
              "        text-align: right;\n",
              "    }\n",
              "</style>\n",
              "<table border=\"1\" class=\"dataframe\">\n",
              "  <thead>\n",
              "    <tr style=\"text-align: right;\">\n",
              "      <th></th>\n",
              "      <th>Name</th>\n",
              "      <th>ROC_AUC</th>\n",
              "      <th>ROC_AUC_Balanced</th>\n",
              "    </tr>\n",
              "  </thead>\n",
              "  <tbody>\n",
              "    <tr>\n",
              "      <th>0</th>\n",
              "      <td>Logistic Regression</td>\n",
              "      <td>0.807</td>\n",
              "      <td>0.827</td>\n",
              "    </tr>\n",
              "    <tr>\n",
              "      <th>1</th>\n",
              "      <td>Rabdom Forest</td>\n",
              "      <td>0.842</td>\n",
              "      <td>0.974</td>\n",
              "    </tr>\n",
              "    <tr>\n",
              "      <th>2</th>\n",
              "      <td>XGboost</td>\n",
              "      <td>0.845</td>\n",
              "      <td>0.956</td>\n",
              "    </tr>\n",
              "  </tbody>\n",
              "</table>\n",
              "</div>\n",
              "      <button class=\"colab-df-convert\" onclick=\"convertToInteractive('df-084d1710-3a45-4bc8-ae11-0eac9be4f883')\"\n",
              "              title=\"Convert this dataframe to an interactive table.\"\n",
              "              style=\"display:none;\">\n",
              "        \n",
              "  <svg xmlns=\"http://www.w3.org/2000/svg\" height=\"24px\"viewBox=\"0 0 24 24\"\n",
              "       width=\"24px\">\n",
              "    <path d=\"M0 0h24v24H0V0z\" fill=\"none\"/>\n",
              "    <path d=\"M18.56 5.44l.94 2.06.94-2.06 2.06-.94-2.06-.94-.94-2.06-.94 2.06-2.06.94zm-11 1L8.5 8.5l.94-2.06 2.06-.94-2.06-.94L8.5 2.5l-.94 2.06-2.06.94zm10 10l.94 2.06.94-2.06 2.06-.94-2.06-.94-.94-2.06-.94 2.06-2.06.94z\"/><path d=\"M17.41 7.96l-1.37-1.37c-.4-.4-.92-.59-1.43-.59-.52 0-1.04.2-1.43.59L10.3 9.45l-7.72 7.72c-.78.78-.78 2.05 0 2.83L4 21.41c.39.39.9.59 1.41.59.51 0 1.02-.2 1.41-.59l7.78-7.78 2.81-2.81c.8-.78.8-2.07 0-2.86zM5.41 20L4 18.59l7.72-7.72 1.47 1.35L5.41 20z\"/>\n",
              "  </svg>\n",
              "      </button>\n",
              "      \n",
              "  <style>\n",
              "    .colab-df-container {\n",
              "      display:flex;\n",
              "      flex-wrap:wrap;\n",
              "      gap: 12px;\n",
              "    }\n",
              "\n",
              "    .colab-df-convert {\n",
              "      background-color: #E8F0FE;\n",
              "      border: none;\n",
              "      border-radius: 50%;\n",
              "      cursor: pointer;\n",
              "      display: none;\n",
              "      fill: #1967D2;\n",
              "      height: 32px;\n",
              "      padding: 0 0 0 0;\n",
              "      width: 32px;\n",
              "    }\n",
              "\n",
              "    .colab-df-convert:hover {\n",
              "      background-color: #E2EBFA;\n",
              "      box-shadow: 0px 1px 2px rgba(60, 64, 67, 0.3), 0px 1px 3px 1px rgba(60, 64, 67, 0.15);\n",
              "      fill: #174EA6;\n",
              "    }\n",
              "\n",
              "    [theme=dark] .colab-df-convert {\n",
              "      background-color: #3B4455;\n",
              "      fill: #D2E3FC;\n",
              "    }\n",
              "\n",
              "    [theme=dark] .colab-df-convert:hover {\n",
              "      background-color: #434B5C;\n",
              "      box-shadow: 0px 1px 3px 1px rgba(0, 0, 0, 0.15);\n",
              "      filter: drop-shadow(0px 1px 2px rgba(0, 0, 0, 0.3));\n",
              "      fill: #FFFFFF;\n",
              "    }\n",
              "  </style>\n",
              "\n",
              "      <script>\n",
              "        const buttonEl =\n",
              "          document.querySelector('#df-084d1710-3a45-4bc8-ae11-0eac9be4f883 button.colab-df-convert');\n",
              "        buttonEl.style.display =\n",
              "          google.colab.kernel.accessAllowed ? 'block' : 'none';\n",
              "\n",
              "        async function convertToInteractive(key) {\n",
              "          const element = document.querySelector('#df-084d1710-3a45-4bc8-ae11-0eac9be4f883');\n",
              "          const dataTable =\n",
              "            await google.colab.kernel.invokeFunction('convertToInteractive',\n",
              "                                                     [key], {});\n",
              "          if (!dataTable) return;\n",
              "\n",
              "          const docLinkHtml = 'Like what you see? Visit the ' +\n",
              "            '<a target=\"_blank\" href=https://colab.research.google.com/notebooks/data_table.ipynb>data table notebook</a>'\n",
              "            + ' to learn more about interactive tables.';\n",
              "          element.innerHTML = '';\n",
              "          dataTable['output_type'] = 'display_data';\n",
              "          await google.colab.output.renderOutput(dataTable, element);\n",
              "          const docLink = document.createElement('div');\n",
              "          docLink.innerHTML = docLinkHtml;\n",
              "          element.appendChild(docLink);\n",
              "        }\n",
              "      </script>\n",
              "    </div>\n",
              "  </div>\n",
              "  "
            ]
          },
          "metadata": {},
          "execution_count": 42
        }
      ],
      "source": [
        "data = {'Name': ['Logistic Regression', 'Rabdom Forest', 'XGboost'], 'ROC_AUC': [0.807,0.842,0.845], 'ROC_AUC_Balanced':[0.827,0.974,0.956]}  \n",
        "summary_df = pd.DataFrame(data)  \n",
        "summary_df"
      ]
    },
    {
      "cell_type": "markdown",
      "id": "d2051e68",
      "metadata": {
        "id": "d2051e68",
        "papermill": {
          "duration": 0.078387,
          "end_time": "2021-10-15T06:03:15.530395",
          "exception": false,
          "start_time": "2021-10-15T06:03:15.452008",
          "status": "completed"
        },
        "tags": []
      },
      "source": [
        "# How to submit in the Kaggle Competition\n",
        "\n",
        "You can follow the following procedure to submit in the kaggle competitiom"
      ]
    },
    {
      "cell_type": "code",
      "execution_count": 43,
      "id": "69284f22",
      "metadata": {
        "execution": {
          "iopub.execute_input": "2021-10-15T06:03:15.692315Z",
          "iopub.status.busy": "2021-10-15T06:03:15.691694Z",
          "iopub.status.idle": "2021-10-15T06:03:15.699740Z",
          "shell.execute_reply": "2021-10-15T06:03:15.699218Z",
          "shell.execute_reply.started": "2021-10-15T05:53:45.595158Z"
        },
        "id": "69284f22",
        "outputId": "719cd07c-c37e-41ac-a6f3-2e7592c20e16",
        "papermill": {
          "duration": 0.091162,
          "end_time": "2021-10-15T06:03:15.699880",
          "exception": false,
          "start_time": "2021-10-15T06:03:15.608718",
          "status": "completed"
        },
        "tags": [],
        "colab": {
          "base_uri": "https://localhost:8080/"
        }
      },
      "outputs": [
        {
          "output_type": "execute_result",
          "data": {
            "text/plain": [
              "RevolvingUtilizationOfUnsecuredLines        0\n",
              "age                                         0\n",
              "NumberOfTime30-59DaysPastDueNotWorse        0\n",
              "DebtRatio                                   0\n",
              "MonthlyIncome                           20103\n",
              "NumberOfOpenCreditLinesAndLoans             0\n",
              "NumberOfTimes90DaysLate                     0\n",
              "NumberRealEstateLoansOrLines                0\n",
              "NumberOfTime60-89DaysPastDueNotWorse        0\n",
              "NumberOfDependents                       2626\n",
              "dtype: int64"
            ]
          },
          "metadata": {},
          "execution_count": 43
        }
      ],
      "source": [
        "#check missing values in test data\n",
        "test_df.isnull().sum()"
      ]
    },
    {
      "cell_type": "code",
      "execution_count": 44,
      "id": "2fafeb34",
      "metadata": {
        "execution": {
          "iopub.execute_input": "2021-10-15T06:03:15.864083Z",
          "iopub.status.busy": "2021-10-15T06:03:15.863410Z",
          "iopub.status.idle": "2021-10-15T06:03:15.869337Z",
          "shell.execute_reply": "2021-10-15T06:03:15.869835Z",
          "shell.execute_reply.started": "2021-10-15T05:53:45.611815Z"
        },
        "id": "2fafeb34",
        "papermill": {
          "duration": 0.090779,
          "end_time": "2021-10-15T06:03:15.870011",
          "exception": false,
          "start_time": "2021-10-15T06:03:15.779232",
          "status": "completed"
        },
        "tags": []
      },
      "outputs": [],
      "source": [
        "#fill them with appropriate condition\n",
        "test_df['MonthlyIncome'].fillna(test_df['MonthlyIncome'].mean(),inplace=True)\n",
        "test_df['NumberOfDependents'].fillna(test_df['NumberOfDependents'].mode()[0], inplace=True)"
      ]
    },
    {
      "cell_type": "code",
      "execution_count": 45,
      "id": "61832dbf",
      "metadata": {
        "execution": {
          "iopub.execute_input": "2021-10-15T06:03:16.035390Z",
          "iopub.status.busy": "2021-10-15T06:03:16.034025Z",
          "iopub.status.idle": "2021-10-15T06:03:16.048496Z",
          "shell.execute_reply": "2021-10-15T06:03:16.047949Z",
          "shell.execute_reply.started": "2021-10-15T05:53:45.624430Z"
        },
        "id": "61832dbf",
        "papermill": {
          "duration": 0.099025,
          "end_time": "2021-10-15T06:03:16.048670",
          "exception": false,
          "start_time": "2021-10-15T06:03:15.949645",
          "status": "completed"
        },
        "tags": []
      },
      "outputs": [],
      "source": [
        "#scale test values \n",
        "test_df= scaler.transform(test_df)"
      ]
    },
    {
      "cell_type": "code",
      "execution_count": 46,
      "id": "eca6e981",
      "metadata": {
        "execution": {
          "iopub.execute_input": "2021-10-15T06:03:16.211892Z",
          "iopub.status.busy": "2021-10-15T06:03:16.211210Z",
          "iopub.status.idle": "2021-10-15T06:03:16.229044Z",
          "shell.execute_reply": "2021-10-15T06:03:16.230021Z",
          "shell.execute_reply.started": "2021-10-15T05:53:45.639708Z"
        },
        "id": "eca6e981",
        "papermill": {
          "duration": 0.101068,
          "end_time": "2021-10-15T06:03:16.230308",
          "exception": false,
          "start_time": "2021-10-15T06:03:16.129240",
          "status": "completed"
        },
        "tags": []
      },
      "outputs": [],
      "source": [
        "#predict with a model\n",
        "test_pred=LRmodel.predict_proba(test_df)[:,1]"
      ]
    },
    {
      "cell_type": "code",
      "execution_count": 47,
      "id": "be326264",
      "metadata": {
        "execution": {
          "iopub.execute_input": "2021-10-15T06:03:16.449708Z",
          "iopub.status.busy": "2021-10-15T06:03:16.448992Z",
          "iopub.status.idle": "2021-10-15T06:03:16.451672Z",
          "shell.execute_reply": "2021-10-15T06:03:16.452149Z",
          "shell.execute_reply.started": "2021-10-15T05:53:45.659718Z"
        },
        "id": "be326264",
        "outputId": "4417efce-c9b7-440f-89d5-a5c53a295676",
        "papermill": {
          "duration": 0.091973,
          "end_time": "2021-10-15T06:03:16.452331",
          "exception": false,
          "start_time": "2021-10-15T06:03:16.360358",
          "status": "completed"
        },
        "tags": [],
        "colab": {
          "base_uri": "https://localhost:8080/",
          "height": 206
        }
      },
      "outputs": [
        {
          "output_type": "execute_result",
          "data": {
            "text/plain": [
              "   Id  Probability\n",
              "0   1     0.041753\n",
              "1   2     0.040330\n",
              "2   3     0.033388\n",
              "3   4     0.100004\n",
              "4   5     0.071104"
            ],
            "text/html": [
              "\n",
              "  <div id=\"df-53048087-27cb-4bdc-beb8-a21ca6de0059\">\n",
              "    <div class=\"colab-df-container\">\n",
              "      <div>\n",
              "<style scoped>\n",
              "    .dataframe tbody tr th:only-of-type {\n",
              "        vertical-align: middle;\n",
              "    }\n",
              "\n",
              "    .dataframe tbody tr th {\n",
              "        vertical-align: top;\n",
              "    }\n",
              "\n",
              "    .dataframe thead th {\n",
              "        text-align: right;\n",
              "    }\n",
              "</style>\n",
              "<table border=\"1\" class=\"dataframe\">\n",
              "  <thead>\n",
              "    <tr style=\"text-align: right;\">\n",
              "      <th></th>\n",
              "      <th>Id</th>\n",
              "      <th>Probability</th>\n",
              "    </tr>\n",
              "  </thead>\n",
              "  <tbody>\n",
              "    <tr>\n",
              "      <th>0</th>\n",
              "      <td>1</td>\n",
              "      <td>0.041753</td>\n",
              "    </tr>\n",
              "    <tr>\n",
              "      <th>1</th>\n",
              "      <td>2</td>\n",
              "      <td>0.040330</td>\n",
              "    </tr>\n",
              "    <tr>\n",
              "      <th>2</th>\n",
              "      <td>3</td>\n",
              "      <td>0.033388</td>\n",
              "    </tr>\n",
              "    <tr>\n",
              "      <th>3</th>\n",
              "      <td>4</td>\n",
              "      <td>0.100004</td>\n",
              "    </tr>\n",
              "    <tr>\n",
              "      <th>4</th>\n",
              "      <td>5</td>\n",
              "      <td>0.071104</td>\n",
              "    </tr>\n",
              "  </tbody>\n",
              "</table>\n",
              "</div>\n",
              "      <button class=\"colab-df-convert\" onclick=\"convertToInteractive('df-53048087-27cb-4bdc-beb8-a21ca6de0059')\"\n",
              "              title=\"Convert this dataframe to an interactive table.\"\n",
              "              style=\"display:none;\">\n",
              "        \n",
              "  <svg xmlns=\"http://www.w3.org/2000/svg\" height=\"24px\"viewBox=\"0 0 24 24\"\n",
              "       width=\"24px\">\n",
              "    <path d=\"M0 0h24v24H0V0z\" fill=\"none\"/>\n",
              "    <path d=\"M18.56 5.44l.94 2.06.94-2.06 2.06-.94-2.06-.94-.94-2.06-.94 2.06-2.06.94zm-11 1L8.5 8.5l.94-2.06 2.06-.94-2.06-.94L8.5 2.5l-.94 2.06-2.06.94zm10 10l.94 2.06.94-2.06 2.06-.94-2.06-.94-.94-2.06-.94 2.06-2.06.94z\"/><path d=\"M17.41 7.96l-1.37-1.37c-.4-.4-.92-.59-1.43-.59-.52 0-1.04.2-1.43.59L10.3 9.45l-7.72 7.72c-.78.78-.78 2.05 0 2.83L4 21.41c.39.39.9.59 1.41.59.51 0 1.02-.2 1.41-.59l7.78-7.78 2.81-2.81c.8-.78.8-2.07 0-2.86zM5.41 20L4 18.59l7.72-7.72 1.47 1.35L5.41 20z\"/>\n",
              "  </svg>\n",
              "      </button>\n",
              "      \n",
              "  <style>\n",
              "    .colab-df-container {\n",
              "      display:flex;\n",
              "      flex-wrap:wrap;\n",
              "      gap: 12px;\n",
              "    }\n",
              "\n",
              "    .colab-df-convert {\n",
              "      background-color: #E8F0FE;\n",
              "      border: none;\n",
              "      border-radius: 50%;\n",
              "      cursor: pointer;\n",
              "      display: none;\n",
              "      fill: #1967D2;\n",
              "      height: 32px;\n",
              "      padding: 0 0 0 0;\n",
              "      width: 32px;\n",
              "    }\n",
              "\n",
              "    .colab-df-convert:hover {\n",
              "      background-color: #E2EBFA;\n",
              "      box-shadow: 0px 1px 2px rgba(60, 64, 67, 0.3), 0px 1px 3px 1px rgba(60, 64, 67, 0.15);\n",
              "      fill: #174EA6;\n",
              "    }\n",
              "\n",
              "    [theme=dark] .colab-df-convert {\n",
              "      background-color: #3B4455;\n",
              "      fill: #D2E3FC;\n",
              "    }\n",
              "\n",
              "    [theme=dark] .colab-df-convert:hover {\n",
              "      background-color: #434B5C;\n",
              "      box-shadow: 0px 1px 3px 1px rgba(0, 0, 0, 0.15);\n",
              "      filter: drop-shadow(0px 1px 2px rgba(0, 0, 0, 0.3));\n",
              "      fill: #FFFFFF;\n",
              "    }\n",
              "  </style>\n",
              "\n",
              "      <script>\n",
              "        const buttonEl =\n",
              "          document.querySelector('#df-53048087-27cb-4bdc-beb8-a21ca6de0059 button.colab-df-convert');\n",
              "        buttonEl.style.display =\n",
              "          google.colab.kernel.accessAllowed ? 'block' : 'none';\n",
              "\n",
              "        async function convertToInteractive(key) {\n",
              "          const element = document.querySelector('#df-53048087-27cb-4bdc-beb8-a21ca6de0059');\n",
              "          const dataTable =\n",
              "            await google.colab.kernel.invokeFunction('convertToInteractive',\n",
              "                                                     [key], {});\n",
              "          if (!dataTable) return;\n",
              "\n",
              "          const docLinkHtml = 'Like what you see? Visit the ' +\n",
              "            '<a target=\"_blank\" href=https://colab.research.google.com/notebooks/data_table.ipynb>data table notebook</a>'\n",
              "            + ' to learn more about interactive tables.';\n",
              "          element.innerHTML = '';\n",
              "          dataTable['output_type'] = 'display_data';\n",
              "          await google.colab.output.renderOutput(dataTable, element);\n",
              "          const docLink = document.createElement('div');\n",
              "          docLink.innerHTML = docLinkHtml;\n",
              "          element.appendChild(docLink);\n",
              "        }\n",
              "      </script>\n",
              "    </div>\n",
              "  </div>\n",
              "  "
            ]
          },
          "metadata": {},
          "execution_count": 47
        }
      ],
      "source": [
        "# Change the values of sample file with our predictions\n",
        "sampleEntry_df[\"Probability\"]= test_pred\n",
        "sampleEntry_df.head()"
      ]
    },
    {
      "cell_type": "code",
      "execution_count": 48,
      "id": "88eba15c",
      "metadata": {
        "execution": {
          "iopub.execute_input": "2021-10-15T06:03:16.615624Z",
          "iopub.status.busy": "2021-10-15T06:03:16.614956Z",
          "iopub.status.idle": "2021-10-15T06:03:16.996586Z",
          "shell.execute_reply": "2021-10-15T06:03:16.996002Z",
          "shell.execute_reply.started": "2021-10-15T05:53:45.680035Z"
        },
        "id": "88eba15c",
        "papermill": {
          "duration": 0.46479,
          "end_time": "2021-10-15T06:03:16.996744",
          "exception": false,
          "start_time": "2021-10-15T06:03:16.531954",
          "status": "completed"
        },
        "tags": []
      },
      "outputs": [],
      "source": [
        "# Convert to CSV file\n",
        "sampleEntry_df.to_csv(\"submission.csv\",index=False)"
      ]
    },
    {
      "cell_type": "markdown",
      "id": "989b260b",
      "metadata": {
        "id": "989b260b",
        "papermill": {
          "duration": 0.079653,
          "end_time": "2021-10-15T06:03:17.155807",
          "exception": false,
          "start_time": "2021-10-15T06:03:17.076154",
          "status": "completed"
        },
        "tags": []
      },
      "source": [
        "Now download the file using following command and upload on kaggle\n",
        "```\n",
        "from google.colab import files\n",
        "files.download(\"submission.csv\")\n",
        "```\n",
        "\n"
      ]
    },
    {
      "cell_type": "markdown",
      "id": "c829aaa3",
      "metadata": {
        "id": "c829aaa3",
        "papermill": {
          "duration": 0.078885,
          "end_time": "2021-10-15T06:03:17.314119",
          "exception": false,
          "start_time": "2021-10-15T06:03:17.235234",
          "status": "completed"
        },
        "tags": []
      },
      "source": [
        "# Kaggle Submission\n",
        "\n",
        "We submitted few late submissions during the project in kaggle competition for our dataset and got these scores. The best scores are highlighted with yellow color.\n",
        "\n",
        "NB: After these submission, we changed some parameters and tested some other data engineering techniques. So our current model may give a slightly higher or lower score if you submit with the current models. "
      ]
    },
    {
      "cell_type": "markdown",
      "id": "6121ff7e",
      "metadata": {
        "id": "6121ff7e",
        "papermill": {
          "duration": 0.079012,
          "end_time": "2021-10-15T06:03:17.472534",
          "exception": false,
          "start_time": "2021-10-15T06:03:17.393522",
          "status": "completed"
        },
        "tags": []
      },
      "source": [
        "![Kaggle Submission.JPG](data:image/jpeg;base64,/9j/4AAQSkZJRgABAQEAYABgAAD/4RDuRXhpZgAATU0AKgAAAAgABAE7AAIAAAAMAAAISodpAAQAAAABAAAIVpydAAEAAAAYAAAQzuocAAcAAAgMAAAAPgAAAAAc6gAAAAgAAAAAAAAAAAAAAAAAAAAAAAAAAAAAAAAAAAAAAAAAAAAAAAAAAAAAAAAAAAAAAAAAAAAAAAAAAAAAAAAAAAAAAAAAAAAAAAAAAAAAAAAAAAAAAAAAAAAAAAAAAAAAAAAAAAAAAAAAAAAAAAAAAAAAAAAAAAAAAAAAAAAAAAAAAAAAAAAAAAAAAAAAAAAAAAAAAAAAAAAAAAAAAAAAAAAAAAAAAAAAAAAAAAAAAAAAAAAAAAAAAAAAAAAAAAAAAAAAAAAAAAAAAAAAAAAAAAAAAAAAAAAAAAAAAAAAAAAAAAAAAAAAAAAAAAAAAAAAAAAAAAAAAAAAAAAAAAAAAAAAAAAAAAAAAAAAAAAAAAAAAAAAAAAAAAAAAAAAAAAAAAAAAAAAAAAAAAAAAAAAAAAAAAAAAAAAAAAAAAAAAAAAAAAAAAAAAAAAAAAAAAAAAAAAAAAAAAAAAAAAAAAAAAAAAAAAAAAAAAAAAAAAAAAAAAAAAAAAAAAAAAAAAAAAAAAAAAAAAAAAAAAAAAAAAAAAAAAAAAAAAAAAAAAAAAAAAAAAAAAAAAAAAAAAAAAAAAAAAAAAAAAAAAAAAAAAAAAAAAAAAAAAAAAAAAAAAAAAAAAAAAAAAAAAAAAAAAAAAAAAAAAAAAAAAAAAAAAAAAAAAAAAAAAAAAAAAAAAAAAAAAAAAAAAAAAAAAAAAAAAAAAAAAAAAAAAAAAAAAAAAAAAAAAAAAAAAAAAAAAAAAAAAAAAAAAAAAAAAAAAAAAAAAAAAAAAAAAAAAAAAAAAAAAAAAAAAAAAAAAAAAAAAAAAAAAAAAAAAAAAAAAAAAAAAAAAAAAAAAAAAAAAAAAAAAAAAAAAAAAAAAAAAAAAAAAAAAAAAAAAAAAAAAAAAAAAAAAAAAAAAAAAAAAAAAAAAAAAAAAAAAAAAAAAAAAAAAAAAAAAAAAAAAAAAAAAAAAAAAAAAAAAAAAAAAAAAAAAAAAAAAAAAAAAAAAAAAAAAAAAAAAAAAAAAAAAAAAAAAAAAAAAAAAAAAAAAAAAAAAAAAAAAAAAAAAAAAAAAAAAAAAAAAAAAAAAAAAAAAAAAAAAAAAAAAAAAAAAAAAAAAAAAAAAAAAAAAAAAAAAAAAAAAAAAAAAAAAAAAAAAAAAAAAAAAAAAAAAAAAAAAAAAAAAAAAAAAAAAAAAAAAAAAAAAAAAAAAAAAAAAAAAAAAAAAAAAAAAAAAAAAAAAAAAAAAAAAAAAAAAAAAAAAAAAAAAAAAAAAAAAAAAAAAAAAAAAAAAAAAAAAAAAAAAAAAAAAAAAAAAAAAAAAAAAAAAAAAAAAAAAAAAAAAAAAAAAAAAAAAAAAAAAAAAAAAAAAAAAAAAAAAAAAAAAAAAAAAAAAAAAAAAAAAAAAAAAAAAAAAAAAAAAAAAAAAAAAAAAAAAAAAAAAAAAAAAAAAAAAAAAAAAAAAAAAAAAAAAAAAAAAAAAAAAAAAAAAAAAAAAAAAAAAAAAAAAAAAAAAAAAAAAAAAAAAAAAAAAAAAAAAAAAAAAAAAAAAAAAAAAAAAAAAAAAAAAAAAAAAAAAAAAAAAAAAAAAAAAAAAAAAAAAAAAAAAAAAAAAAAAAAAAAAAAAAAAAAAAAAAAAAAAAAAAAAAAAAAAAAAAAAAAAAAAAAAAAAAAAAAAAAAAAAAAAAAAAAAAAAAAAAAAAAAAAAAAAAAAAAAAAAAAAAAAAAAAAAAAAAAAAAAAAAAAAAAAAAAAAAAAAAAAAAAAAAAAAAAAAAAAAAAAAAAAAAAAAAAAAAAAAAAAAAAAAAAAAAAAAAAAAAAAAAAAAAAAAAAAAAAAAAAAAAAAAAAAAAAAAAAAAAAAAAAAAAAAAAAAAAAAAAAAAAAAAAAAAAAAAAAAAAAAAAAAAAAAAAAAAAAAAAAAAAAAAAAAAAAAAAAAAAAAAAAAAAAAAAAAAAAAAAAAAAAAAAAAAAAAAAAAAAAAAAAAAAAAAAAAAAAAAAAAAAAAAAAAAAAAAAAAAAAAAAAAAAAAAAAAAAAAAAAAAAAAAAAAAAAAAAAAAAAAAAAAAAAAAAAAAAAAAAAAAAAAAAAAAAAAAAAAAAAAAAAAAAAAAAAAAAAAAAAAAAAAAAAAAAAAAAAAAAAAAAAAAAAAAAAAAAAAAAAAAAAAAAAAAAAAAAAAAAAAAAAAAAAAAAAAAAAAAAAAAAAAAAAAAAAAAAAAAAAAAAAAAAAAAAAAAAAAAAAAAAAAAAAAAAAAAAAAAAAAAAAAAAAAAAAAAAAAAAAAAAAAAAAAAAAAAAAAAAAAAAAAAAAAAAAAAAAAAAAAAAAAAAAAAAAAAAAAAAAAAAAAAAAAAAAAAAAAAAAAAAAAAAAAAAAAAAAAAAAAAAAAAAAAAAAAAAAAAAAAAAAAAAAAAAAAAAAAAAAAAAAAAAAAAAAAAAAAAAAAAAAAAAAAAAAAAAAAAAAAAAAAAAAAAAAAAAAAAAAAAAAAAAAAAAAAAAAAAAAAAAAAAAAAAAAAAAAAAAAAAAAAAAAAAAAAAAAAAAAAAAAAAAAAAAAAAAAAAAAAAAAAAAAAAAAAAAAAAAAAAAAAAAAAAAAAAAAAAAAAAAAAAAAAAAAAAAAAAAAAAAAAAAAAAAAAAAAAAAAAAAAAAAAAAAAAAAAAAAAAAAAAAAAAAAAAAAAAAAAAAAAAAAAAAAAAAAAAAAAAAAAAAAAAAAAAAAAAAAAAAAAAAAAAAAAAAAAAAAAAAAAAAAAAAAAAAFNoZWlraCBBc2lmAAAFkAMAAgAAABQAABCkkAQAAgAAABQAABC4kpEAAgAAAAM4OAAAkpIAAgAAAAM4OAAA6hwABwAACAwAAAiYAAAAABzqAAAACAAAAAAAAAAAAAAAAAAAAAAAAAAAAAAAAAAAAAAAAAAAAAAAAAAAAAAAAAAAAAAAAAAAAAAAAAAAAAAAAAAAAAAAAAAAAAAAAAAAAAAAAAAAAAAAAAAAAAAAAAAAAAAAAAAAAAAAAAAAAAAAAAAAAAAAAAAAAAAAAAAAAAAAAAAAAAAAAAAAAAAAAAAAAAAAAAAAAAAAAAAAAAAAAAAAAAAAAAAAAAAAAAAAAAAAAAAAAAAAAAAAAAAAAAAAAAAAAAAAAAAAAAAAAAAAAAAAAAAAAAAAAAAAAAAAAAAAAAAAAAAAAAAAAAAAAAAAAAAAAAAAAAAAAAAAAAAAAAAAAAAAAAAAAAAAAAAAAAAAAAAAAAAAAAAAAAAAAAAAAAAAAAAAAAAAAAAAAAAAAAAAAAAAAAAAAAAAAAAAAAAAAAAAAAAAAAAAAAAAAAAAAAAAAAAAAAAAAAAAAAAAAAAAAAAAAAAAAAAAAAAAAAAAAAAAAAAAAAAAAAAAAAAAAAAAAAAAAAAAAAAAAAAAAAAAAAAAAAAAAAAAAAAAAAAAAAAAAAAAAAAAAAAAAAAAAAAAAAAAAAAAAAAAAAAAAAAAAAAAAAAAAAAAAAAAAAAAAAAAAAAAAAAAAAAAAAAAAAAAAAAAAAAAAAAAAAAAAAAAAAAAAAAAAAAAAAAAAAAAAAAAAAAAAAAAAAAAAAAAAAAAAAAAAAAAAAAAAAAAAAAAAAAAAAAAAAAAAAAAAAAAAAAAAAAAAAAAAAAAAAAAAAAAAAAAAAAAAAAAAAAAAAAAAAAAAAAAAAAAAAAAAAAAAAAAAAAAAAAAAAAAAAAAAAAAAAAAAAAAAAAAAAAAAAAAAAAAAAAAAAAAAAAAAAAAAAAAAAAAAAAAAAAAAAAAAAAAAAAAAAAAAAAAAAAAAAAAAAAAAAAAAAAAAAAAAAAAAAAAAAAAAAAAAAAAAAAAAAAAAAAAAAAAAAAAAAAAAAAAAAAAAAAAAAAAAAAAAAAAAAAAAAAAAAAAAAAAAAAAAAAAAAAAAAAAAAAAAAAAAAAAAAAAAAAAAAAAAAAAAAAAAAAAAAAAAAAAAAAAAAAAAAAAAAAAAAAAAAAAAAAAAAAAAAAAAAAAAAAAAAAAAAAAAAAAAAAAAAAAAAAAAAAAAAAAAAAAAAAAAAAAAAAAAAAAAAAAAAAAAAAAAAAAAAAAAAAAAAAAAAAAAAAAAAAAAAAAAAAAAAAAAAAAAAAAAAAAAAAAAAAAAAAAAAAAAAAAAAAAAAAAAAAAAAAAAAAAAAAAAAAAAAAAAAAAAAAAAAAAAAAAAAAAAAAAAAAAAAAAAAAAAAAAAAAAAAAAAAAAAAAAAAAAAAAAAAAAAAAAAAAAAAAAAAAAAAAAAAAAAAAAAAAAAAAAAAAAAAAAAAAAAAAAAAAAAAAAAAAAAAAAAAAAAAAAAAAAAAAAAAAAAAAAAAAAAAAAAAAAAAAAAAAAAAAAAAAAAAAAAAAAAAAAAAAAAAAAAAAAAAAAAAAAAAAAAAAAAAAAAAAAAAAAAAAAAAAAAAAAAAAAAAAAAAAAAAAAAAAAAAAAAAAAAAAAAAAAAAAAAAAAAAAAAAAAAAAAAAAAAAAAAAAAAAAAAAAAAAAAAAAAAAAAAAAAAAAAAAAAAAAAAAAAAAAAAAAAAAAAAAAAAAAAAAAAAAAAAAAAAAAAAAAAAAAAAAAAAAAAAAAAAAAAAAAAAAAAAAAAAAAAAAAAAAAAAAAAAAAAAAAAAAAAAAAAAAAAAAAAAAAAAAAAAAAAAAAAAAAAAAAAAAAAAAAAAAAAAAAAAAAAAAAAAAAAAAAAAAAAAAAAAAAAAAAAAAAAAAAAAAAAAAAAAAAAAAAAAAAAAAAAAAAAAAAAAAAAAAAAAAAAAAAAAAAAAAAAAAAAAAAAAAAAAAAAAAAAAAAAAAAAAAAAAAAAAAAAAAAAAAAAAAAAAAAAAAAAAAAAAAAAAAAAAAAAAAAAAAAAAAAAAAAAAAAAAAAAAAAAAAAAAAAAAAAAAAAAAAAAAAAAAAAAAAAAAAAAAAAAAAAAAAAAAAAAAAAAAAAAAAAAAAAAAAAAAAAAAAAAAAAAAAAAAAAAAAAAAAAAAAAAAAAAAAAAAAAAAAAAAAAAAAAAAAAAAAAAAAAAAAAAAAAAAAAAAAAAAAAAAAAAAAAAAAAAAAAAAAAAAAAAAAAAAAAAAAAAAAAAAAAAAAAAAAAAAAAAAAAAAAAAAAAAAAAAAAAAAAAAAAAAAAAAAAAAAAAAAAAAAAAAAAAAAAAAAAAAAAAAAAAAAAAAAAAAAAAAAAAAAAAAAAAAAAAAAAAAAAAAAAAAAAAAAAAAAAAAAAAAAAAAAAAAAAAAAAAAAAAAAAAAAAAAAAAAAAAAAAAAAAAAAAAAAAAAAAAAAAAAAAAAAAAAAAAAAAAAAAAAAAAAAAAAAAAAAAAAAAAAAAAAAAAAAAAAAAAAAAAAAAAAAAAAAAAAAAAAAAAAAAAAAAAAAAAAAAAAAAAAAAAAAAAAAAAAAAAAAAAAAAAAAAAAAAAAAAAAAAAAAAAAAAAAAAAAAAAAAAAAAAAAAAAAAAAAAAAAAAAAAAAAAAAAAAAAAAAAAAAAAAAAAAAAAAAAAAAAAAAAAAAAAAAAAAAAAAAAAAAAAAAAAAAAAAAAAAAAAAAAAAAAAAAAAAAAAAAAAAAAAAAAAAAAAAAAAAAAAAAAAAAAAAAAAAAAAAAAAAAAAAAAAAAAAAAAAAAAAAAAMjAyMToxMDoxNCAxMTozMjoyOQAyMDIxOjEwOjE0IDExOjMyOjI5AAAAUwBoAGUAaQBrAGgAIABBAHMAaQBmAAAA/+ELHmh0dHA6Ly9ucy5hZG9iZS5jb20veGFwLzEuMC8APD94cGFja2V0IGJlZ2luPSfvu78nIGlkPSdXNU0wTXBDZWhpSHpyZVN6TlRjemtjOWQnPz4NCjx4OnhtcG1ldGEgeG1sbnM6eD0iYWRvYmU6bnM6bWV0YS8iPjxyZGY6UkRGIHhtbG5zOnJkZj0iaHR0cDovL3d3dy53My5vcmcvMTk5OS8wMi8yMi1yZGYtc3ludGF4LW5zIyI+PHJkZjpEZXNjcmlwdGlvbiByZGY6YWJvdXQ9InV1aWQ6ZmFmNWJkZDUtYmEzZC0xMWRhLWFkMzEtZDMzZDc1MTgyZjFiIiB4bWxuczpkYz0iaHR0cDovL3B1cmwub3JnL2RjL2VsZW1lbnRzLzEuMS8iLz48cmRmOkRlc2NyaXB0aW9uIHJkZjphYm91dD0idXVpZDpmYWY1YmRkNS1iYTNkLTExZGEtYWQzMS1kMzNkNzUxODJmMWIiIHhtbG5zOnhtcD0iaHR0cDovL25zLmFkb2JlLmNvbS94YXAvMS4wLyI+PHhtcDpDcmVhdGVEYXRlPjIwMjEtMTAtMTRUMTE6MzI6MjkuODc2PC94bXA6Q3JlYXRlRGF0ZT48L3JkZjpEZXNjcmlwdGlvbj48cmRmOkRlc2NyaXB0aW9uIHJkZjphYm91dD0idXVpZDpmYWY1YmRkNS1iYTNkLTExZGEtYWQzMS1kMzNkNzUxODJmMWIiIHhtbG5zOmRjPSJodHRwOi8vcHVybC5vcmcvZGMvZWxlbWVudHMvMS4xLyI+PGRjOmNyZWF0b3I+PHJkZjpTZXEgeG1sbnM6cmRmPSJodHRwOi8vd3d3LnczLm9yZy8xOTk5LzAyLzIyLXJkZi1zeW50YXgtbnMjIj48cmRmOmxpPlNoZWlraCBBc2lmPC9yZGY6bGk+PC9yZGY6U2VxPg0KCQkJPC9kYzpjcmVhdG9yPjwvcmRmOkRlc2NyaXB0aW9uPjwvcmRmOlJERj48L3g6eG1wbWV0YT4NCiAgICAgICAgICAgICAgICAgICAgICAgICAgICAgICAgICAgICAgICAgICAgICAgICAgICAgICAgICAgICAgICAgICAgICAgICAgICAgICAgICAgICAgICAgICAgICAgICAgICAKICAgICAgICAgICAgICAgICAgICAgICAgICAgICAgICAgICAgICAgICAgICAgICAgICAgICAgICAgICAgICAgICAgICAgICAgICAgICAgICAgICAgICAgICAgICAgICAgICAgIAogICAgICAgICAgICAgICAgICAgICAgICAgICAgICAgICAgICAgICAgICAgICAgICAgICAgICAgICAgICAgICAgICAgICAgICAgICAgICAgICAgICAgICAgICAgICAgICAgICAgCiAgICAgICAgICAgICAgICAgICAgICAgICAgICAgICAgICAgICAgICAgICAgICAgICAgICAgICAgICAgICAgICAgICAgICAgICAgICAgICAgICAgICAgICAgICAgICAgICAgICAKICAgICAgICAgICAgICAgICAgICAgICAgICAgICAgICAgICAgICAgICAgICAgICAgICAgICAgICAgICAgICAgICAgICAgICAgICAgICAgICAgICAgICAgICAgICAgICAgICAgIAogICAgICAgICAgICAgICAgICAgICAgICAgICAgICAgICAgICAgICAgICAgICAgICAgICAgICAgICAgICAgICAgICAgICAgICAgICAgICAgICAgICAgICAgICAgICAgICAgICAgCiAgICAgICAgICAgICAgICAgICAgICAgICAgICAgICAgICAgICAgICAgICAgICAgICAgICAgICAgICAgICAgICAgICAgICAgICAgICAgICAgICAgICAgICAgICAgICAgICAgICAKICAgICAgICAgICAgICAgICAgICAgICAgICAgICAgICAgICAgICAgICAgICAgICAgICAgICAgICAgICAgICAgICAgICAgICAgICAgICAgICAgICAgICAgICAgICAgICAgICAgIAogICAgICAgICAgICAgICAgICAgICAgICAgICAgICAgICAgICAgICAgICAgICAgICAgICAgICAgICAgICAgICAgICAgICAgICAgICAgICAgICAgICAgICAgICAgICAgICAgICAgCiAgICAgICAgICAgICAgICAgICAgICAgICAgICAgICAgICAgICAgICAgICAgICAgICAgICAgICAgICAgICAgICAgICAgICAgICAgICAgICAgICAgICAgICAgICAgICAgICAgICAKICAgICAgICAgICAgICAgICAgICAgICAgICAgICAgICAgICAgICAgICAgICAgICAgICAgICAgICAgICAgICAgICAgICAgICAgICAgICAgICAgICAgICAgICAgICAgICAgICAgIAogICAgICAgICAgICAgICAgICAgICAgICAgICAgICAgICAgICAgICAgICAgICAgICAgICAgICAgICAgICAgICAgICAgICAgICAgICAgICAgICAgICAgICAgICAgICAgICAgICAgCiAgICAgICAgICAgICAgICAgICAgICAgICAgICAgICAgICAgICAgICAgICAgICAgICAgICAgICAgICAgICAgICAgICAgICAgICAgICAgICAgICAgICAgICAgICAgICAgICAgICAKICAgICAgICAgICAgICAgICAgICAgICAgICAgICAgICAgICAgICAgICAgICAgICAgICAgICAgICAgICAgICAgICAgICAgICAgICAgICAgICAgICAgICAgICAgICAgICAgICAgIAogICAgICAgICAgICAgICAgICAgICAgICAgICAgICAgICAgICAgICAgICAgICAgICAgICAgICAgICAgICAgICAgICAgICAgICAgICAgICAgICAgICAgICAgICAgICAgICAgICAgCiAgICAgICAgICAgICAgICAgICAgICAgICAgICAgICAgICAgICAgICAgICAgICAgICAgICAgICAgICAgICAgICAgICAgICAgICAgICAgICAgICAgICAgICAgICAgICAgICAgICAKICAgICAgICAgICAgICAgICAgICAgICAgICAgICAgICAgICAgICAgICAgICAgICAgICAgICAgICAgICAgICAgICAgICAgICAgICAgICAgICAgICAgICAgICAgICAgICAgICAgIAogICAgICAgICAgICAgICAgICAgICAgICAgICAgICAgICAgICAgICAgICAgICAgICAgICAgICAgICAgICAgICAgICAgICAgICAgICAgICAgICAgICAgICAgICAgICAgICAgICAgCiAgICAgICAgICAgICAgICAgICAgICAgICAgICAgICAgICAgICAgICAgICAgICAgICAgICAgICAgICAgICAgICAgICAgICAgICAgICAgICAgICAgICAgICAgICAgICAgICAgICAKICAgICAgICAgICAgICAgICAgICAgICAgICAgICAgICAgICAgICAgICAgICAgICAgICAgICAgICAgICAgICAgICAgICAgICAgICAgICAgICAgICAgICAgICAgICAgICAgICAgIAogICAgICAgICAgICAgICAgICAgICAgICAgICAgPD94cGFja2V0IGVuZD0ndyc/Pv/bAEMABwUFBgUEBwYFBggHBwgKEQsKCQkKFQ8QDBEYFRoZGBUYFxseJyEbHSUdFxgiLiIlKCkrLCsaIC8zLyoyJyorKv/bAEMBBwgICgkKFAsLFCocGBwqKioqKioqKioqKioqKioqKioqKioqKioqKioqKioqKioqKioqKioqKioqKioqKioqKv/AABEIAfIC+wMBIgACEQEDEQH/xAAfAAABBQEBAQEBAQAAAAAAAAAAAQIDBAUGBwgJCgv/xAC1EAACAQMDAgQDBQUEBAAAAX0BAgMABBEFEiExQQYTUWEHInEUMoGRoQgjQrHBFVLR8CQzYnKCCQoWFxgZGiUmJygpKjQ1Njc4OTpDREVGR0hJSlNUVVZXWFlaY2RlZmdoaWpzdHV2d3h5eoOEhYaHiImKkpOUlZaXmJmaoqOkpaanqKmqsrO0tba3uLm6wsPExcbHyMnK0tPU1dbX2Nna4eLj5OXm5+jp6vHy8/T19vf4+fr/xAAfAQADAQEBAQEBAQEBAAAAAAAAAQIDBAUGBwgJCgv/xAC1EQACAQIEBAMEBwUEBAABAncAAQIDEQQFITEGEkFRB2FxEyIygQgUQpGhscEJIzNS8BVictEKFiQ04SXxFxgZGiYnKCkqNTY3ODk6Q0RFRkdISUpTVFVWV1hZWmNkZWZnaGlqc3R1dnd4eXqCg4SFhoeIiYqSk5SVlpeYmZqio6Slpqeoqaqys7S1tre4ubrCw8TFxsfIycrS09TV1tfY2dri4+Tl5ufo6ery8/T19vf4+fr/2gAMAwEAAhEDEQA/APomISlW2OgG9sAoT/EfepNs/wDz0j/79n/Gi3/1Z/33/wDQjUlAEe2f/npH/wB+z/jRtn/56R/9+z/jUlFAEe2f/npH/wB+z/jRtn/56R/9+z/jUlFAEe2f/npH/wB+z/jRtn/56R/9+z/jUlFAEe2f/npH/wB+z/jRtn/56R/9+z/jUlFAEe2f/npH/wB+z/jRtn/56R/9+z/jUlFAEe2f/npH/wB+z/jRtn/56R/9+z/jUlFAEe2f/npH/wB+z/jRtn/56R/9+z/jUlFAEe2f/npH/wB+z/jRtn/56R/9+z/jUlFAEe2f/npH/wB+z/jRtn/56R/9+z/jUlFAEe2f/npH/wB+z/jRtn/56R/9+z/jUlFAEe2f/npH/wB+z/jRtn/56R/9+z/jUlFAEe2f/npH/wB+z/jRtn/56R/9+z/jUlFAEe2f/npH/wB+z/jRtn/56R/9+z/jUlFAEe2f/npH/wB+z/jRtn/56R/9+z/jUlFAEe2f/npH/wB+z/jRtn/56R/9+z/jUlFAEe2f/npH/wB+z/jRtn/56R/9+z/jUlFAEe2f/npH/wB+z/jRtn/56R/9+z/jUlFAEe2f/npH/wB+z/jRtn/56R/9+z/jUlFAEe2f/npH/wB+z/jRtn/56R/9+z/jUlFAEe2f/npH/wB+z/jRtn/56R/9+z/jUlFAEe2f/npH/wB+z/jRtn/56R/9+z/jUlFAEe2f/npH/wB+z/jRtn/56R/9+z/jUlFAEe2f/npH/wB+z/jRtn/56R/9+z/jUlFAEe2f/npH/wB+z/jRtn/56R/9+z/jUlFAEe2f/npH/wB+z/jRtn/56R/9+z/jUlFAEe2f/npH/wB+z/jRtn/56R/9+z/jUlFAEe2f/npH/wB+z/jRtn/56R/9+z/jUlFAEe2f/npH/wB+z/jRtn/56R/9+z/jUlFAEe2f/npH/wB+z/jRtn/56R/9+z/jUlFAEe2f/npH/wB+z/jRtn/56R/9+z/jUlFAEe2f/npH/wB+z/jRtn/56R/9+z/jUlFAEe2f/npH/wB+z/jRtn/56R/9+z/jUlFAEe2f/npH/wB+z/jRtn/56R/9+z/jUlFAEe2f/npH/wB+z/jRtn/56R/9+z/jUlFAEe2f/npH/wB+z/jRtn/56R/9+z/jUlFAEe2f/npH/wB+z/jRtn/56R/9+z/jUlFAEe2f/npH/wB+z/jRtn/56R/9+z/jUlFAEe2f/npH/wB+z/jRtn/56R/9+z/jUlFAEe2f/npH/wB+z/jRtn/56R/9+z/jUlFAEe2f/npH/wB+z/jRtn/56R/9+z/jUlFAEe2f/npH/wB+z/jRtn/56R/9+z/jUlFAEe2f/npH/wB+z/jRtn/56R/9+z/jUlFAEe2f/npH/wB+z/jRtn/56R/9+z/jUlFAEe2f/npH/wB+z/jRtn/56R/9+z/jUlFAEe2f/npH/wB+z/jRtn/56R/9+z/jUlFAEe2f/npH/wB+z/jRtn/56R/9+z/jUlFAEe2f/npH/wB+z/jRbf8AHrF/uD+VSVHbf8esX+4P5UAFv/qz/vv/AOhGpKjt/wDVn/ff/wBCNSUAFFFFABRRRQAUUUUAFFFFABRRRQAUUUUAFFFFABRRRQAUUUUAFFFFABRRRQAUUUUAFFFFABRRRQAUUUUAFFFFABRRRQAUUUUAFFFFABRRRQAUUUUAFFFFABRRRQAUUUUAFFFFABRRRQAUUUUAFFFFABRRRQAUUUUAFFFFABRRRQAUUUUAFFFFABRRRQAUUUUAFFFFABRRRQAUUUUAFFFFABRRRQAUUUUAFFFFABRRRQAUUUUAFFFFABUdt/x6xf7g/lUlR23/AB6xf7g/lQAW/wDqz/vv/wChGpKjt/8AVn/ff/0I1JQBDebvscgSRYmIwGY4AP17elUoZ2tpRCBIrNIiusspkABB5Vic9u/p0rSdFkQo6hlYYKkZBFQrY2iwNCtrCImOWQRjaT7igCl9quLi8iWCWJCROPmBZTtdQOARk/jTTqVy6eZEIVVYonIZS27eSODkelX3srWSMRyW0LIucKYwQPwqQwxHOY0OQAflHIHT8qOgGc13cJIiyeW8iSumVyitiMsOMn6c59acLy7NuQNhuFcBl8ojaCM/d3fN+Dfyq+YYmOWjQnJPKjrjH8uKjFjaCEwi1hEZO4p5Yxn1xQBRW+keRvKKFnSIByG2gsWBO0njp04PYmni8u3mFujQiQO6tIYyVOApyF3e+OtXTawGMxmCPYyhSuwYKjoMelLHbwxKixRIgTIUKoG3PXFDArfbWbSorgbUklVcDaWG4+w5NQx3t3N5US+UkrNIrM0ZIG3H8Ib39avtBC8PktEhixjYVG38qI7eGIKIoo0C527VAxn0oAy5tQuJ9OlkiaOHZbCR8g5JYHoc8Yx15q1qILyWMe+RVknw3lyFCR5bnGQQeoFTvZWsmzzLaFtg2pmMHaPQelPmt4blAlxDHKoOQsihgD680xmf9qltw8MDGUeeIo3cGTb8m4g85buOvf2okv7qOBJJFjjVQ5mcoWACnGcBsgEZPfFXza25t/s5gjMIGBHsG38ulNNlasqK1tCVj+4DGML9PSkIgS5nd2k3wrEHZBGQdxIzznPPTOMdO9VW1C4jhgnk8ovJbmTjcqrlk4Izz9481p/ZYPPM/kR+aRgybBuI+tNms4Z4REyKqgBRtA4AIOB7cCjoHUo3FzeqDCssQlSaIGRYjtKsemN3X8elPS5neUwwGNHMkp3yBnGFIGMbh6+uOOlXFs7ZIDAtvEImOTGEG0/hRJaW80eyW3idd27ayAjPr9aP6/IDPGp3MkZmQRLHHHHIylSS24nIByMdODg1rUwwxHOY0O4AH5RyB0FPoEFFFFAwooooAKKKKACiiigAooooAKKKKACiiigAooooAKKKKACiiigAooooAKKKKACiiigAooooAKKKKACiiigDJ1gs15YxgXLo7PuS3mMbNheOQy/zotJb9JIradkG2JpH8wFnxuIVcg4zjGTz0rUaNGdXZFLJnaxHK59KPLTfv2ruxt3Y5x6UgMe21OcWtpGETzLiGJocknOfv5ycnA56046ncyTPHG0eySKVoX8ojaVwO7fN19BWoLeFfL2wxjyhiPCj5BjGB6U1LO2ilaWO3iSRskuqAE56803qMx11TUEt4VURzSLbLPI/lYD5zx975enJ569Kv6ksk0ECxSBC8g3R+cYmkGD8oYcg9+PSpzp9kUjQ2kBWM5RfKGFOc8ccc1JPbw3URiuYY5oz1SRQwP4Gm9RLQyoL2YiO2s38tlEjO14fMI2sAVyCM9euTx60+XU7gNLJH5HlQGMOuCxk3AHKtkcc8cHOO1XmsLN4Ehe1haKP7kZjG1foO1Pe0t5JkmkgiaWP7jsgLL9D2pAZkupXiglFjO+5aCMCMkrjdyfmGemMcf0q/YTy3FoHuECSBipA6HBxnGTj6Z4qV7aCSJopIY2jY5ZCoIJ65Ip0cUcMaxwosaKMKqjAH4ULYGOooooAKKKKAMC/FzNrV3Hbi7eRLaMw+VcbEjYl+WG4A9B2PSrbalKhlR/L3R3cUA4PIYISevX5j+VaQjQSNIEUOwAZgOSB0GfxP51G1nbPcee9vE03A8woC3ByOevWmDMaC+u10+PzJUkSZJVUrnzEKhjktnnp6DHHWpYr6dcRxbRLLJHGJJdzKpMW7JGfbGBjrWmljaRuzx20Ksy7WZYwCR6H2pzWlu8bRvBEyPjcpQEHHTNSlYCtLJNJpMhNzAk3K+ajYTIOOvb074PrVOO5ezWWCMSJPvjXbcTGZE3kgMGJ3EcHgkduma1xBEsHkLEgixt8sKNuPTFRR2FnDbtbxWsCQv8AejWMBW+op9QKbXl55yWyzWnmhHd5dpKnaQMbd3B555OKhOsXLQyXCRxrFHaxzmNlJYl88ZzgAYHatJrCzeBIXtIGiQ5VDGCqn2FS+VHlj5a5ZQrHb1Hofbk0dAKun3NzMZUu0AZMYYJsyD/s7jj86u1FBbQWqFLaGOFSclY1CjP4VLQAVU1N3js1ZGZT50WSDjjzFz+GM1bpGVXQq6hlYYIIyCKAKNxPNHeziD5mWBNqE8AlmGcZHP4jOKiN/cMsUcRUytv3N5DYG0jjbuBzz61eSytY4WhjtoVif7yCMBW+opGsrV4BC9tC0SnIQxgqD64oAqX8txLo0ToRBJI8QYcnG51BHBHrTku5xIhPleSZjBsCndkZGc59s4x071eMaMgRkUqCCFI4GOR+WKYLaAXBnEMfnEYMmwbvzoDoV7eeebSTPMyBnjLL5akbePqarRBoNLWUrLubysmS4d85Yc9eOtagjRY/LVFCAY2gcY9MUGNDGEKKUGMLjgY6UAZyajMoEs5iELeaAAhyuwnknJzwPSmG8uX/AHcxCss0PzIpTKs3TG4nt/8AWrT8iLaB5SYGcDaOM9fzpkdpbRLtit4kGQcKgHI6flR1E72sVr5HknXazOioS0UU5jcf7QwRn8SBSJdSykGCWMQoiMzTKdzhu+QQB+R5q3PaW9zt+0wRzbfu+YgbH50PawSSJJJBGzx/cZkBK/Q9qBlB9QuI0Ex8oxu0iogU7lKhjknPP3emB1olvb1AFQRs4i81sRHBznC/e46deevSr4tLcSvKIIvMkGHfYMsPQnvRLaW8+zz4IpNn3d6A7fp6UASKdygkYyM49KWiigAqO2/49Yv9wfyqSo7b/j1i/wBwfyoAbCpKNh2HzvwMf3jUmw/89G/If4U23/1Z/wB9/wD0I1JQA3Yf+ejfkP8ACjYf+ejfkP8ACnUUAN2H/no35D/CjYf+ejfkP8KdRQA3Yf8Ano35D/CjYf8Ano35D/CnZGcZ564ooAbsP/PRvyH+FGw/89G/If4U7IyRnkdRRQA3Yf8Ano35D/CjYf8Ano35D/CnUUAN2H/no35D/CjYf+ejfkP8KdRQA3Yf+ejfkP8ACjYf+ejfkP8ACnUUAN2H/no35D/CjYf+ejfkP8KdRQA3Yf8Ano35D/CjYf8Ano35D/CnUUAN2H/no35D/CjYf+ejfkP8KdRQA3Yf+ejfkP8ACjYf+ejfkP8ACnUUAN2H/no35D/CjYf+ejfkP8KdRQA3Yf8Ano35D/CjYf8Ano35D/CnUUAN2H/no35D/CjYf+ejfkP8KdRQA3Yf+ejfkP8ACjYf+ejfkP8ACnUUAN2H/no35D/CjYf+ejfkP8KdRQA3Yf8Ano35D/CjYf8Ano35D/CnUUAN2H/no35D/CjYf+ejfkP8KdRQA3Yf+ejfkP8ACjYf+ejfkP8ACnUUAN2H/no35D/CjYf+ejfkP8KdRQA3Yf8Ano35D/CjYf8Ano35D/CnUUAN2H/no35D/CjYf+ejfkP8KdRQA3Yf+ejfkP8ACjYf+ejfkP8ACnUUAN2H/no35D/CjYf+ejfkP8KdRQA3Yf8Ano35D/CjYf8Ano35D/CnUUAN2H/no35D/CjYf+ejfkP8KdRQA3Yf+ejfkP8ACjYf+ejfkP8ACm3H/HrL/uH+VYVfLZ5xB/ZNSEPZc3Mr72/Rm9Kl7RXub+w/89G/If4UbD/z0b8h/hWCrFGypKkdwasLqFwrAlw3sVHNeXh+NsLP+PScfS0vv+H8mW8NLozW2H/no35D/CjYf+ejfkP8KoR6pziZB9V/wqddRt2HLFT6Ef4V9Bh+IcrxCvGsl/i938zJ0ZroWNh/56N+Q/wo2H/no35D/Coft9t/z0/8dNH2+2/56f8Ajprr/tbLv+f8P/Ao/wCZPs59ibYf+ejfkP8ACjYf+ejfkP8ACo47uCVwiPlj0GDU1ddDEUcRHnozUltdNP8AIlprcbsP/PRvyH+FGw/89G/If4U6itxDdh/56N+Q/wAKNh/56N+Q/wAKdRQAxhsXLSlQO5x/hTPNi/5+l/76Wm3/APx4yfh/MVjV8Zn3EdXKsTGhCCknFPX1a/Q6KVFTjds39h/56N+Q/wAKNh/56N+Q/wAKw1lkQYR2UegOKvxamvlgTKxYd1A5p4Di/BYmTjXXs35u6+//AIASw8ltqXdh/wCejfkP8KNh/wCejfkP8KhF9bEgCTr6g1Orq67lYMp7g8V9RQxmGxDao1Iyt2af5GLjJboTYf8Ano35D/CjYf8Ano35D/CnUV1Ejdh/56N+Q/wo2H/no35D/CnUUAN2H/no35D/AAo2H/no35D/AAp1FADdh/56N+Q/wo2H/no35D/CnUUAN2H/AJ6N+Q/wo2H/AJ6N+Q/wp1FADdh/56N+Q/wo2H/no35D/CnVk6fZ/atPhnmurrfIu5sTsB+VAGpsP/PRvyH+FGw/89G/If4VnGA2mpWYjuLh1lZ1ZZJSwOFJ71p0AN2H/no35D/CjYf+ejfkP8KdRQA3Yf8Ano35D/CjYf8Ano35D/CnUUAN2H/no35D/CjYf+ejfkP8KdRQA3Yf+ejfkP8ACm23/HrF/uD+VSVHbf8AHrF/uD+VABb/AOrP++//AKEakqO3/wBWf99//QjUlAFDW55rXRLqa2njt5VT5ZZfupz1PBx9cEDvXP2XiVk+wyXd+Ram5mhmnm8raxCblAkQBWGTgEYyRgjIrr6OlaRkkrNGc4SbTTsedprM++W/m1f7HcvpsUiZjT/SHDy7Uww79Nq4Y9jxWtNqGrS3jkX8lqBqEVqYUijIVXiQnkqTkFjjt6g111FaOrG9+X+vuM/Yy/m/q3r8zixqd9sR2uoTcxWt8q3U0K8GOZVVjtXgY6gDHfHFNPiC7bSBJHqwQJdmOSeSSAbx5edscoXyjye6qeo4PNdtRgYxjip9pH+X+rh7KX839Wt3OIOtXBummW4+yxTW9kZrx7eNXiR/NyzcEDkAc5Vc5FWrXUdR1CW1todTkWGWW5RLyOOMtOibdrjKlepIyBg4rraKHUT2j/VgjRkt5f195n6JeS33h6zurlgJZYFZ3AwM45PtXMQ+INUksbp5LooI3hSOYQr81u0mGusYx07dBjOMEV1U2i6XcXwvZ9Ns5bpSGE7wKXBHQ7iM8VYubdLu3aGQyKrd45GRh9CCCKFOCd7bjcJtWva34/18/wDPiJtTeeaEza0Wgt9W8uO/KRjahtiSchQh5Y/NjHfoK1YtduF8LXM0U63l6qzm0cqM3KIcBwq4B6joMHt1rdsdPg0+ORbfeTK/mSPI5dnbAGST7AD8KtU5VIvRIUKUk7tnIzavImlzvYeJI7xVmiBuJFjTywQSVEgTy8njGV46E8imPr2oDTbKa2nkk/tCJraB5YkyLjfhXO3ggruOR8pCggDNdjgYxjiil7SP8v8AX3D9lL+bp5979xFBVQCxYgYJPeloorE3CiiigAooooAKKKKACiiigAooooAKKKKACiiigAooooAKKKKACiiigAooooAKKKKACiiigAooooAKKKKACiiigAooooAKKKKAI7j/AI9Zf9w/yrCroaCAQQRkHqDXy2ecPvNqkKiqcvKrbXv+KN6VX2atY8r0prUarYG2MQ1b7RN/am3Hm7Nr/wCs77d2zbntjFR+K7i0vZ9/nWflNYb7eW5bhyzHBgP/AD04HIyeU4r0+SwgkOduw+q8VXfSjyY5c+gYf1r5LEcO5lQq+0hBTS7SXm+qXpZX+Z0RrQa1PNtZdDrMk16tq06xwtZW10hNxL3KwsGBVt2clQT0zwBTr9lXxVcSXgs5LtbyEWcEin7S8RCZMTBgVUHeTgEHDbuDXoDafcBsBA3uGFJ9guf+ef8A48K8f6pmMHy/Vp6K2z8ttPL8dy7w/mOKmkuJfGmn3N5Z3KEXEsEAIG1Y/LbLderH5j7BR2qtobIniGEyCzm1CSadbpY0IuYVyxDSNu+ZOAACMfMuOld99guf+ef/AI8KPsFz/wA8/wDx4VH1TMeXl+rT2t8MvPy8wvC794LD/j+j/H+RrZrNtLSeK6R3TCjOTkelaVfoPCOHrYfAThWg4vnbs010j3OXENOWgUUUV9gc4UUUUAV74E2UmBnp/OuH8R/Yvtmn/wBt/Z/7KzJ532nHleZgbN2flx9/Ge+O9egUx4o5DmSNWPT5lBr5TOeH5ZjiY4mFTlaXLa3rrfo9ex0U63IrWPP7G8EPhNo3aVpTb3ElvEh/fPCrHZtzznaU/MVi6bDbS2Gr28VzZLDLp6LLNp8ZkhQ4YEuo6vg885IAyBjn02708s++3A56p0/KqjWk6HBib8Bn+Vfn+My7HYGpOEqUmr35lqt7ro18vvOqM4yitTg4xZHw7qMVj/ZQso5oXNxYweVbzjcpZH2buMDDNyAG56GoF8ptKmnk/s+PSl1FHig8w/Y5E8rBXeFxs3ndkqF3jHvXekFSQRgjqKK8n65ZtOPXv6eW+m/ToaKJx9ubBfC6/wBtfYo7U3UhtBPuNqq5O0HOAU67d2AflwBwK6LwS27SbHg4UOoOcqQCwBX/AGCPu/7OKvVYsP8Aj+j/AB/ka7MuxHtMfQjbepF7/wB4icfdb8mbNFFFfup5gUUUUAFFFFABRRRQAVk6fefZdPhgmtbrfGu1sQMR+da1FAGYZzd6lZmO3uEWJnZmkiKgZUjvWnRRQAUUUUAFFFFABRRRQAVHbf8AHrF/uD+VSVHbf8esX+4P5UAFv/qz/vv/AOhGpKjt/wDVn/ff/wBCNSUARXJRbdzK7Rpj5mU4IH17fWqVrOy2N3JEVl8tmMYRy6/dHAPf/HNaVFAGOdQ2TykXayo3lgSLtwMhieSdo6fyqS2v7ibykITfIglzg42bef8Ax7H4GtSmCFFmaUA72ABJYnj2Hb8KAKVpfGS0nkdw5iXJKAMOmeMHke3BqCLU2ckPPHHFuwZm2nHy5xwSOv8Ah1rXpksKzKA5cYORscqf0NAGZFqMrpEzyRq7LHti24Mu48kd/wDDHNPvbp7e9l2zqhECskbc72y3A+vTjnpWjHGsUaxxjCqMAegp1AFO2uZZrqSJwB5OQ/HUk/L/AOO8n61y2oXq2/24QXhnuCtwQ8NywljIDHa8R+6q8AMCOdvHNdlHCkW/YDl23MSxJJ/Gn4q4S5SJxclZMwLq+nufCmqTO7QXMccqtGnytAwHAz3OMHd3zkVn3Goagbm0RJZA+nM8U+M/v5fKk259RhQ2P9seldfRTU0ugnBvqcx/bEmq31vHYXsfl+ZF+9hIYZaOUsOuD90cHoahTxNcm6toWlTzPOSGRCqqHzKULAFtx4GeBgc8nt1tFPnj2J9nK3xHLpqupfZ0uHuIyPs0VyUEOM7mwVznpj8c+3FIdX1NbU3JuIyBa/atnkjnDY25z0I/HPtxXU0Uc8exTg9dTk28TT/bZo4p4zHh9xkVB5AWVE3EBiQAGYndj7ueBkVd03VPK0/WLuW6+2R29y2yRejARJgDt1PbjJNb9FLmja1g5JXvc5G11HUdPsJbe+MltOHSUtdyxlirj5gh3Ffvg4DEAAgelSRXLapd2TM58uS5iZhswJP9HZuRkjqOxx354NdVRTdRPW2olTa0uFFFFZGoUUUUAFFFFABRRRQAUUUUAFFFFABRRRQAUUUUAFFFFABRRRQAUUUUAFFFFABRRRQAUUUUAFFFFABRRRQAUUUUAFFFFABRRRQAUUUUAFFFFABRRRQAUUUUAFFFFABRRRQAjKHXDAMD2Ipn2eH/AJ4x/wDfIqSisZ0KVR3nFN+aHdrYj+zw/wDPGP8A75FPVFQYRQo9AMUtFEMPRpvmhBJ+SQXbCiiithBRRRQAUUUUAFFFFABRRRQAUUUUAFFFFABRRRQAUUUUAFR23/HrF/uD+VSVHbf8esX+4P5UAFv/AKs/77/+hGpKjt/9Wf8Aff8A9CNSUAQ3lytnaSXDo7pGNzCMZIHc474HPrxxmqcmuWyiYxJLOI2SNTEAfNkYZCLzycYJJwAD14OLd6ty1nIti0azsMI0n3Vz398dcd+nFYtv4dm02yW001ovJtZluLRZWOdxzvRiB0O4kNzgt0wACAXH11YrWSSbT7yOaOSOP7Mwj3sXYKpB37CCT/e4walh1q1NrNNe/wDEvFvJ5cq3bouxiARlgxXkMDwe/rWVcaHqN1b3ckpj82eaCRbR72WSJRHJvOGZflLZxhVAGBUkGj39ttuIYbRZI7kzJafaHMYyhQnzCmQTnP3cdR3zR/X5f8EDXm1Swt4Ipri+toopseVI8yqsn0JPP4U6TULKK7W1lu4EuHXcsLSgOw9Quc44P5Vjx6RqFnGj26WlxLIkyyxyysqR+ZIX+UhTkDOMEDIA6dKWHRr60vLUWskYhjWJZZWlYmUIuDmMqRnjhgwP1xggGnZavYahp7X1pdwyWy7t0ocbVx1ye3rUxu7ZXZTcRBkKhgXGVLfdB9M9vWqum2Mlvpb2V4sbLukUbGJ3oxJ5yBg89OfrWVp/hu7t7u0muZ4ZCGLXRGcy7OIe3Ycn36UdQ6GifEWnK3lvMi3H2drkQCRGcoM5xgkHoehq1Y6lZ6lGXsbmGfbjeI5AxQns2DwayI9DvIrWOFWgYmxktZCXI2knKkfLyPXp+NaFnp8ltqHnkps+xxQYUnOVLE9unzVMW3v/AFv/AMAH5f1t/wAEmfVdOjExkv7VBAcSlplHl84+bnjkEc0/+0bL7OZ/tlv5Ij80yeau3Z/eznp71mPpd/FYtHaPF5jXslww37dyMzHG7adp5HIHbGRnNVv+EanktbOKZodqzS/al3s4eJ5PM2gkZJyEBz2LVXQfU6JZUdmVHVmQgMAcleM8/hVOPWbCa8NvBdRTMqO7tHIrLHsKghiDwfmH5GotI0yey0uSG8lV7mViZJUzzxtU899qr+NZ6aRqpiRSLKB7exktIXjYvvJ2bWIKYUfIePmxnvR1EaUniHSIraO4OpWrQSyiFZVmUqXPbIOKspqFnJevZx3cD3SDLQLKC6j1K5yOo/OsaPRtQCSzOIfPa5inVGuXcHZgEFyvGfZcfzqSHS9R/tqG4uXiaGG4lkVhKeVZWAHlhQARuGSSScdeaEJm7RRRQMKKKKACiiigAooooAKKKKACiiigAooooAKKKKACiiigAooooAKKKKACiiigAooooAKKKKACiiigAooooAKKKKACiiigAooooAKKKKACiiigAooooAKKKKACiiigAooooAKKKKACiiigAooooAKKKKACiiigAooooAKKKKACiiigAooooAKKKKACiiigAooooAKKKKACo7b/AI9Yv9wfyqSo7b/j1i/3B/KgAt/9Wf8Aff8A9CNSVDCH2NhlA3v1X/aPvUmJP7y/98//AF6AHUU3En95f++f/r0Yk/vL/wB8/wD16AHUU3En95f++f8A69GJP7y/98//AF6AHUU3En95f++f/r0Yk/vL/wB8/wD16AHUU3En95f++f8A69GJP7y/98//AF6AHUU3En95f++f/r0Yk/vL/wB8/wD16AHUU3En95f++f8A69GJP7y/98//AF6AHUU3En95f++f/r0Yk/vL/wB8/wD16AHUU3En95f++f8A69GJP7y/98//AF6AHUU3En95f++f/r0Yk/vL/wB8/wD16AHUU3En95f++f8A69GJP7y/98//AF6AHUU3En95f++f/r0Yk/vL/wB8/wD16AHUU3En95f++f8A69GJP7y/98//AF6AHUU3En95f++f/r0Yk/vL/wB8/wD16AHUU3En95f++f8A69GJP7y/98//AF6AHUU3En95f++f/r0Yk/vL/wB8/wD16AHUU3En95f++f8A69GJP7y/98//AF6AHUU3En95f++f/r0Yk/vL/wB8/wD16AHUU3En95f++f8A69GJP7y/98//AF6AHUU3En95f++f/r0Yk/vL/wB8/wD16AHUU3En95f++f8A69GJP7y/98//AF6AHUU3En95f++f/r0Yk/vL/wB8/wD16AHUU3En95f++f8A69GJP7y/98//AF6AHUU3En95f++f/r0Yk/vL/wB8/wD16AHUU3En95f++f8A69GJP7y/98//AF6AHUU3En95f++f/r0Yk/vL/wB8/wD16AHUU3En95f++f8A69GJP7y/98//AF6AHUU3En95f++f/r0Yk/vL/wB8/wD16AHUU3En95f++f8A69GJP7y/98//AF6AHUU3En95f++f/r0Yk/vL/wB8/wD16AHUU3En95f++f8A69GJP7y/98//AF6AHUU3En95f++f/r0Yk/vL/wB8/wD16AHUU3En95f++f8A69GJP7y/98//AF6AHUU3En95f++f/r0Yk/vL/wB8/wD16AHUU3En95f++f8A69GJP7y/98//AF6AHUU3En95f++f/r0Yk/vL/wB8/wD16AHUU3En95f++f8A69GJP7y/98//AF6AHUU3En95f++f/r0Yk/vL/wB8/wD16AHUU3En95f++f8A69GJP7y/98//AF6AHUU3En95f++f/r0Yk/vL/wB8/wD16AHUU3En95f++f8A69GJP7y/98//AF6AHUU3En95f++f/r0Yk/vL/wB8/wD16AHUU3En95f++f8A69GJP7y/98//AF6AHUU3En95f++f/r0Yk/vL/wB8/wD16AHUU3En95f++f8A69GJP7y/98//AF6AHUU3En95f++f/r0Yk/vL/wB8/wD16AHUU3En95f++f8A69GJP7y/98//AF6AHVHbf8esX+4P5U7En95f++f/AK9Ntv8Aj1i/3B/KgAt/9Wf99/8A0I1JUdv/AKs/77/+hGpKACiqGtzzWuiXU1tPHbyqnyyy/dTnqeDj64IHeufsvErJ9hku78i1NzNDNPN5W1iE3KBIgCsMnAIxkjBGRWkabkroznUjBpM6+ivO01mffLfzav8AY7l9NikTMaf6Q4eXamGHfptXDHseK1ptQ1aW8ci/ktQNQitTCkUZCq8SE8lScgscdvUGtHQkna5n9Yj2/q1zrsjOM89cUVxY1O+2I7XUJuYrW+VbqaFeDHMqqx2rwMdQBjvjimnxBdtpAkj1YIEuzHJPJJAN48vO2OUL5R5PdVPUcHmp9i+/9XsHt49V/VrnbZGSM8jqKK4g61cG6aZbj7LFNb2RmvHt41eJH83LNwQOQBzlVzkVatdR1HUJbW2h1ORYZZblEvI44y06Jt2uMqV6kjIGDim6LW7/AKtcI4iL2R1tFZ+iXkt94es7q5YCWWBWdwMDOOT7VzEPiDVJLG6eS6KCN4UjmEK/NbtJhrrGMdO3QYzjBFSqUm2uxcqsYpN9Tt6K4ObU3nmhM2tFoLfVvLjvykY2obYknIUIeWPzYx36Cuo8O3k19pXmzTfaQJpEjuNoHnIGIV+AByO4GD1FEqTirkwrKcuVGpRXEaVqclteJDb6iZXfULlZNOCKSse+RjJ038Edc47YzVOTXLjUtMv4nvDdQSWaTgOY90beYo2kIPl4P3SWIx1q1Qk3Yl4iKWqPQ6K44+Ibo+KEt4bwtE880L27+WCmyN2BCgbxynVm5B6VXj1zV4NPtZZL552vNMju3d4U/wBHO+NXZQqjICuWwc/d9OKSoSdv67/5A8RBNq21/wALf5o7miuNvdauILGD7BrYvLd7to5NQIij2DZkL5mwxnnjdt/2evNVb3WrufSCmo6rHZq+nvJEY1Qretllxll5+UKcJgndkcUexkP6xH+renc7yiucvNVFtolnHb3q2xUwJdTgKTbIy53HcCBnAGSMDOaztS124tLS1lg10T2+2U+aqRxyXBVgBtDrskxyMKVLcEUlRk3ZDdeKV32udpRXODUtQPiZdJErDfILsOYwMW23BTp18zj1wetdHWcouNrmkZqV7dAoooqSwooooAKKKKACiiigAooooAKKKKACiiigAooooAKKKKACiiigAooooAKKKKACiiigAooooAKKKKACiiigAorhdGazXVtONsYRrPnTHV9uPN2bX/1nfbu2bc9sY4qPxhc2d7dGTz7Ly204PbS3Tf6wsxwbY9pOByMnlOKOw7HfUVw/iqa6nms3nsbwWtrdWbw8Kd8hmTJbnqB8oHqW9jWnqGj6Xqfi6226baG5tit5c3fkL5uRxEu/GckjPXomO9O35i6XOlorjZ30v/hN7I6e9sbwXLi5Rci7+4wy27kwjg44X7pB6Ax6HFp9n4sKWR0u9up57hrl4rPy7u3yzNmRixO3Py8gZypHFJag9DtqKKKACiiigAooooAKKK5zxR9g+36b/b/2f+x/3vnfa8eT5uB5e/d8vTfjPfHfFIZ0dFcxZXoh8FtFI0zTm1uJLeFGxO8KkhCuec7SnPuKyvD07Wa6k+ixWV7KLOHamlkeT5mWHz/7fOSc5KgcdMvqxLa/9dP8zvKK4fQ5LywsPEMenWl3Ld/bk+eVV3F3hi3SEZwSOWx9AKteHrK3m8O6pYvBcpAl3LkSsQz9zuIPOT1HQ5pSdvuv+X+Y7apeZ13TrRXEXf2VPB/huXUDYvapBHvh1FylvITFxubaygjqNwwT74rf8KC4Hhq2+143bpCgAIAj3t5eM842bcZ7VTVm12IjK6T7mxRRRSKCiiigAooooAKKKKACsewsWu7CG4lvbwPIu5ts5A/KtisXTdWsbfTYIZ5wkiLhlKnIP5UwJvs7WepWYS6uZFlZ1ZZZSwOFJ/pWpWUb+2vdUshayiQozlsA8DYa1aQBRRRQAUUUUAFFFFABUdt/x6xf7g/lUlR23/HrF/uD+VABb/6s/wC+/wD6EakqO3/1Z/33/wDQjUlABR0qC9/48pf3vlfLzJz8vvxVaC4ZdNneIrIYiQJFJZX4HIyScD0z2NAGhRWM2oGOSXbdrIpcBZBtx93PUkDr6f8A16miv7iXauEVzF52SDtCleP/AB79BQBp0YGMY4qhb3xexuJmff5WeQAR93PGDg/pVeLU3dyrTxxxhiBM205OFIXg4yST+X40Aa9FZUGoyyLEzyIJG8rEOOXDAEsO/GT/AN8mnXF28OoTKs6ghYykLfxkkggf/WpgTTaLpdxfC9n02zlulIYTvApcEdDuIzxVi5t0u7doZDIqt3jkZGH0IIIqGzuZZ5ZEkAHk/I+B1fP8sYP41yl7fLbrei3vDc3BSch4LlhIuMnbJEfugcANkc44GauKlPS5lJxp3dtzrLHT4NPjkW33kyv5kjyOXZ2wBkk+wA/CmXujaXqUiyajptpduo2q08CuQPQEisy7vZrvwjqMryNBcqkiusZKNbt/dz1yBg7u+cjgis661LUGntmSSRX0/wA2KZRnE83kyEZHcYVWx/tj0qlGV731Jbjbltp/wf6Z2IAHQYormG1aTVdXto9Nv4/I8zAlhw4OYXJHXB5AqOLxNcSXNmpkTzJFiEkW1VBLJkkAtvPbnGOo5NL2UilVi1dHV0VzFvqupNFDNJcxsrRWk7IIQM+c5VlznoMZHfPXI4pE1XUvsyXD3EZH2aO5KCHGdzYK5z0x+Ofbij2bvYPaJq51GBjGOPSiuSi8TTyvIEuIxEQhaV1T/RwZNpJCscDB6Mcg9eOKv2GpmHRdQvHuPtgink8t16SdNoH1OBxxzQ6ckrj9pFuxvUYrkbbUdQ03TpLa9eS3njkVy93JGXZHUk7WLlM71bAJ4GB6VJb3D6lqdi7OfLa5VyuzaHP2YOCVJOOffj9aPZO71JVVO2h1VFFFZGwUUUUAFFFFABRRRQAUUUUAFFFFABRRRQAUUUUAFFFFABRRRQAUUUUAFFFFABRRRQAUUUUAFFFFABRRRQAUUUUAFFFFABRRRQAUUUUAFFFFABRRRQAUUUUAFHXrRRQAUUUUAFFFFABRRRQAUUUUAFFFFABRRRQAUUUUAFFFFABRRRQAUUUUAFFFFABRRRQAVHbf8esX+4P5VJUdt/x6xf7g/lQAW/8Aqz/vv/6EakqO3/1Z/wB9/wD0I1JQAUVDeXK2dpJcOjukY3MIxkgdzjvgc+vHGapya5bKJjEks4jZI1MQB82RhkIvPJxgknAAPXg4ANKmLCiSvIAd743EsT0/l+FZr66sVrJJNp95HNHJHH9mYR72LsFUg79hBJ/vcYNSw61am1mmvf8AiXi3k8uVbt0XYxAIywYryGB4Pf1oA0KjmgSdQHLgD+47L/I1DNqlhbwRTXF9bRRTY8qR5lVZPoSefwp0moWUV2trLdwJcOu5YWlAdh6hc5xwfyoAmRFjjVEAVVGAB2FOqlaavZX+mvfWM6XECbstGwPK9R9arSeJLGLQ7TVWE3k3bxpHHs/ebnIGCM8Ec59MH0oA04oUhUrGDySSSxJJ+pp9Vxf2ZvjZi7gN0BuMHmDeB67etRJrFhLffZYbmKWVQxkEcit5e3GQ3PB5/Q0AXaKorrNjKkL2txHdJNMIA9u6uAxBPJB9BVmW7t4N/nTxR+WoZ97gbQTgE+gJBH4UAS0VTudUtbRm86VAsau0reYo8vaoY5BOehB4HfnrVaPxLpMkkS/bYFSaJJIpHlULJuJAAOeTlTxQBq0VWvb+DT445LpxHG77N7EBV4JySeg4pkmr6bFbxXEuoWqQzHEUjTqFk+hzg/hQBcoqlJq9lBJci6nS2S3ZVeSd1RCWGRgk+9Ok1XT4fK86/tY/OCmPdMo37vu455zjj1o3At0VXa/s0vVs3u4FumGVgMgDkeoXr2NJFqVjNJNHDeW8j2/+uVJVJj/3hnjoetAFmiqllqlnqMsiWM6XCxqrGWJwyHcWHBB/2TTTq9ib9LKO4jluGco0cbqzRkKW+YZyOFNAF2is2bxDpEFpJctqVq0MTrG7pMrBGY4AODx/+urJ1KxF1Ham9txcSruji81d7j1Azkjg0AWaKKKACiiigAooooAKKKKACiiigAooooAKKKKACiiigAooooAKKKKACiiigAooooAKKKKACiiigAooooAKKKKACiiigAooooAKKKKACiiigAooooAKKKKACiiigAooooAKKKKACiiigAooooAKKKKACiiigAooooAKKKKACiiigAooooAKKKKACo7b/j1i/wBwfyqSo7b/AI9Yv9wfyoALf/Vn/ff/ANCNSVHb/wCrP++//oRqSgCC9W5azkWxaNZ2GEaT7q57++OuO/TisW38OzabZLaaa0Xk2sy3FosrHO453oxA6HcSG5wW6YAB6GigDmrjQ9Rure7klMfmzzQSLaPeyyRKI5N5wzL8pbOMKoAwKkg0e/tttxDDaLJHcmZLT7Q5jGUKE+YUyCc5+7jqO+a6GigDn49I1CzjR7dLS4lkSZZY5ZWVI/MkL/KQpyBnGCBkAdOlLDo19aXlqLWSMQxrEssrSsTKEXBzGVIzxwwYH64wd+ijb+v67g9TNsrC4g0Wayl8vd+8WNlYkMrEkE8DB56c/WsuXw1dSMyedD9nQI8EZJ+WUlfMPTphTj3ds101FKwGINKvPtaxEQC1S7a7E4kPmknJ27duB97Gd3QYxVM+H9QuLSK0n+yRR29nLaxzI7M8m4KAxBUbfu8jJ69eK6einsrD63MC30a9a4juboRRzC4jdsXLS5RFYdSi85fpj8an1jRDqt5bksgtyrR3SNnMi/eXHuGA/Amtiilb+vwEYFroV2sVsbuaJ59k/wBokXPzNIAARx0AAHPpUcuhXs+mXcLm3SabShZLtdiA43jOdoOPmB6etdHRTWjuNO39fP8AQz9TtLi4htTarC8lvMsu2ZiFbAIxkA45PXHFZVxo2rTQybTbr9pEplhWdkWMvjGHCbmGASR8uSfy6WilZa+YlpbyOfk0fUo5TJavCQzxlk80xlgsWw/PsJXn05I7jpUQ8OXY0m7thJCJZtMNojbmIV8uc5Izj5hz14rpaKfW4LTYyI7G9hv5VWK0ktppxO0sjHzFIUDAXbgn5eG3DHpxznQeG7wWpt52i/c2zQQSmdn35Kn5k2gKDtGRlq6iigDN061vF1C7vL6K3ha4SNQkEhfG3d1YqufvDtVKLSdRWa2jItFitJJWjn3MzvvVwCV2gA5YZ5Ofat+ih6gcxHoOpPDO1w0PnNFAq5uGcM0b7+fkAUHphV4qzdaXqV1qYkZofI+0QzDEzDYF27l2hfmOQcFj3HAxW9RT63DpYKKKKQBRRRQAUUUUAFFFFABRRRQAUUUUAFFFFABRRRQAUUUUAFFFFABRRRQAUUUUAFFFFABRRRQAUUUUAFFFFABRRRQAUUUUAFFFFABRRRQAUUUUAFFFFABRRRQAUUUUAFFFFABRRRQAUUUUAFFFFABRRRQAUUUUAFFFFABRRRQAUUUUAFFFFABUdt/x6xf7g/lUlR23/HrF/uD+VADYS+xsKpG9+rf7R9qkzJ/dX/vr/wCtTbf/AFZ/33/9CNSUANzJ/dX/AL6/+tRmT+6v/fX/ANanUUANzJ/dX/vr/wCtRmT+6v8A31/9anUUANzJ/dX/AL6/+tRmT+6v/fX/ANanUUANzJ/dX/vr/wCtRmT+6v8A31/9anUUANzJ/dX/AL6/+tRmT+6v/fX/ANanUUANzJ/dX/vr/wCtRmT+6v8A31/9anUUANzJ/dX/AL6/+tRmT+6v/fX/ANanUUANzJ/dX/vr/wCtRmT+6v8A31/9anUUANzJ/dX/AL6/+tRmT+6v/fX/ANanUUANzJ/dX/vr/wCtRmT+6v8A31/9anUUANzJ/dX/AL6/+tRmT+6v/fX/ANanUUANzJ/dX/vr/wCtRmT+6v8A31/9anUUANzJ/dX/AL6/+tRmT+6v/fX/ANanUUANzJ/dX/vr/wCtRmT+6v8A31/9anUUANzJ/dX/AL6/+tRmT+6v/fX/ANanUUANzJ/dX/vr/wCtRmT+6v8A31/9anUUANzJ/dX/AL6/+tRmT+6v/fX/ANanUUANzJ/dX/vr/wCtRmT+6v8A31/9anUUANzJ/dX/AL6/+tRmT+6v/fX/ANanUUANzJ/dX/vr/wCtRmT+6v8A31/9anUUANzJ/dX/AL6/+tRmT+6v/fX/ANanUUANzJ/dX/vr/wCtRmT+6v8A31/9anUUANzJ/dX/AL6/+tRmT+6v/fX/ANanUUANzJ/dX/vr/wCtRmT+6v8A31/9anUUANzJ/dX/AL6/+tRmT+6v/fX/ANanUUANzJ/dX/vr/wCtRmT+6v8A31/9anUUANzJ/dX/AL6/+tRmT+6v/fX/ANanUUANzJ/dX/vr/wCtRmT+6v8A31/9anUUANzJ/dX/AL6/+tRmT+6v/fX/ANanUUANzJ/dX/vr/wCtRmT+6v8A31/9anUUANzJ/dX/AL6/+tRmT+6v/fX/ANanUUANzJ/dX/vr/wCtRmT+6v8A31/9anUUANzJ/dX/AL6/+tRmT+6v/fX/ANanUUANzJ/dX/vr/wCtRmT+6v8A31/9anUUANzJ/dX/AL6/+tRmT+6v/fX/ANanUUANzJ/dX/vr/wCtRmT+6v8A31/9anUUANzJ/dX/AL6/+tRmT+6v/fX/ANanUUANzJ/dX/vr/wCtRmT+6v8A31/9anUUANzJ/dX/AL6/+tRmT+6v/fX/ANanUUANzJ/dX/vr/wCtRmT+6v8A31/9anUUANzJ/dX/AL6/+tRmT+6v/fX/ANanUUANzJ/dX/vr/wCtRmT+6v8A31/9anVk2aaheWcdx/aRj8wbtohU4oA1Myf3V/76/wDrUZk/ur/31/8AWrPH2y11C1Sa98+OYspUxKuMKTnI+laVADcyf3V/76/+tRmT+6v/AH1/9anUUANzJ/dX/vr/AOtRmT+6v/fX/wBanUUANzJ/dX/vr/61GZP7q/8AfX/1qdRQA3Mn91f++v8A61Ntv+PWL/cH8qkqO2/49Yv9wfyoALf/AFZ/33/9CNSVHb/6s/77/wDoRqSgCnq1zPaaVPPZokk6r+7SRgATnHcj8sjPTNZNj4gnmurS3naEs800U/7lomQrGHA2sxwcEd2BHINb80MVxC8NxGksTjDI6hlYehB61VOi6WbRLU6baG3R96wmBdit/eAxjPvWkZRSaaM5xk2nFnLQeINUne5v4Li0RU02O6aKUMyNh5M7QGG3IAy3Pbg1el17VZLk/ZRaRQ/bI7ULLCzOPMjVgxIcDgt0xz6jrW3Jouly7PN02zfy8bN0CnbjJGOOMZP5mpzaWxYsbeIsZBKSUGS4GA31AA59q0dSF72M/Zztv/Vv8/vOYGuX7+XKYrd7yO2vBgSNHG7xyqg4LYAPXnJHY1Idf1RrMLCkL3SXBjnBtWV4l2bv9SZMseR91zwc89K6E6fZkEG0gIIdSPKHIc5YdO55PrUP9iaV9jFp/Zln9mDbxD5C7N3rjGM+9Lnh2/q4ezn3/q39anPr4huJNQAszbl7uKzVJ38wxqZPNydhYf3cAfKSSAT6WI9b1S5nisoDZpcedPC87Qs0bGMKQyrvB5zgjdwc88VuPplhJE8UllbtHIixujRKQyr91SMcgZOB2zT4bG0t0iW3tYYlhBEQSMARg9QMdM+1Jzh0X9WCNOfV/wBf11ItHvW1LRrS8kQI80Suyr0BI5x7Vy+oXmr6p4atJmura3F3qEUO2OGQYTzdmCRICc4BOMcZHvXSHRLP7RHNH9pi8vbsjhu5Y4hjoPLVgmPbHPerX2O2EKRC2h8uNw6J5Y2qwOQQOxzzn1oU4xlzJdRyhOUXFvo1+G5kWGqXtzel3msIrMXMlsIH3LNlM8ht2CTjO3b905zRd6teHVrmG0msIILOOKSQ3Wf3ocnowICDA64bJ7VpnS7A3j3Zsrc3LrtaYxLvYYxgnGcYpH0nTpHt2ksLVmtgBAWhU+UB0C8cYx2pc0b3sHJO1k/6/r+tTEXW9Ve6u4FS2WUpM1nGYmZZNh4/eK5De4+UgnvitDQ9YbW/tFzCFFkCiwnaQzHaGbPPYsB06g1dh02xt7uS6t7O3iuJc+ZKkSh3z1yQMmpYLeG1hEVrDHDGCSEjUKMk5JwPUnNDlFrRFKM1K9ySiiisjUKKKKACiiigAooooAKKKKACiiigAooooAKKKKACiiigAooooAKKKKACiiigAooooAKKKKACiiigAooooAKKKKACiiigAooooAKKKKAOQ0qeYXWkXv2u4luNRnmju4nnZkQKrnCoTtTayquVA685zSeKrm6kvLhbCWci10/7QTFdGEQEscSYBAl4U/KePl/2q6aLS9PgvZryGxto7qcYmnSFQ8g9GbGT+NRzaJpVwkCT6ZZyrbACBXgUiIDGAuRx0HT0o7DOY8S67J9ptEhubm2gt7i0d3jjdftBeVMrkD7oQnI7lgOxFTa1rMh8SWcSz3NtBa3kcZREdRcMwJOSBgqAQAO5J9BXWSwxToEnjSRQwYB1BAIOQee4IBH0okijl2+bGr7GDruUHaw6Ee9Hb1v+QulvI46K4vofEFu+65mkm1KWGSUXga3eLDkIsQY4ZQFz8qkFWyTnmxpKzWevxveSNdfbp7gRTRarNMgwzMFMJwigKNuRnBGO9dHHptjFqEl9FZW6Xki7XuFiUSOPQtjJpIdLsLe+lvbextorqb/WzpEqvJ9WAyfxoWgS1ZaooooAKKKKACiiigArE1sG61jTdOlmngtbgSu7QTtCzuoXau5SGHBY8H+Gtuq97p9nqdsbfUbSC7hJBMc8Ydcjvg8UDMey1N18Ey3lzdMHihnK3G3cxRCwWTH8RwAffNZ+jvPDLfWuqXdxYK9nDIPMvvOKElg0gkcnaScDb04yOprqhZ2wZGFvEGjjMSHYMqhxlR6DgcewqG20jTbKCWGz0+1t4pv9akUCqsnGOQBzxxzR1Yulv66HLS3N1ZabrFkJrqGZJ7dYImu2lbEhUACZjuXecjJ5XOR2pIJrl3TSbm4uYI31UwTKLt3eJPIMioJ87vmIBzkEbtvpXUwaNplrYPY22nWkNpJnfbxwKsbZ65UDBpRo+mDTm08adaiyb71t5C+We/K4xRt/XoHQwY5UfQnW9vr14Le+lghEE7Ca6CsQke8EMSDxnPO3k4zW9pEV1BpFtHqD77hU+cltxHoCe5AwM98Zptxoek3dlDZ3el2c9tB/qoJbdGSPjHyqRgcelWbW0t7G1S2sreK2gjGEihQIq/QDgUdA6ktFFFABRRRQAUUUUAFFFFABWZpF3bppNur3ESsEwQXAIrTqudPsmJJs4CTySYl5/SgCtPPFNqdgIpUfDvnawOPkNaNQxWdtC++G3ijbpuRADU1ABRRRQAUUUUAFFFFABUdt/wAesX+4P5VJUdt/x6xf7g/lQAW/+rP++/8A6EakqO3/ANWf99//AEI1JQBDdmQWsnksEkxhWYgAH8agjuXis52lBaWE4YMwIzgHqAOORzirjosiFHUMrDBUjIIpqQRRxeVHEiR8/IqgDnrxQBQa9ninljcxs4YBQqseNuTwB/P/AOtTo9SaXaqQjzGTzNpbHybcg5+pxVn7DabNn2WHbnO3yxjNKlrGkzyddyhApAwqjsMDpzQBFFeFrWaSXapizuBDLjjPORn8s/0qGPUJZJjCEUOuTucFQQAp6HkH5v0z7VdS3hjiaOOGNI2+8qqAD+FQS6bbyRCONFhUNuwkacn1wQeaAIYdSkmiSby0CZjVhu5y4B49huH15p013NFdz7djRxKjFSeeSQcflVmOzt4/LIhQtEoVHKgsABjrTntoJJRK8MbSL0cqCR+NMCG1uzcyMuzaY1xJz0bJGP0/UVz19qV7YW9xNLdzb2WYwvHskhkxkqFA+YMFHcYODyTiumggWAPglmkYuzNjJP4ewA/CoRpOnLNLKLC2EkwIkfyVy4PXJxzmqhJJ6kTi5LQz7rU57jwneX1q4t5fLfyiAGaIjj5geNwPUdjxz1rPuvEN4sto0RUC2ST7amBh5BHIQmewzGT9CvrXTG1gKSoYIysxzICgw5xjJ9eAPypPslsWZjbxZZ97HYOW27cn328Z9OKpSiuhLjJvcyLvVbx9YgtLHyl+cBi/IYGJm5xz1A9KZH4kkle1ZYU2SiMSKA52M67sb8BeOOOpBzxWtbaZYWYUWllbwBTlfKiVcHGMjA9CfzpBpWniZJhY23moAFfyVyoHTBxxijmh2BRnbVmTBr186RSyW9uI3jt5iFZs7Zm2gdOoxnPfpx1oTX74wrO9vbiIwR3BAds7Gbbt6de+fwx3rbFpbBQot4goVVACDgKcqPoD09KPsdts2fZ4tuwJt2DG0dB9PajmhfYOWdtzETxHNJL5aRRt52zyHw6r8z7QSWALDocjGenvVqz1KWPTdQutQZW+yzSA+X0wo6D/AD7VbXSNNRZVTT7VVmGJAIV+cZzzxzzUqWNpFb+RFawpDnPlrGAufXHTsKG4WskNKd7tnP6drl+dOdJkklu45V3mW3dGVGUtkR7QzAEMowOQufWnx6jcX+pWYim2wyXClwjsQw+zh8A8HGexHPf0rduLG0u8/arWGfIAPmRhunTr9T+dKlnbRFTHbxIUOVKoBt+Xbx+HH04o546uxKhPRNk1FFFZGwUUUUAFFFFABRRRQAUUUUAFFFFABRRRQAUUUUAFFFFABRRRQAUUUUAFFFFABRRRQAUUUUAFFFFABRRRQAUUUUAFFFFABRRRQAUUUUAFFFFABRRRQAUUUUAFFFFABRRRQAUUUUAFFFFABRRRQAUUUUAFFFFABRRRQAUUUUAFFFFABRRRQAUUUUAFFFFABUdt/wAesX+4P5VJUdt/x6xf7g/lQAW/+rP++/8A6EakqO3/ANWf99//AEI1JQBDd3cNjaSXNyxWKMbmIUscfQAk/hUdlqNvf7/s5kDRkb0lheJhnodrgHB9cY4NRa5azXuiXNvbZ82RcLggEHI554/Osa60q/U3STQtqqyyxZlnWJmaIBvl2ZVMqxzyMENnkjFAHUVHPPHbwtLM21Fxk4z3xXLQeHZZoIYr6xWSKK1uUSObY2xmlBj4HAIXpjgdOKW50q7mJ+06Ybu6dYDHdl4/3AULvTJO4chj8oIO7nvR/X5/5Cvr/Xl/n+B1lFc0ul3H9rBxp+24W5kkk1Hcn72Ihtsec7jwVGCMDbnsKqR+FtungHTYfPGmxgHCZFyufmz/AHhx8360Ib0Omv8AUrbTVia6Mn76Ty41iheRmbaWwFUE9FJ/CpredLmBZYxIqt0EkbRt+KsAR+IrP1mwmvrnSzDvCQXZkldGClF8mRc/mwHHrWdrOkzzzzBLJrySS3WO0u2ZCbSQbvn+YgjkqcqCTjHYUxvodLRXM3ehzPHqUwtVkmmvFfohaeEKmU5OMZBO0kA4561Wm0SY6TCq6ZLKVkkeK1kSBo4iQMAx7goGQSCrZGT6ml0JOsSaOSSREdWaMgOAfukjPP4EVDBqVpcLctDOrC0kaOft5bAAkHPsQaoaTpxs9Xv7iSxjie68tzPGFwxCAFc/ePIJ5GOeuaoy6Pem5kjjiAt7+Z1vDvHEYcsDjvuUlD3+YelLW9h9Lm/ZXtvqNjBeWcnm286CSN8EblIyDg80+eeO3jDzNtUuqA4J5YhQPzIrlH0S6Gm28Nxpf2uQWKwwfPH/AKJKN2XyTx1X5lyfl+lT3Gk3D6gTJpv2i4N1BKuobkG2NWQsvJ3DG1jtAwc56mq0bB6HSzSpBBJNKdscalmOM4AGTSo6yRq6HKsAQfUVyQ0O8N1dlrRxOy3GbpREBOHDBVLbt56rwQANvXAGdjUrS8Oi27WEatfWux4kZgBnG1hnp91mqdfy/UP+Caksqwx73DkZAwiFjycdBz3/AAqI39sDGPOU+ZKYVxk5cZyvHT7p/Kuci0C8gt5rdY98Vu8MdoS4JaPzVkc9eOwwf7nvUkfh5Ri3OmQiH+03nl+VNksbB8EjPONwGCP0ph0/rsdFdXUNlZzXVy+yGCNpJGwTtUDJOByeBUNlqdtfs6W5lV0ALJNA8TYPQ4cAkcHkcVknSrseCdT02OALLIt3HbxKygBWZ/LA7AbSuB29qiudK1CP7WsivqqypEqvcCM4QN88ewbFJ/iBPXODnABbG1ZfedNRXJrol6ukwxQWxhbz5YjGzIpS3lPzY2fKMcNgelaugafcWSzm8QKwKwQ/NnMMYwhPucsfxpf1/X9fkI05J44pYo5Gw0zFUGDyQCf5A0ss0cEe+Z1RcgZY45JwP1IrmrfS7mPUIJE0oJcxSyvNes6AXGUcKcg7jyR1Ax2qknh2eayull0hFWRIHa3McKrJIkm5sKGIyRxlmyfWgDtaK5htNupPEcN0umiERTqVnRYhiLZjaW3F+pI2gAfXv09HQOoUUUUAFFFFABRRRQAUUUUAFFFFABRRRQAUUUUAFFFFABRRRQAUUUUAFFFFABRRRQAUUUUAFFFFABRRRQAUUUUAFFFFABRRRQAUUUUAFFFFABRRRQAUUUUAFFFFABRRRQAUUUUAFFFFABRRRQAUUUUAFFFFABRRRQAUUUUAFFFFABRRRQAVHbf8esX+4P5VJUdt/wAesX+4P5UAFv8A6s/77/8AoRqSoYWIRsIx+d+Rj+8ak3n/AJ5t+Y/xoAdRTd5/55t+Y/xo3n/nm35j/GgB1FN3n/nm35j/ABo3n/nm35j/ABoAdRTd5/55t+Y/xo3n/nm35j/GgB1FN3n/AJ5t+Y/xo3n/AJ5t+Y/xoAdRTd5/55t+Y/xo3n/nm35j/GgB1FN3n/nm35j/ABo3n/nm35j/ABoAdRTd5/55t+Y/xo3n/nm35j/GgB1FN3n/AJ5t+Y/xo3n/AJ5t+Y/xoAdRTd5/55t+Y/xo3n/nm35j/GgB1FN3n/nm35j/ABo3n/nm35j/ABoAdRTd5/55t+Y/xo3n/nm35j/GgB1FN3n/AJ5t+Y/xo3n/AJ5t+Y/xoAdRTd5/55t+Y/xo3n/nm35j/GgB1FN3n/nm35j/ABo3n/nm35j/ABoAdRTd5/55t+Y/xo3n/nm35j/GgB1FN3n/AJ5t+Y/xo3n/AJ5t+Y/xoAdRTd5/55t+Y/xo3n/nm35j/GgB1FN3n/nm35j/ABo3n/nm35j/ABoAdRTd5/55t+Y/xo3n/nm35j/GgB1FN3n/AJ5t+Y/xo3n/AJ5t+Y/xoAdRTd5/55t+Y/xo3n/nm35j/GgB1FN3n/nm35j/ABo3n/nm35j/ABoAdRTd5/55t+Y/xo3n/nm35j/GgB1FN3n/AJ5t+Y/xo3n/AJ5t+Y/xoAdRTd5/55t+Y/xo3n/nm35j/GgB1FN3n/nm35j/ABo3n/nm35j/ABoAdRTd5/55t+Y/xo3n/nm35j/GgB1FN3n/AJ5t+Y/xo3n/AJ5t+Y/xoAdRTd5/55t+Y/xo3n/nm35j/GgB1FN3n/nm35j/ABo3n/nm35j/ABoAdRTd5/55t+Y/xo3n/nm35j/GgB1FN3n/AJ5t+Y/xo3n/AJ5t+Y/xoAdRTd5/55t+Y/xo3n/nm35j/GgB1FN3n/nm35j/ABo3n/nm35j/ABoAdRTd5/55t+Y/xo3n/nm35j/GgB1FN3n/AJ5t+Y/xo3n/AJ5t+Y/xoAdRTd5/55t+Y/xo3n/nm35j/GgB1FN3n/nm35j/ABo3n/nm35j/ABoAdRTd5/55t+Y/xo3n/nm35j/GgB1FN3n/AJ5t+Y/xo3n/AJ5t+Y/xoAdRTd5/55t+Y/xo3n/nm35j/GgB1FN3n/nm35j/ABo3n/nm35j/ABoAdRTd5/55t+Y/xo3n/nm35j/GgB1FN3n/AJ5t+Y/xo3n/AJ5t+Y/xoAdRTd5/55t+Y/xo3n/nm35j/GgB1FN3n/nm35j/ABo3n/nm35j/ABoAdUdt/wAesX+4P5U7ef8Anm35j/Gm23/HrF/uD+VABb/6s/77/wDoRqSo7f8A1Z/33/8AQjUlABRVXUrt7DTZ7qK3e5eJdwijBy35An8gfpWdY+IvtktnGYYd1zJLGWhuN6psXd3UHPsQCKpRbV0S5xTszbork4vE+oTTT3NvZJLbR2Mdy8LThPLG6QNg7SWJCjAOBx1He1L4nuPtBW00+OWH7SlsJHuShLOiup27Dx8wB5yPQ9Kv2M72M/bQOiorml8RzyeXMLOYyrb3TPaQyBwzxSKmB8uTk9Dxx2PZx8VS/wBmrcpZwyN55icpcM0cI27suwj3L6YKDkjtzS9lMftof1950dFc1/wkkn9oFIIfPknitvJj+0L5W6TzCTuCngBCSfmzxgDvKviK6lkjtrfT4mvTJNFJG9yVRGjAP39hJBDDB2/hQ6UkCrQZ0FFVdNvV1LS7a9RDGJ4w+wnJXI6Vzmo65q95oEFzY20Np9qvY7dG+1HftMmwn/VkLkj3wDnrxRGnKUuXzsEqsYx5n2udbRWTY6reXt2RFYKbFZXgNx9o+fcmQSU2j5dwIyDn2xTNdv72zvtJj09Vka5uWjeN2Cq4ETsMtgkAEA5AzxS5Hew3Uio8xs0VzVz4teCwWb7HD56+cJoGuTlTG21tm1CW574A9SOlC+I5o/tjgRS5u1jt45pPLwphR8fKrMxyTwATz6VXspi9tD+vvOlormm8WTvZrcWmmrIosvtkokuNhVQSGUfKcnjjOM+1XINbuLy+lWysBLZwTCGaYz7XUlQxIQjBADDPzA9cA0nTktw9rD+r+ps0VysHjdZIJrh7B/IEDTRFGYlsEYVsqApORjBYdav6Tf6jceINQtdRjjgENvA6RRSeYoLGTJ3bVJztHBHGOPWm6U0m2JVoNpLqbdFY1prd3eb7iHTN9iDKqSpODITGSOYyBgEqQMEnpkCq9p4oae1E01pGgWeKKVUnLNCH4BdWRWUg4BBGMcgnFL2civaw/ryOhoqnpd+dSsRdeUYkd2EYLZ3IGIDe2QM/Q1cqGmnZlppq6CiiikMKKKKACiiigAooooAKKKKACiiigAooooAKKKKACiiigAooooAKKKKACiiigAooooAKKKKACiiigAooooAKK5fTtS1BrjS7ye8eaHVZpIzamNAtuArsu0gBsjZg7ieT2pvijVdQtLyWPTp51MFmZ9tvCkgDbiAZdwJCcH7vzcN6CjsOx1VFcn4g8TPBdWsGn31vD5U9s105KncskirsAPqpLE9QMetJcazfHX7lhNeQWVneRWzGOGJ4G3BD8+T5mSXxlOF4JzzTSv8A16f5i6XOtorAKXw8WxQwaxdywqrT3NtJHB5aIchEBEYfJOSMseEOc1DplzqUOveXrM2ooLmaZbeJ1tvs5AYlQCg8zOwZ+Y9j9KS1B6HS0UUUAFFFFABRRRQAUUVj6vNdS6pY6ZaXctl9pWWR7iJEZgE2/KN4ZcktnkHgGgDYorFs9Vmk8Jy39xJCs8CTBpXGEJjZl3nHQHbnj1rM0vX57OO+l1qe68mC1inVb2JI5SzZBChAAVJ2gZ5ySD2o7hurnW0Vy2h6jqOp2esRzapbrcQ3ShZIwjLbxmONyB2OMuAzZ5HPHFTW011ceH7m5udYu7a2ilaSG+WOESywBerBoyuCd2CFBICnvyPTcZ0dFcpLdava6HpUdxeXb3d1MxlMUMRuAmGYKBt2ZX5Qxx645IrZ8P3kt/oNtcXLh5mBEh27SCGIIYdmGMEdM5pk3NKiiikMKKKKACiiigAooooAKy7afVbu2SeL7GqSDIDK2R+talUtG/5A1t/uUARpcX8V9bxXf2ZkmLDMQYEEAnv9K0apXn/IT0//AH3/APQDV2gAooooAKKKKACiiigAqO2/49Yv9wfyqSo7b/j1i/3B/KgAt/8AVn/ff/0I1JUdv/qz/vv/AOhGpKAIrq2ivLZ4LhS0bjBAYqfwI5B9xVA+G9MaFYzDLlZTN5n2mTzC5G0kvu3HI4wTjHFX7lpUtnaBd0gHyjHU1DFdkWkkk+S8RwyBcEHA46kdx371SlJbMlxjLdFJvCujsioLZ0RYhDtSeRQ0YJOwgNyMseD1q4dJsi7OYOWnW4OGP+sUAA9ewA46UxtReOSVZo1QqwVQZAM/Lnr3/L/GnpqUcigpHIxPIUDnG3dn9QPrRzyfUXJBdCM6FpxUg2/BWVf9Y3SRgz9+7AH27Ypn/CPaeIdgW4BMnmGUXcvmlsbeZN27pxjOKtw3izW0k2FATOcOD2z17fjioYtTEzmOKLfIMnCuCMAA5B/4EB9fzo5pLqPki+hEfDulmMoLXYCkaApIysojJKYIOQRuPI55qa20extDCYISGgLlGaRmbL/eJJOWJ9TmiLUllRZFibyzsDMSPlLAEDH/AAIfnSy3rw3MqtEWijVGLA9M5/PpQ5Se7FyRWyII9Ha2eFbPU7y2tYQoW0QRMmB2yyF+f97PpipxpNkLOG1EH7mCUTRrvb5XDbgc5z15qS3u1uH2orAhdzZ/hOSMfXINYd3rd/Yx3Ul00ULxrKyQywMFKrkqVkzhuBkjr9MVScpPRkyUIJ3NGTQLJrp7qHzbe4Zi6yRyEhHIwXCNlN2O+2mtoEVyiDU727v2ik8yGSR1iaJtpXKmJU7E9c0XerSN4audSsFUERM9uZeQ3oSB2Pp1x6GqNz4mkjksTFCpjaN5LwHrGVRyEHvujYf8B96pe0Jap32/r9S63hnSnt44fIkVI0aPCTyKXVjlgxDZfJ5O7PNSP4f01+kMkbBxIHindGB2BPvAg/dAGO9Q3eszR6lBaWdt5rM+HDMFyDGzjB7fd96aviW3ea2UR4FwqEAyrvXcMjKA5x2z+WaX7zuNey7fgWo9C06K3aGO2xG1ubYrvb/Vkk7evueetIdB05r1bowN5isr7RK4QsowrFM7SQMYJGeB6VVh8RGURs1jIkbrDJuMinCSnahx656jsPXpQniMsiyGxkWJo0m3GReI2O3OPXPOPTvninapcP3bW34FhPD2mIJV+zs0cqNG0TzOyKrdQqk4UH2Apbfw/p9s0jRJNvk8vfI1zKzN5ZJXLFs8En6jg8VWTxLDJM8UcPmSZAjWOZX3EttwSDhSDyevHvxVmy1N3sry5vkEAtZZFYZzhVGc570n7RK7Y7U29gXw/pq3T3AtyXbedplcopcYYhM7VJyckDPJ9TRH4f02O1ubcwvIl0gjmMs7yMyjOF3MSQBk4weM1m6d4pFxpDXE32eWVJgjmGQeXGGXeCzZOAAdpP8AeFTf2vc3Oo2sNsdsUtwA5ypIXyRJgEZB69fy9abjUTs2SpUmk0v62NqCCO2t44IECRRIERR/CAMAVJRRWO5skkrIKKKKBhRRRQAUUUUAFFFFABRRRQAUUUUAFFFFABRRRQAUUUUAFFFFABRRRQAUUUUAFFFFABRRRQAUUUUAFFFFAGdb6Bp1rfPdwQusrbiAZnKIW+8UQnahPcqBmmXHhzTLpY1mjmISIQkrdSqZEHRXIbLjrw2ep9TWpRQBUutKsb2NY7m1jdUdHXjGChBXp6EDjpUU+hafcaiL2aFzMGViBM4jdl+6zRg7WIwMEgkYHpWhRQBDDaQW8880SYkuGDSsSSWIAA69BgdBxVW20LT7S/a8gicSksQGmdkQt94ohO1Ce+0DNaFFABRRRQAUUUUAFFFFABVTUdLtdUiRLtZMxtuR4ZnidDjHDoQw444PNW6KAKQ0ixECQCAeQkDQCHcdhRsZBXOD06nnr6mm2WiWFg0jQxSO0qhWa4meY7R0UFySAPQcVfooAzZ/D2l3Fpe2z2xWK+cPcCKV4y5AAHKkEcKOBgfmadFodlFYtaH7TNA0iyFbi7lmOQQRy7E4yBxnHtWhRQBUv9MttSWMXSyZibdG8UrxOhxg4ZCCOPfmpbOzgsLRLa0jEcSZwuSepySSeSSSSSeSamooAKKKKACiiigAooooAKKKKACs/wDsPT+0BHsJGA/nWhRQBUg0qztphLDEQ69CXY4/M1boooAKKKKACiiigAooooAKjtv+PWL/AHB/KpKjtv8Aj1i/3B/KgAt/9Wf99/8A0I1JUdv/AKs/77/+hGpKAGyRrNG0cgyrDnnH61GtrCsDxBSUfO7cxYtn1J5p088VtA81zKkMUYy8kjBVUepJ6Uy0vrS/iMthdQ3MYO0vDIHAPpkUAM/s225OJNxOS3nPuPGOuc9KIrFI52fjHlCJFAI2qO2c8/WrVNeRIkLyMqKOrMcAUARrZwrDJFtZll+/ucsTxjqTnpVebTUK/uG2OWyXdnYnjHXcDjgcZxxV6igCrFp0ESxDDExqo+8QCVGASOhP/wBb0p8llBLP5rq284Bw5AbHIyM4NF3f2mnxLJf3UNrGzbVeaQICcZxk9+D+VPt7iG7gWa1mjmif7skbBlb6EUAMtbb7P5rEhnlcuxVcD8sn/OaqN4f052ffFI6sG+Rp3KLu67Vzhc89MdT61pUU02thOKe5VOm2htZ7fysQ3DM0iBiASeuOeM9eMc5Peozo2ns0rG2UmaQyvyfmYoUJ6/3SeOnJPWroIJIBBI6+1NjnilDmKVHEbFX2sDtI6g+ho5n3DlXYp22i2NpKkkMchkQ7g8k7yNnaV6sTngkU1NA06ORGSKRdhUqonfblRtBK5wTgAZPpV6GeK5gSa3kSWKRQySRsGVgehBHUUryJEoaR1QEhQWOOScAfiTinzSvuJQilZIqrpVksaosOFVIowN7cLGcoOvY/n3o/smy8kReT8giWHG9vuA5A6+tW3dY42eRgqKMszHAA9aFYMoZSCCMgg9aXM+4+VdjOXw/pyIVEUmNoVc3Eh2AHIC/N8uCOMYxUyaVZpZSWgiYwytvkVpGYuScnJJyc4qzLNHBHvnkWNMgbnOBknAH4kgUNNEhUNIil22Llh8zeg9+Dx7U+aXcXLHsQXGm21zMZZFkWRgql45XjOBnHKkf3j+dNg0mytmjaCDYYiCnzE4ITZ6/3Rj/69WZZY4IXmnkWOKNSzu7YVQOSST0FRWeo2WoKzWF5BdKhwxglVwp9Dg0uZ7D5VvYsUU1pY1kWNnUO+Sqk8tjrgU6kMKKKKACimtIiMiu6qznCgnBY4zgevANVrnVtOsrhbe81C1t5mAKxyzKrEE4BAJzyQRQBboopAQc4IODg4oAWiiigAooooAKKKKACiiigAooooAKKKKACiiigAooooAKKKKACiiigAooooAKKKKACiiigAooooAKKKKACiiigAooooAKKKKACiiigAooooAKKKKACiiigAooooAKKKKACiiigAooooAKKKKACiiigAooooAKKKKACiiigAooooAKjtv8Aj1i/3B/KpKjtv+PWL/cH8qAC3/1Z/wB9/wD0I1JUdv8A6s/77/8AoRqSgDO8QRTT6Bdx2ylpWTCAKW5yOw61jXC38M16b5JppZZIYzNZRyxJ5QDEMNm58hiQQG/u9Aa6qigDkoLbULuCGO5k1BUS1uSpV5YiWEoEeedxO3oGJyOuaL37VcKwvI9RN06wGBYVk8rbhS+4D5M7t+d3OMY7V1tFH9fn/mK2v9eX+RzSm7/tYbft/wBr+0yebnzPI8jDbcZ/d5xs+782eveqkdhf/wBniQy6p5402Ofm4l/4+BnIxnr0ynT2rsKKFp/X9evqN6/1/Xp6GRrlvcT3mj/ZtymO9LNIqbgg8iUZPtkgfiKo6yLxJ5lD3z3It1+wtbiQRmX5s79ny9dud/GOneulopjbuczdw34j1KcNeE/bFTCvLxBtQnYq89d3Kjd1warTfa10mF/N1CRBJI0cSpcqzDA2qzj94Od2CwIOenSuvopdP6/r+mSYmj2xh1rUpZY7lJLgxyASO7Jjy1BAP3MggjA5/DFZzWV3FcXdvb28qxatcSJM6qQIsMcuT23R5APqq11lFHUfQ4yOC4tdFtLd4tRhMenotnHaLIu2YbshwvH9z7/y9ferN2lxLfFblL9rsXduyCISGDyg8ZJ4+Tghic/N+GK6qimnrcHqceU1GWe9SQ3ZnKXAkjKTNG6EMEC5/dj+HG3n171saiby10O2uLKKaSe2CMbePOZBt2lSO+N2f+A1sUVNv0/C/wDmBykUOrxW80Ekl5I1m8MKS5bM+6VWZvcBMLn/AHveki0o/JbbL4f8TaSSRvMl4RhIQyuTwMEcqep9a6yimHS39bWObmhvJPAerW0kdxJP5d5FCrhnkdQzrH15bK7cHkn3qDzrljfXEcd7cq1vFGXNtLbOnznIX5dzABi2VGRjAPIx1dFO9xt30/r+tDkLUX8bCUQ3lwIPtPk71kViDGhUZky3LbgCfy4xRaR3ssnko2oC1eeEklrhWAKybxvkO/HC88AcYwa6+ipt+n4f5i6ff+JypWeNI4tROqm0je4SM25mMhIk/d7mT5iNucE8Hv2pZxqDa4oZ72NvMhMBCysvl4XeHCfusk7wd3I7dq6mimtAOYs0lk1myaVNQNylxKbkyiTyVGxwu3d8gHIxs/HmrFzcLZ+KL17i0upop7GCNPKtXlVyHmypIBA+8OpHWt+ijpYa0v5nHTR6hbR2NsI7yOe3ggCmJpnRju+ZSEwnAGCXJ+nrM8D2MeoxpDqBM9/udlknwqFchlK5JGRghMds4Arq6KOt/wCt7iM3QDcf2NGLsymRXkUGZWDFQ7BchiW+7jqSa0qKKACiiigAooooAKKKKACiiigAooooAKKKKACiiigAooooAKKKKACiiigAooooAKKKKACiiigAooooAKKKKACiiigAooooAKKKKACiiigAooooAKKKKACiiigAooooAKKKKACiiigAooooAKKKKACiiigAooooAKKKKACiiigAqO2/49Yv9wfyqSo7b/j1i/3B/KgBsLEI2EY/O/Ix/eNSbz/zzb8x/jTbf/Vn/ff/ANCNSUAN3n/nm35j/Gjef+ebfmP8adRQA3ef+ebfmP8AGjef+ebfmP8AGnUUAN3n/nm35j/Gjef+ebfmP8adRQA3ef8Anm35j/Gjef8Anm35j/GnUUAN3n/nm35j/Gjef+ebfmP8adRQA3ef+ebfmP8AGjef+ebfmP8AGnUUAN3n/nm35j/Gjef+ebfmP8adRQA3ef8Anm35j/Gjef8Anm35j/GnUUAN3n/nm35j/Gjef+ebfmP8adRQA3ef+ebfmP8AGjef+ebfmP8AGnUUAN3n/nm35j/Gjef+ebfmP8adRQA3ef8Anm35j/Gjef8Anm35j/GnUUAN3n/nm35j/Gjef+ebfmP8adRQA3ef+ebfmP8AGjef+ebfmP8AGnUUAN3n/nm35j/Gjef+ebfmP8adRQA3ef8Anm35j/Gjef8Anm35j/GnUUAN3n/nm35j/Gjef+ebfmP8adRQA3ef+ebfmP8AGjef+ebfmP8AGnUUAN3n/nm35j/Gjef+ebfmP8adRQA3ef8Anm35j/Gjef8Anm35j/GnUUAN3n/nm35j/Gjef+ebfmP8adRQA3ef+ebfmP8AGjef+ebfmP8AGnUUAN3n/nm35j/Gjef+ebfmP8adRQA3ef8Anm35j/Gjef8Anm35j/GnUUAN3n/nm35j/Gjef+ebfmP8adRQA3ef+ebfmP8AGjef+ebfmP8AGnUUAN3n/nm35j/Gjef+ebfmP8adRQA3ef8Anm35j/Gjef8Anm35j/GnUUAN3n/nm35j/Gjef+ebfmP8adRQA3ef+ebfmP8AGjef+ebfmP8AGnUUAN3n/nm35j/Gjef+ebfmP8adRQA3ef8Anm35j/Gjef8Anm35j/GnUUAN3n/nm35j/Gjef+ebfmP8adRQA3ef+ebfmP8AGjef+ebfmP8AGnUUAN3n/nm35j/Gjef+ebfmP8adRQA3ef8Anm35j/Gjef8Anm35j/GnUUAN3n/nm35j/Gjef+ebfmP8adRQA3ef+ebfmP8AGjef+ebfmP8AGnUUAN3n/nm35j/Gjef+ebfmP8adRQA3ef8Anm35j/Gjef8Anm35j/GnUUAN3n/nm35j/Gjef+ebfmP8adRQA3ef+ebfmP8AGjef+ebfmP8AGnVnQX95cwrNDYoY3GVJnwcfTFAF/ef+ebfmP8aN5/55t+Y/xqml7cC7hhubRYhMSFZZd3IGemB6VeoAbvP/ADzb8x/jRvP/ADzb8x/jTqKAG7z/AM82/Mf40bz/AM82/Mf406igBu8/882/Mf40bz/zzb8x/jTqKAG7z/zzb8x/jTbb/j1i/wBwfyqSo7b/AI9Yv9wfyoALf/Vn/ff/ANCNSVHb/wCrP++//oRqSgCtqN/DpenTXtzu8qFdzbcZ/Xj8+Kq22uQ3D2iG3nie6Z1QPsI+UZzlWIII6EE1durf7VavD5skO8Y8yIgMv0zkfmKyI/CltBGnkXl1DOk7T+fH5asWZdrDbs2gEAdFHr15rSPJZ33M5891ykC+Lg1zK6WNxNaLapcZiRd8YLOGLZYDA2jgZPXg1Zm8UW8VyYorK7uFEywCWIJtLsgZRywPII5xgdyKjHhG2SHyoL++hRrdbaQK6HzIwWOCSp5O48jB+lXP7AtA5KtKoN1HdbQRgMihQBx0wo/xrR+yuZ2q2/rt/mU28UW4RLp1migFvcSywvCC6mJ1VhkNgEEngZB65HeSTxRbxWcE8lpcA3EvlRR7ovnO3dkPv2YwP73XjrUq+HbaNt0U9zG4WcB1cAr5rh2I47Ece3XNQp4XgjtJYY725VppfNlkCRfvDtC4KbNmMAfw5zzS/d/16har/XoD+IkhvpYniuHYxwGK2WECQtJv4yWxn5DnOAMdT2efEsJWNYrG8luJGkQ2yhN6MmNwJLBehB64P5UxfCdlEi+RNcwvHHDHFIrLmPyt21hkYz87AggjHarNpoNvaTQzCWaWaNpHaRyuZWkxuLYAHYAYwOKT9n0/rQI+16/1/X3FeDWri61bTvISEadfQNIhIbzSQoPPZeuMc/hVmbWkj1JrSKzu7jymRZpYUBWEt0zzuPGCdoOAeaSLQreCGySKadTZRPFE4YZwwAyeOvFNOhL9s+0JqF7EX8vz1jdQJynQsduQeMHaVzR+7v8A13/y/Eq1RLz/AK/r/gkKeKbWSG9mjtbp4bMOXdQhzsOGGA2QepwwGQOM1o2mow3tzcwwBmFsyq0nG0kqGwDnsCM/WqkHh+3i1R76Wee4kaN4gsuz5VYgkZChmHAxuJxU+kaTBounLZ2rSOisW3ysCxye5wOgwPoBSlyW0HH2l9S9RRRWRqFFFFABRRRQAUUUUAFFFFABRRRQAUUUUAFFFFABRRRQAUUUUAFFFFABRRRQAUUUUAFFFFABRRRQAUUUUAFFFFABRRRQAUUUUAFFFFABRRRQBzthrl/NdWE9z9mNjqcrx28ccbCSLarMpZixDZVDwFGMjrU/iK51eyhWbSrqyTcVijt7i0eRpZGOAAyyrgevBwATUlr4dgtb1Z1u7p4omdre2cp5duz53FcLuPU43EgZOMVaGmI09lNPPNcPZoQhkK/MxGC5wB82MjjA+Y8UdgKGsXOs2l1afYbqxK3EyRLbyWjs7Hq53iUAAKGP3T071Pd397b+ILC1VIBZ3JdSxJMhYIW46ADj3zntjm41hE+qJfuztLHEYo1JG1ASCxA9TgD8PrRcWMdzeWty7OHtWZkAIwSylTn8DQJ36GNbaxfP4ke2u5ora2M7xQwyabMrSgLkYnL7CTgnAXoPxqPTPEd1eeIPscjWxRpJ0MKRsGiEZwD5hbbJnjIUAjPsa0v7DVtUS7mvryaOOUzRWsjqY43II3A7d3QnALEDPA4FMtfDkFreQSi6upYrZ3kt7ZynlwswIJGFDHhmHzE4z9KF0uN+Rr0UUUAFFFFABRRRQAVlate3iX1np2mPBFc3KySebcRNIqImM/KGUkkso6jua1ao6lpY1EwyJdT2dxASY7i327lBGCMOrKQfcdhQMbpl9PqeiCdRHBcnfGcqXRZFYoTjIJXcucZHHesf+3NUsLTV7jUJbK7isikUUkFs8IaU9QQXfIG5eR/tDtW3Z6YlhFBFbTzLFDGyeWSCHJIJdiRktnPfHJ4pi6JaLoZ0s+Y0JU7nLfOzE7i+R/Fu+bPrQ+olsZC+Ib2HQtQuJpbWa4tWQbvsstvsDEfM0TndwCSMN82MDBpi+IdSm0WWW18mWaO+Ft9ojsZZF2YBLmBW3jGSME+h6EVo/wDCNQvbTrc3t3cXEzxubuQoJFMZymAqhflPONvOTnNOTQBHbzBNTvlup5hM94roJCwUKPl27MYGMFcd+vNH9fl/wQ6ED6rff8IjLqFlNaXd1EkjNI0EkCKU3ZBiJLAjGCpYc55HStq3kM1rFI2AXQMce4qnDo0EWjTad5kzpcCTzZXYb3Z87m6YzknoMD0xV6KMQwpGuSEUKM+1HV/IO3zHUUUUAFFFFABRRRQAUUUUAFUtG/5A1t/uVdqj/Y9kOkbqPQSuAPwzQAt5/wAhPT/99/8A0A1dqrDptrBMsscbb1ztLSM2PzNWqACiiigAooooAKKKKACo7b/j1i/3B/KpKjtv+PWL/cH8qAC3/wBWf99//QjUlR2/+rP++/8A6EakoAiuZTBbPIqbyoyFHemRXatatPLtUJncBnI+oIBz7YqaRPMjZNzJkfeU4IqFbNBBLG7u5lOXdsBicAZ4AHGB27UAMW/BaUGGUeWQCNvPTP0pw1C3Me8P8ufQ/wB3dn8uaifSklbdJPK77t25gh7Y6bcfpSwWHlXDPnCrCsUeGycDqx44PQfhQBYjnWSIyBXAHYqcnjPHr+FRC/iLFAsnmAkGPb8w4Bz+RH5+tEenxx200IZiJs7jgA8jHYAfpVdtMaAbrNz5hJyxZUwMAY4QjHA7Z96ALKahBJsKbirbfn2nALdAfc5H50j3yRXMkUisAgUlwMgbsjn8qjg01YookaV8KELoMbXZQAD0z2HftUstiss7SGWRQ4UOgI2sB+Ge/amBJFcxTMBGckpv6dBnHP5H8qxZPEUsYu2aCD/R1kYwGbbMoU4DFSPut6j1HWtaztjAZnfAeWQthWyFHpnA75P4mqN14divQyXl5dTxEOEjcoRHvBBwduTwSPmJ6/Sqhy394ifNb3Sa71ZYtDudRtI/PWFGaME7RLj0PofX8elVbjxLDDJYYiZo7qN5ZWzzAqozcjucqRj2PpVz+yIBpk9gryi3m3YUEfuwf4V44HoDnGfTAqBvDlk7TFjL++kaRhuGBuRlKjjgfvHP1Y/SqXJ1JfPcfd63HbXsNtHDLO7ttZY1yR8jOMev3fanjWrQm3IEvl3AUxymMhSWGQOe+Py74pltocdvdJcyXdzczI27fKU5+Qr0VQOhqvH4Vs4riKVZpsx7MAhDnYu0fNt3Y9gQM9qLUwTqW1JovEVnMU2pcBX8shmiIG2Q4RvoTx/PA5oXxFZvtIS4CsquHMRA2McBs+mePXv05p6aHbJCkQeXakUEQyR0ibcvbqSef6Uf2FbfZhDvl2i3W3zkZ2qcg9OtH7u4fvLCtrlqjyJIkySLjajRkNJlto2j68c49enNSWOpreW1xO8bQJBK6MH4I29SfSqEHhW0t8mK4uFYAbHAjBQhtwPC/Mc92znvVxdHi/s24s5J55FuWZpXYrubPUcADB6dO9DULaDTncr2fiBJrBZrm3khmaURLAvzMSV3r1x1Qg89DkUPrMjahb21vFkSzhCzoQUXyhIcg4Oefw/SnP4bsAsqWiCzjmCiSKCKMRtjPJUqQTz6dh6VJaaFbWbwNE8xMLBl3MDnEQj549B+f5Ufu9WiV7TRM0qKKKyNgooooAKKKKACiiigAooooAKKKKACiiigAooooAKKKKACiiigAooooAKKKKACiiigAooooAKKKKACiiigAooooAKKKKACiiigAooooAKKKKACiiigAooooAKKKKACiiigAooooAKKKKACiiigAooooAKKKKACiiigAooooAKKKKACiiigAooooAKKKKACo7b/AI9Yv9wfyqSo7b/j1i/3B/KgAt/9Wf8Aff8A9CNSVHb/AOrP++//AKEakoAKKjuLaC7gaC6hjnib70ciBlPfkGuStdMtoNE0wafFHZSTX2Glt4kDcGTHbBx2yDSbt+H5gdjRXJvf3ahC1zEZ4Y72NbqeNQRsdQrEheOOuBjjOOK0tHvze6RdEzvcmF2jMsnlsG+UHhkAVhzjOB3BGRQ3pcdtbG1RXJafq0yXOlRy3oCS28CrawCMHLJkloyobb7ocDHTg1e17U5LDUbf/TfJi2gmCMx+ZKdwHCuvzjthSG575FU1Z2+RCldX8rm/RXOprTSXaWT3SG5+3TxywjG5YgkjJkdhgKQe9ZdprE9voA+w6oLt49L82RNiH7K6hNowBkZy3D5Py+xoWpUtNztqK5xJtQh1GVX1OeaO3vIodjxxYkV1UncQgOQW4xjoM5qlHq0ttb6YWvFgjaNSbeARK8hL4+4y/MvThCCPfIqb6pBsdhRXH3erStHrEEt4t0y287rEoikijCnADLtDKeeQ24HnmrseqTnV0i+35uDdNE2m4T5YhnEnTeOAGyTjnGKfYHodHRXOaLf3sl3pwurt7hb6xknZWRFEbIYx8u1Qed5zknpxillvr5NQnmF2/lQ6jFai3CJsZHWPOTt3ZBcnginbb+utgeiuzoqK53SNUmudQgQ6h9plljdru0wn+hsMYHygMOfl+YnPUdKj1WbSJPEsFsZrSPUVeOR55pVEkag5VEyc5bGMDjBJPUArsHc6aiiigAooooAKKKKACiiigAooooAKKKKACiiigAooooAKKKKACiiigAooooAKKKKACiiigAooooAKKKKACiiigAooooAKKKKACiiigAooooAKKKKACiiigAooooAKKKKACiiigAooooAKKKKACiiigAooooAKKKKACiiigAooooAKKKKACiiigAooooAKKKKACiiigAooooAKjtv+PWL/AHB/KpKjtv8Aj1i/3B/KgAt/9Wf99/8A0I1JUMLgIwIb779FJ/iNSeYPRv8Avk0AOopvmD0b/vk0eYPRv++TQA6im+YPRv8Avk0eYPRv++TQA6im+YPRv++TR5g9G/75NADqKb5g9G/75NHmD0b/AL5NADqKb5g9G/75NHmD0b/vk0AOopvmD0b/AL5NHmD0b/vk0AOopvmD0b/vk0eYPRv++TQA6im+YPRv++TR5g9G/wC+TQA6im+YPRv++TR5g9G/75NADqKb5g9G/wC+TR5g9G/75NADqKb5g9G/75NHmD0b/vk0AOopvmD0b/vk0eYPRv8Avk0AOopvmD0b/vk0eYPRv++TQA6im+YPRv8Avk0eYPRv++TQA6im+YPRv++TR5g9G/75NADqKb5g9G/75NHmD0b/AL5NADqKb5g9G/75NHmD0b/vk0AOopvmD0b/AL5NHmD0b/vk0AOopvmD0b/vk0eYPRv++TQA6im+YPRv++TR5g9G/wC+TQA6im+YPRv++TR5g9G/75NADqKb5g9G/wC+TR5g9G/75NADqKb5g9G/75NHmD0b/vk0AOopvmD0b/vk0eYPRv8Avk0AOopvmD0b/vk0eYPRv++TQA6im+YPRv8Avk0eYPRv++TQA6im+YPRv++TR5g9G/75NADqKb5g9G/75NHmD0b/AL5NADqKb5g9G/75NHmD0b/vk0AOopvmD0b/AL5NHmD0b/vk0AOopvmD0b/vk0eYPRv++TQA6im+YPRv++TR5g9G/wC+TQA6im+YPRv++TR5g9G/75NADqKb5g9G/wC+TR5g9G/75NADqKb5g9G/75NHmD0b/vk0AOopvmD0b/vk0eYPRv8Avk0AOopvmD0b/vk0eYPRv++TQA6im+YPRv8Avk0eYPRv++TQA6im+YPRv++TR5g9G/75NADqKb5g9G/75NHmD0b/AL5NADqKb5g9G/75NHmD0b/vk0AOopvmD0b/AL5NHmD0b/vk0AOopvmD0b/vk0eYPRv++TQA6im+YPRv++TR5g9G/wC+TQA6im+YPRv++TR5g9G/75NADqKb5g9G/wC+TR5g9G/75NADqjtv+PWL/cH8qd5g9G/75NNtv+PWL/cH8qAC3/1Z/wB9/wD0I1JUdv8A6s/77/8AoRqSgAoqK6uobK1kuLp9kUYyzYJ/Qcn6VXg1iyuHhSORw8zMiJJC6NlRkghgCOOecU7Nq4nJJ2ZdorCPi3Tku3R2cQCBJ1nWJ2yGZgSQF+UDbyx45qzP4j0u2uTBLPIZA4jOy3kcbyoYLkKRkgjA6ntVezn2I9pDualFZP8AwkViRFOs8YtGglmZ3DqyiNgrfKV4wTgg4OexqRvEGnrAsjPON0hiWM2svmFgu7Hl7d3Tnp0o5Jdh+0h3NKislvENnHNL5syeSsULpsV2kfzCwUbAvOdvAGT1yBT38RaYkEUvnSMJS4REt5GclPvDYF3AjuCM0ckuwe0h3NOiqj6pZx6YuoNOPsrqrJIATuDY24A5JORx1qt/wkemfZ1mEspDOyeWLaQyBlGWBj27hgYPI7j1pcsn0HzxXU1KKonWtPVXJuB+7aNT8rdZMbMcc5yOn9KvUmmtxpp7BRRRSGFFFFABRRRQAUUUUAFFFFABRRRQAUUUUAFFFFABRRRQAUUUUAFFFFABRRRQAUUUUAFFFFABRRRQAUUUUAFFFFABRRRQAUUUUAFFFFABRRRQAUVh2XiGW5vLbzrNIrK9d47ScT7ncqCfmTaAoIViMMenOKk17VNT0qE3FlYWl1CABiW8aKRnJwEVREwOSQByOT+NAGxRWDqXiR9P1QWn2SNgBEX33G2R97bcRJtO/HfkVYvdXu7K/RWsFNm08cHnGfEjM+ACqbTlQTySwPDcccm4GtRWDH4kaTX10/7LHsad4ARPmZSqlt7R7eEOOG3d145osvEb3N7apcWscNvfSSR2jifdI7Jkncm0beFJ4J98ULUHob1FFFABRRRQAUUUUAFFFZuqalPaT21pp9tHc3lzuZElmMSBVA3MWCse4HAPJFAGlRVKx1BtR0gXdrCBKysBDK+0CRSVKlgDxuBGQD9Ko2Oq6vdTahby6bZJPaBAhjvneN3YZ2FjECpA2nhT94UB0ubdFc4fE13b6PqN5f2NpC1nOsC7b0tFIxKg5kMalQC2Cdp6GpB4jlGiJfGPT5GkuBCrW9+ZIF93l8sbfT7p5wO9H9feBv0VzNz4uaHRbG8W3tI5Lu5e3/0q98qEbQ5LiTYdynZ8p287h0resLhrvT4bh/IzKgb/AEeXzYzn+6+BuHvgU7AWKKKKQBRRRQAUUUUAFFFFABVCPVfNQPDZXTo33WCLg/rV+qWjf8ga2/3KAFj1EPcRwyW1xC0mdpkUAHAz2Jq5VK8/5Cen/wC+/wD6Aau0AFFFFABRRRQAUUUUAFR23/HrF/uD+VSVHbf8esX+4P5UAFv/AKs/77/+hGpKjt/9Wf8Aff8A9CNSUAVtRtPt+nTWuYx5i4/exCRfxU9RWND4au7eO3eDU1W4t53kTdAzxorJtKKpfIHGR8x5J4xxW9PMsELSPkhew6k9hTILtJrdpjhEXOWLArj1yOMVcZyirIiVOMndnPx+E7u3t3httVRVltFtJS9ruJUFyWHzDB+f3Hse10eHFRj5dxhftsV0qlM4CIq7c577evv0rRXULdi/z42EA5HUkZxjr0qT7VBs3+am3OM7uOmf5c0/azve5Psodv62Mb/hGcZxdKcpcrh4AynzpA/IJwQMYx39qhHhWb+zvs7Xdu58/wA1Ue2Zooht24QGTcnrkMOp4roEuIpI2dXG1fvE8Y78/hTPtlvs3eaMbtuO+cZ6denP0o9pNdR+yhvYxP8AhFpVlS4TUme6ijtxHLNHvy0W8Zb5ssGEhGMgj1qzZaA1teQ3ct0JZ1kmllKx7VdpABwMnaAFHHNaa3lu7KEmRt4BXB4OenPvSNewx3LQyPtYBTz05JA/lQ6knuJUoLZGT/wj039j2+ni+XbaiJoX8jkSxtuDH5uQcAbf1ovtCvdRs0W7v7aWdZGcO1n8seRgBMOGUj13EnJ9sbSzRuVCuCWBIAPUDrWWfECCC4ufsk5tofMzKpU5MZIIIzkdDjP6U1Ob2CUILcj/AOEcB1LT7qS8kl+yxKkokUE3LICEdj6gsx+prbqpdalBbafdXYJlS1Vi4j5OVHIHbNV5dfs4m08MXIv1Z0OPuKE3Fm9B2+ppPnn/AF8xrkht/XQ06KoXWs2dnNDHLJkysANoztyrMCR15CnGKf8A2tYb4lF1GTKqshByCG+7z057evao5X2K5l3LlFUI9c02V1SO8jZnIC4zzn7v4HoD0J4HNA1zTC+0XkZJI9e5xn6Z4z0zx1p8suwc0e5foqn/AGtYZlH2qMeUCXyccA4OPXnjjvxS2WpW9+tw0BOyCTy2ZhjnaGP0+9jnuDSs9x3V7Fuis2016yu9PF4S0KGTywsg+YnGRgDOcrhh3waSXW4lkhSBRMZ51ijZHypBTfuJAOOPz+nNPlle1hc0bXuadFFFSUFFFFABRRRQAUUUUAFFFFABRRRQAUUUUAFFFFABRRRQAUUUUAFFFFABRRRQAUUUUAFFFFABRRRQAUUUUAFFFFAGFZ+Hp7a7t/Mvkks7J3ks4RBteNmDD5n3YYAMwACr75q6+mzXNxYS3tysv2QF2RItqyS4wHxk4Ay2BzyRzxWhRQBgap4afUL64lW6ijiuhGJQ9tvlTZ08t9w2evQ4PIqSfSNTl8RpqK6jZm3jAWK3msmdoh/GVYSgbm/vFTgceuduihaBuc/D4Zki1VLg3cRgjunulH2fE5Zs/KZd3K/MRjaDgAZ45Wz8MCDXTqM8lrIUkeSIxWaxSlmBGZHB+fAYgYC9cnJ5rfoo2B6hRRRQAUUUUAFFFFABWbqmm3F3cW13p9zHbXltuVHmhMqFWxuUqGU9geCORWlRQBn6dpsum20FvFcq8SI5k3x/NJIzbi+c8DJbjHfrxS2OnPYaS1tFcBrl9zvcMmd0rZJcrnpk9M9ABmr9FG4LQz4tMez0RLHT7owSxqNs7IH3NnJZgeu45zyDycEHms5vDNxJC0k19C9894Lt2NsfIZhH5YBi35xtAP3s7gD7V0NFHW4dLGLbaNf2GlpBp+owxXHnPM7NaboW3EkqIwwKrzxhs+pPNX9KsBpmmx2okMpUszORjczMWJA7DJOB2q3RQAUUUUAFFFFABRRRQAUUUUAFUI9K8pAkN7dIi/dUOuB+lX6KAKcenBLiOaS5uJmjztEjAgZGOwFXKKKACiiigAooooAKKKKACo7b/j1i/wBwfyqSo7b/AI9Yv9wfyoALf/Vn/ff/ANCNSVHb/wCrP++//oRqSgCK6txdWzRMcZwQSM4IORx9RUK2TG3nSWUF523FkTaAcADAyfQd6t0UAUHsLh3ZzdKHZgzBUZVOFxjAbPv1pkOnMkyqeY4oAmWUYdsY3Yz6EjmtKigCpFZyx2s0RuDukztZQf3fGOMkn361XNlPbHzom82YvnhMgDaBzufJ6DnNadFAGba6dLHbxo8oCko8iFctuXHQ5x/CO3rU1xZPNNKyzKscyKjqUycAnoc8dferlFAFOzt2juLiV1Kh3xGpx8q9T09WJP5VmXfhya+lnae7hBkikjEkVrskYMCAHYN8wGemByAa36KqMnHYmUVLRmZ/Y2NDudLS4IhkVkhJTJiVh06/Ng59OMfWqz+GUeeVzcttZ2KLsH7tGVwVHP8AekY5+g7VuUU+eQckTFtNCuItQhvLu9jmkiK8RwFAQqOg6sf7+fwqBvDE5aBf7RJhhMTBGRuNjbuBv2jPqQT7+nQ0U/aSbuSqcErGRHoPl28cX2nOyC2iz5fXyXLZ69849vemt4f3WRt/tOM2htt3l+rZ3df0rZope0le4/ZxtY54eGrhrozy6j5kig+WzxsxDeYsgLZcggbAMDaPpVxNIn+wahBLeKZL6Qu8kcW0ICqqQBk9l6571q0Ue0kHs43uYbeGkiEi2M7Ro5Rts7SSlWUFdytvDA4IHBGNtTWuivBJC8t20zxzLKzMnLkQ+Vyc9+ufw961qKPaSe7BU4rZBRRRUFhRRRQAUUUUAFFFFABRRRQAUUUUAFFFFABRRRQAUUUUAFFFFABRRRQAUUUUAFFFFABRRRQAUUUUAFFFFABRRRQAUUUUAFFFFABRRRQAUUUUAFFFFABRRRQAUUUUAFFFFABRRRQAUUUUAFFFFABRRRQAUUUUAFFFFABRRRQAUUUUAFFFFABRRRQAUUUUAFR23/HrF/uD+VSVHbf8esX+4P5UAFv/AKs/77/+hGpKjt/9Wf8Aff8A9CNSUARXU3kWzSbgp4CkqW5JwOByeTVGK9upT5H7pJvNKb2jOMBQ33d3Xn1/wrRkjSWNklRXRhgqwyDURsrUwmE20JiJ3FDGME+uKAKMF1cvCqJLEGxI7O4LZAcjA5GPrzjip1nnXR7eSHDzNGn3uc5Ayeoz+dWHs7aRUV7eJlQ5QFAQp9R6U94IpIfKeJGjwBsKgjjpxQBnjU38iZ90beVbtIW2lfmUkEEE8dOn60fariO4uXEkZiSdEMbAlvmVOhzx1zjBzVxrK1dUVraFljGEBjGF+npTjaW7TiZoIjKpyHKDcO3WgCgt5eyuoRrdRIZQuYmO3Y2OfmGc/hSC9uHLNAi72jhbBy2N24nC7hnp2wfrWkIY1xiNBjOMKOM9fzprWtu6FHgjZSAMFARgdPyoAonUJsQurR+TtHmSeUx53YIxnK9O4P6UR3VwzSRwNFGVaVi0oZsgPjA+bj+Q9KumztiYybeImIYT5B8n09KJLO2mUCW3icBiwDIDgnqfrQBRGo3DjzlWNYlMW5GUliHx3zxjPpVu5mmFxFBA0aM6s5aRSwwMcYBHr+lTGKM7sxqdxBOVHJHSkmt4blQtxFHKoOQHUNg+vNAGVHqF19li8kK7LbrKxYF9+c8ZyMdOvPWpVurpJL3fKmBOscKmIkrlFOODz1Pp9avPZ20oQSW8TiP7m5Adv09KWS1t5SxlgjcuAGLIDux0z9KBmTPfTvbSFvkkWCbLISuCrAZwCQP1PvV6O6mOoGKbYsbEiMBD82P9rOPXggH8qsC1t1TYsEQXBXaEGMHqKVbaBJzMsMayt1cKNx/GgkkooooGFFFFABRRRQAUUUUAFFFFABRRRQAUUUUAFFFFABRRRQAUUUUAFFFFABRRRQAUUUUAFFFFABRRRQAUUUUAFFFFABRRRQAUUUUAFFFFABRRRQAUUUUAFFFFABRRRQAUUUUAFFFFABRRRQAUUUUAFFFFABRRRQAUUUUAFFFFABRRRQAUUUUAFFFFABRRRQAUUUUAFFFFABUdt/x6xf7g/lUlR23/AB6xf7g/lQA2GRFRgWUHe/BP+0ak82P++v5023/1Z/33/wDQjUlADfNj/vr+dHmx/wB9fzp1FADfNj/vr+dHmx/31/OnUUAN82P++v50ebH/AH1/OnUUAN82P++v50ebH/fX86dRQA3zY/76/nR5sf8AfX86dRQA3zY/76/nR5sf99fzp1FADfNj/vr+dHmx/wB9fzp1FADfNj/vr+dHmx/31/OnUUAN82P++v50ebH/AH1/OnUUAN82P++v50ebH/fX86dRQA3zY/76/nR5sf8AfX86dRQA3zY/76/nR5sf99fzp1FADfNj/vr+dHmx/wB9fzp1FADfNj/vr+dHmx/31/OnUUAN82P++v50ebH/AH1/OnUUAN82P++v50ebH/fX86dRQA3zY/76/nR5sf8AfX86dRQA3zY/76/nR5sf99fzp1FADfNj/vr+dHmx/wB9fzp1FADfNj/vr+dHmx/31/OnUUAN82P++v50ebH/AH1/OnUUAN82P++v50ebH/fX86dRQA3zY/76/nR5sf8AfX86dRQA3zY/76/nR5sf99fzp1FADfNj/vr+dHmx/wB9fzp1FADfNj/vr+dHmx/31/OnUUAN82P++v50ebH/AH1/OnUUAN82P++v50ebH/fX86dRQA3zY/76/nR5sf8AfX86dRQA3zY/76/nR5sf99fzp1FADfNj/vr+dHmx/wB9fzp1FADfNj/vr+dHmx/31/OnUUAN82P++v50ebH/AH1/OnUUAN82P++v50ebH/fX86dRQA3zY/76/nR5sf8AfX86dRQA3zY/76/nR5sf99fzp1FADfNj/vr+dHmx/wB9fzp1FADfNj/vr+dHmx/31/OnUUAN82P++v50ebH/AH1/OnUUAN82P++v50ebH/fX86dRQA3zY/76/nR5sf8AfX86dRQA3zY/76/nR5sf99fzp1FADfNj/vr+dHmx/wB9fzp1FADfNj/vr+dHmx/31/OnUUAN82P++v50ebH/AH1/OnUUAN82P++v50ebH/fX86dRQA3zY/76/nTbb/j1i/3B/KpKjtv+PWL/AHB/KgAt/wDVn/ff/wBCNSUUUAFFFFABRRRQAUUUUAFFFFABRRRQAUUUUAFFFFABRRRQAUUUUAFFFFABRRRQAUUUUAFFFFABRRRQAUUUUAFFFFABRRRQAUUUUAFFFFABRRRQAUUUUAFFFFABRRRQAUUUUAFFFFABRRRQAUUUUAFFFFABRRRQAUUUUAFFFFABRRRQAUUUUAFFFFABRRRQAUUUUAFFFFABRRRQAUUUUAFFFFABRRRQAUUUUAFFFFABRRRQAUUUUAFFFFABUdt/x6xf7g/lRRQB/9k=)"
      ]
    },
    {
      "cell_type": "markdown",
      "id": "000e2b35",
      "metadata": {
        "papermill": {
          "duration": 0.078956,
          "end_time": "2021-10-15T06:03:17.631053",
          "exception": false,
          "start_time": "2021-10-15T06:03:17.552097",
          "status": "completed"
        },
        "tags": [],
        "id": "000e2b35"
      },
      "source": [
        "NB: You May get different results as we did some tuning and engineering to data after these submissions."
      ]
    },
    {
      "cell_type": "markdown",
      "id": "2d44929e",
      "metadata": {
        "id": "2d44929e",
        "papermill": {
          "duration": 0.079642,
          "end_time": "2021-10-15T06:03:17.791142",
          "exception": false,
          "start_time": "2021-10-15T06:03:17.711500",
          "status": "completed"
        },
        "tags": []
      },
      "source": [
        "# Insights\n",
        "\n",
        "During this project, I gained some valuable insight which I would like to share with you. \n",
        "\n",
        "*   You have to always carefully observe to understand the imbalance in target data in classification problem.\n",
        "*   Accuracy score doesnt give the true picture about your model in classification problem. You should use precision-recall curve, ROC-AUC curve and confusion metrics to understand the weaknesses of your model better.\n",
        "\n"
      ]
    },
    {
      "cell_type": "markdown",
      "id": "22a9b5ad",
      "metadata": {
        "id": "22a9b5ad",
        "papermill": {
          "duration": 0.080528,
          "end_time": "2021-10-15T06:03:17.951969",
          "exception": false,
          "start_time": "2021-10-15T06:03:17.871441",
          "status": "completed"
        },
        "tags": []
      },
      "source": [
        "# Results & Conclusion"
      ]
    },
    {
      "cell_type": "markdown",
      "id": "1b71f897",
      "metadata": {
        "id": "1b71f897",
        "papermill": {
          "duration": 0.079806,
          "end_time": "2021-10-15T06:03:18.112172",
          "exception": false,
          "start_time": "2021-10-15T06:03:18.032366",
          "status": "completed"
        },
        "tags": []
      },
      "source": [
        "1. The model that performed best in our project is XGboost.\n",
        "2. ROC AUC scores increased while we deliberately balanced our data. \n",
        "3. In case of, logistic Regression & Random forest models we got improved ROC AUC score when submitted to competition.\n",
        "4. XGboost Model performed better with the untouched data in competition. \n",
        "5. Feature scaling improved the performance of our models. \n",
        "6. We thought, removing values greater than 17 in \"NumberOfTimes90DaysLate\" column would improve ROC AUC score. While it improved score in Logistic Regression model but failed to do well in other two models. "
      ]
    },
    {
      "cell_type": "markdown",
      "id": "272a07c4",
      "metadata": {
        "id": "272a07c4",
        "papermill": {
          "duration": 0.079778,
          "end_time": "2021-10-15T06:03:18.271586",
          "exception": false,
          "start_time": "2021-10-15T06:03:18.191808",
          "status": "completed"
        },
        "tags": []
      },
      "source": [
        "# Recommendation for further works\n",
        "\n",
        "1. Some other models can be applied such as LightGbm, decision tree classifier to check their performance in the data.\n",
        "2. It can be checked how the model performs without removing the values greater than 17 in \"NumberOfTimes90DaysLate\" column. We checked it and got better accuracy in some of the models. \n",
        "3. While imputing missing values in Monthly Income, Median instead of Mode can be tried to see the performance. "
      ]
    },
    {
      "cell_type": "markdown",
      "id": "85ea21bc",
      "metadata": {
        "id": "85ea21bc",
        "papermill": {
          "duration": 0.079509,
          "end_time": "2021-10-15T06:03:18.431964",
          "exception": false,
          "start_time": "2021-10-15T06:03:18.352455",
          "status": "completed"
        },
        "tags": []
      },
      "source": [
        "# Reference & Important Links\n",
        "\n",
        "1.https://machinelearningmastery.com/imbalanced-classification-with-python-7-day-mini-course/\n",
        "\n",
        "2.https://machinelearningmastery.com/threshold-moving-for-imbalanced-classification/"
      ]
    }
  ],
  "metadata": {
    "kernelspec": {
      "display_name": "Python 3",
      "language": "python",
      "name": "python3"
    },
    "language_info": {
      "codemirror_mode": {
        "name": "ipython",
        "version": 3
      },
      "file_extension": ".py",
      "mimetype": "text/x-python",
      "name": "python",
      "nbconvert_exporter": "python",
      "pygments_lexer": "ipython3",
      "version": "3.7.10"
    },
    "papermill": {
      "default_parameters": {},
      "duration": 195.226786,
      "end_time": "2021-10-15T06:03:19.323091",
      "environment_variables": {},
      "exception": null,
      "input_path": "__notebook__.ipynb",
      "output_path": "__notebook__.ipynb",
      "parameters": {},
      "start_time": "2021-10-15T06:00:04.096305",
      "version": "2.3.3"
    },
    "colab": {
      "name": "performance-comparison-with-raw-balanced-data.ipynb",
      "provenance": [],
      "include_colab_link": true
    }
  },
  "nbformat": 4,
  "nbformat_minor": 5
}